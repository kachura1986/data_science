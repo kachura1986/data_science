{
 "cells": [
  {
   "cell_type": "markdown",
   "metadata": {},
   "source": [
    "Сервис по продаже автомобилей с пробегом «Не бит, не крашен» разрабатывает приложение для привлечения новых клиентов. В нём можно быстро узнать рыночную стоимость своего автомобиля. В вашем распоряжении исторические данные: технические характеристики, комплектации и цены автомобилей. Вам нужно построить модель для определения стоимости. \n",
    "\n",
    "Заказчику важны:\n",
    "\n",
    "- качество предсказания;\n",
    "- скорость предсказания;\n",
    "- время обучения.\n",
    "\n",
    "###  Описание данных\n",
    "<b> <i> Признаки </i> </b> <br>\n",
    "<b>DateCrawled</b> — дата скачивания анкеты из базы<br>\n",
    "<b>VehicleType</b> — тип автомобильного кузова<br>\n",
    "<b>RegistrationYear</b> — год регистрации автомобиля<br>\n",
    "<b>Gearbox</b> — тип коробки передач<br>\n",
    "<b>Power</b> — мощность (л. с.)<br>\n",
    "<b>Model</b> — модель автомобиля<br>\n",
    "<b>Kilometer</b> — пробег (км)<br>\n",
    "<b>RegistrationMont</b> — месяц регистрации автомобиля<br>\n",
    "<b>FuelType</b> — тип топлива<br>\n",
    "<b>Brand</b> — марка автомобиля<br>\n",
    "<b>NotRepaired</b> — была машина в ремонте или нет<br>\n",
    "<b>DateCreated</b> — дата создания анкеты<br>\n",
    "<b>NumberOfPictures</b> — количество фотографий автомобиля<br>\n",
    "<b>PostalCode</b> — почтовый индекс владельца анкеты (пользователя)<br>\n",
    "<b>LastSeen</b> — дата последней активности пользователя<br>\n",
    "\n",
    "<b> <i> Целевой признак </i> </b> <br>\n",
    "<b>Price</b> — цена (евро)<br>"
   ]
  },
  {
   "cell_type": "markdown",
   "metadata": {},
   "source": [
    "# Оглавление\n",
    "1. [Загрузка данных и изучение общей информации](#step1)\n",
    "2. [Подготовка данных](#step2)\n",
    "    * [Поиск аномальных значений](#step2_1) \n",
    "    * [Обработка пропусков](#step2_2)\n",
    "    * [Создание обучающей и тестовой выборки](#step2_3)\n",
    "3. [Обучение моделей](#step3)\n",
    "4. [Анализ моделей](#step4)\n",
    "5. [Общий вывод](#step5)"
   ]
  },
  {
   "cell_type": "markdown",
   "metadata": {},
   "source": [
    "<div align='justify'> <i> Загружаем необходимые библиотеки и настраиваем Jupyter."
   ]
  },
  {
   "cell_type": "code",
   "execution_count": 1,
   "metadata": {},
   "outputs": [
    {
     "name": "stderr",
     "output_type": "stream",
     "text": [
      "/opt/conda/lib/python3.7/site-packages/statsmodels/tools/_testing.py:19: FutureWarning: pandas.util.testing is deprecated. Use the functions in the public API at pandas.testing instead.\n",
      "  import pandas.util.testing as tm\n"
     ]
    }
   ],
   "source": [
    "import pandas as pd\n",
    "import seaborn as sns\n",
    "import numpy as np\n",
    "import scipy\n",
    "import math\n",
    "import matplotlib.pyplot as plt\n",
    "import sklearn\n",
    "import catboost\n",
    "import lightgbm as lgb\n",
    "\n",
    "from platform import python_version\n",
    "from datetime import datetime\n",
    "\n",
    "from IPython.display import display\n",
    "import warnings\n",
    "warnings.simplefilter(action = 'ignore', category = RuntimeWarning)\n",
    "warnings.filterwarnings(\"ignore\")\n",
    "\n",
    "from sklearn.preprocessing import StandardScaler\n",
    "from sklearn.preprocessing import LabelEncoder\n",
    "from sklearn.model_selection import train_test_split\n",
    "from sklearn.model_selection import GridSearchCV\n",
    "from lightgbm import LGBMRegressor\n",
    "from sklearn.dummy import DummyRegressor\n",
    "from catboost import CatBoostRegressor\n",
    "from sklearn.metrics import mean_squared_error\n",
    "from sklearn.metrics import r2_score\n",
    "from sklearn.metrics import make_scorer\n",
    "from scipy import stats as st"
   ]
  },
  {
   "cell_type": "markdown",
   "metadata": {},
   "source": [
    "<div align='justify'> <i> Информация о версиях используемых библиотек."
   ]
  },
  {
   "cell_type": "code",
   "execution_count": 2,
   "metadata": {},
   "outputs": [
    {
     "name": "stdout",
     "output_type": "stream",
     "text": [
      "Date: 2020.07.16\n",
      "Python version: 3.7.6\n",
      "Pandas version: 1.0.5\n",
      "Seaborn version: 0.9.0\n",
      "Numpy version: 1.19.0\n",
      "Scipy version: 1.4.1\n",
      "Sklearn version: 0.21.2\n",
      "CatBoost version: 0.20.2\n",
      "LightGBM version: 2.3.1\n"
     ]
    }
   ],
   "source": [
    "current_date = datetime.now().strftime(\"%Y.%m.%d\")\n",
    "print(f'Date: {current_date}')\n",
    "print(f'Python version: {python_version()}')\n",
    "print (f'Pandas version: {pd.__version__}')\n",
    "print (f'Seaborn version: {sns.__version__}')\n",
    "print (f'Numpy version: {np.__version__}')\n",
    "print (f'Scipy version: {scipy.__version__}')\n",
    "print (f'Sklearn version: {sklearn.__version__}')\n",
    "print (f'CatBoost version: {catboost.__version__}')\n",
    "print (f'LightGBM version: {lgb.__version__}')"
   ]
  },
  {
   "cell_type": "markdown",
   "metadata": {},
   "source": [
    "<div align=\"justify\"> <i> Задаем константы и пишем функции, которые будем использовать многократно на протяжении всего проекта."
   ]
  },
  {
   "cell_type": "code",
   "execution_count": 3,
   "metadata": {},
   "outputs": [],
   "source": [
    "# начальное состояние для моделей\n",
    "RANDOM_STATE = 12345\n",
    "\n",
    "# цвета и палетка для графиков\n",
    "COLOR = '#a52a2a'\n",
    "COLOR_LINE = '#e29072'\n",
    "PALETTE='rocket'\n",
    "\n",
    "# функция расчета интервала вывода для гистограмм\n",
    "# column - колонка с набором данных\n",
    "# coeff - коэффициент при интерквартильном размахе\n",
    "def get_range(column, coeff):\n",
    "    iqr = column.quantile(0.75)-column.quantile(0.25)\n",
    "    low = column.quantile(0.25)-coeff*iqr\n",
    "    high = column.quantile(0.75)+coeff*iqr\n",
    "    interval = (low, high)\n",
    "    return interval"
   ]
  },
  {
   "cell_type": "markdown",
   "metadata": {},
   "source": [
    "# 1. Загрузка данных и изучение общей информации <a name=\"step1\"></a>"
   ]
  },
  {
   "cell_type": "markdown",
   "metadata": {},
   "source": [
    "<div align=\"justify\"> <i> Загрузим исторические данные: технические характеристики, комплектации и цены автомобилей, полученные от сервиса по продаже автомобилей с пробегом «Не бит, не крашен»."
   ]
  },
  {
   "cell_type": "code",
   "execution_count": 4,
   "metadata": {},
   "outputs": [],
   "source": [
    "autos = pd.read_csv('/datasets/autos.csv')"
   ]
  },
  {
   "cell_type": "markdown",
   "metadata": {},
   "source": [
    "<div align=\"justify\"> <i> Изучим загруженные данные. <br>"
   ]
  },
  {
   "cell_type": "code",
   "execution_count": 5,
   "metadata": {},
   "outputs": [
    {
     "name": "stdout",
     "output_type": "stream",
     "text": [
      "<class 'pandas.core.frame.DataFrame'>\n",
      "RangeIndex: 354369 entries, 0 to 354368\n",
      "Data columns (total 16 columns):\n",
      " #   Column             Non-Null Count   Dtype \n",
      "---  ------             --------------   ----- \n",
      " 0   DateCrawled        354369 non-null  object\n",
      " 1   Price              354369 non-null  int64 \n",
      " 2   VehicleType        316879 non-null  object\n",
      " 3   RegistrationYear   354369 non-null  int64 \n",
      " 4   Gearbox            334536 non-null  object\n",
      " 5   Power              354369 non-null  int64 \n",
      " 6   Model              334664 non-null  object\n",
      " 7   Kilometer          354369 non-null  int64 \n",
      " 8   RegistrationMonth  354369 non-null  int64 \n",
      " 9   FuelType           321474 non-null  object\n",
      " 10  Brand              354369 non-null  object\n",
      " 11  NotRepaired        283215 non-null  object\n",
      " 12  DateCreated        354369 non-null  object\n",
      " 13  NumberOfPictures   354369 non-null  int64 \n",
      " 14  PostalCode         354369 non-null  int64 \n",
      " 15  LastSeen           354369 non-null  object\n",
      "dtypes: int64(7), object(9)\n",
      "memory usage: 43.3+ MB\n"
     ]
    },
    {
     "data": {
      "text/plain": [
       "None"
      ]
     },
     "metadata": {},
     "output_type": "display_data"
    },
    {
     "data": {
      "text/html": [
       "<div>\n",
       "<style scoped>\n",
       "    .dataframe tbody tr th:only-of-type {\n",
       "        vertical-align: middle;\n",
       "    }\n",
       "\n",
       "    .dataframe tbody tr th {\n",
       "        vertical-align: top;\n",
       "    }\n",
       "\n",
       "    .dataframe thead th {\n",
       "        text-align: right;\n",
       "    }\n",
       "</style>\n",
       "<table border=\"1\" class=\"dataframe\">\n",
       "  <thead>\n",
       "    <tr style=\"text-align: right;\">\n",
       "      <th></th>\n",
       "      <th>DateCrawled</th>\n",
       "      <th>Price</th>\n",
       "      <th>VehicleType</th>\n",
       "      <th>RegistrationYear</th>\n",
       "      <th>Gearbox</th>\n",
       "      <th>Power</th>\n",
       "      <th>Model</th>\n",
       "      <th>Kilometer</th>\n",
       "      <th>RegistrationMonth</th>\n",
       "      <th>FuelType</th>\n",
       "      <th>Brand</th>\n",
       "      <th>NotRepaired</th>\n",
       "      <th>DateCreated</th>\n",
       "      <th>NumberOfPictures</th>\n",
       "      <th>PostalCode</th>\n",
       "      <th>LastSeen</th>\n",
       "    </tr>\n",
       "  </thead>\n",
       "  <tbody>\n",
       "    <tr>\n",
       "      <th>0</th>\n",
       "      <td>2016-03-24 11:52:17</td>\n",
       "      <td>480</td>\n",
       "      <td>NaN</td>\n",
       "      <td>1993</td>\n",
       "      <td>manual</td>\n",
       "      <td>0</td>\n",
       "      <td>golf</td>\n",
       "      <td>150000</td>\n",
       "      <td>0</td>\n",
       "      <td>petrol</td>\n",
       "      <td>volkswagen</td>\n",
       "      <td>NaN</td>\n",
       "      <td>2016-03-24 00:00:00</td>\n",
       "      <td>0</td>\n",
       "      <td>70435</td>\n",
       "      <td>2016-04-07 03:16:57</td>\n",
       "    </tr>\n",
       "    <tr>\n",
       "      <th>1</th>\n",
       "      <td>2016-03-24 10:58:45</td>\n",
       "      <td>18300</td>\n",
       "      <td>coupe</td>\n",
       "      <td>2011</td>\n",
       "      <td>manual</td>\n",
       "      <td>190</td>\n",
       "      <td>NaN</td>\n",
       "      <td>125000</td>\n",
       "      <td>5</td>\n",
       "      <td>gasoline</td>\n",
       "      <td>audi</td>\n",
       "      <td>yes</td>\n",
       "      <td>2016-03-24 00:00:00</td>\n",
       "      <td>0</td>\n",
       "      <td>66954</td>\n",
       "      <td>2016-04-07 01:46:50</td>\n",
       "    </tr>\n",
       "    <tr>\n",
       "      <th>2</th>\n",
       "      <td>2016-03-14 12:52:21</td>\n",
       "      <td>9800</td>\n",
       "      <td>suv</td>\n",
       "      <td>2004</td>\n",
       "      <td>auto</td>\n",
       "      <td>163</td>\n",
       "      <td>grand</td>\n",
       "      <td>125000</td>\n",
       "      <td>8</td>\n",
       "      <td>gasoline</td>\n",
       "      <td>jeep</td>\n",
       "      <td>NaN</td>\n",
       "      <td>2016-03-14 00:00:00</td>\n",
       "      <td>0</td>\n",
       "      <td>90480</td>\n",
       "      <td>2016-04-05 12:47:46</td>\n",
       "    </tr>\n",
       "    <tr>\n",
       "      <th>3</th>\n",
       "      <td>2016-03-17 16:54:04</td>\n",
       "      <td>1500</td>\n",
       "      <td>small</td>\n",
       "      <td>2001</td>\n",
       "      <td>manual</td>\n",
       "      <td>75</td>\n",
       "      <td>golf</td>\n",
       "      <td>150000</td>\n",
       "      <td>6</td>\n",
       "      <td>petrol</td>\n",
       "      <td>volkswagen</td>\n",
       "      <td>no</td>\n",
       "      <td>2016-03-17 00:00:00</td>\n",
       "      <td>0</td>\n",
       "      <td>91074</td>\n",
       "      <td>2016-03-17 17:40:17</td>\n",
       "    </tr>\n",
       "    <tr>\n",
       "      <th>4</th>\n",
       "      <td>2016-03-31 17:25:20</td>\n",
       "      <td>3600</td>\n",
       "      <td>small</td>\n",
       "      <td>2008</td>\n",
       "      <td>manual</td>\n",
       "      <td>69</td>\n",
       "      <td>fabia</td>\n",
       "      <td>90000</td>\n",
       "      <td>7</td>\n",
       "      <td>gasoline</td>\n",
       "      <td>skoda</td>\n",
       "      <td>no</td>\n",
       "      <td>2016-03-31 00:00:00</td>\n",
       "      <td>0</td>\n",
       "      <td>60437</td>\n",
       "      <td>2016-04-06 10:17:21</td>\n",
       "    </tr>\n",
       "  </tbody>\n",
       "</table>\n",
       "</div>"
      ],
      "text/plain": [
       "           DateCrawled  Price VehicleType  RegistrationYear Gearbox  Power  \\\n",
       "0  2016-03-24 11:52:17    480         NaN              1993  manual      0   \n",
       "1  2016-03-24 10:58:45  18300       coupe              2011  manual    190   \n",
       "2  2016-03-14 12:52:21   9800         suv              2004    auto    163   \n",
       "3  2016-03-17 16:54:04   1500       small              2001  manual     75   \n",
       "4  2016-03-31 17:25:20   3600       small              2008  manual     69   \n",
       "\n",
       "   Model  Kilometer  RegistrationMonth  FuelType       Brand NotRepaired  \\\n",
       "0   golf     150000                  0    petrol  volkswagen         NaN   \n",
       "1    NaN     125000                  5  gasoline        audi         yes   \n",
       "2  grand     125000                  8  gasoline        jeep         NaN   \n",
       "3   golf     150000                  6    petrol  volkswagen          no   \n",
       "4  fabia      90000                  7  gasoline       skoda          no   \n",
       "\n",
       "           DateCreated  NumberOfPictures  PostalCode             LastSeen  \n",
       "0  2016-03-24 00:00:00                 0       70435  2016-04-07 03:16:57  \n",
       "1  2016-03-24 00:00:00                 0       66954  2016-04-07 01:46:50  \n",
       "2  2016-03-14 00:00:00                 0       90480  2016-04-05 12:47:46  \n",
       "3  2016-03-17 00:00:00                 0       91074  2016-03-17 17:40:17  \n",
       "4  2016-03-31 00:00:00                 0       60437  2016-04-06 10:17:21  "
      ]
     },
     "metadata": {},
     "output_type": "display_data"
    },
    {
     "data": {
      "text/html": [
       "<div>\n",
       "<style scoped>\n",
       "    .dataframe tbody tr th:only-of-type {\n",
       "        vertical-align: middle;\n",
       "    }\n",
       "\n",
       "    .dataframe tbody tr th {\n",
       "        vertical-align: top;\n",
       "    }\n",
       "\n",
       "    .dataframe thead th {\n",
       "        text-align: right;\n",
       "    }\n",
       "</style>\n",
       "<table border=\"1\" class=\"dataframe\">\n",
       "  <thead>\n",
       "    <tr style=\"text-align: right;\">\n",
       "      <th></th>\n",
       "      <th>Price</th>\n",
       "      <th>RegistrationYear</th>\n",
       "      <th>Power</th>\n",
       "      <th>Kilometer</th>\n",
       "      <th>RegistrationMonth</th>\n",
       "      <th>NumberOfPictures</th>\n",
       "      <th>PostalCode</th>\n",
       "    </tr>\n",
       "  </thead>\n",
       "  <tbody>\n",
       "    <tr>\n",
       "      <th>count</th>\n",
       "      <td>354369.000000</td>\n",
       "      <td>354369.000000</td>\n",
       "      <td>354369.000000</td>\n",
       "      <td>354369.000000</td>\n",
       "      <td>354369.000000</td>\n",
       "      <td>354369.0</td>\n",
       "      <td>354369.000000</td>\n",
       "    </tr>\n",
       "    <tr>\n",
       "      <th>mean</th>\n",
       "      <td>4416.656776</td>\n",
       "      <td>2004.234448</td>\n",
       "      <td>110.094337</td>\n",
       "      <td>128211.172535</td>\n",
       "      <td>5.714645</td>\n",
       "      <td>0.0</td>\n",
       "      <td>50508.689087</td>\n",
       "    </tr>\n",
       "    <tr>\n",
       "      <th>std</th>\n",
       "      <td>4514.158514</td>\n",
       "      <td>90.227958</td>\n",
       "      <td>189.850405</td>\n",
       "      <td>37905.341530</td>\n",
       "      <td>3.726421</td>\n",
       "      <td>0.0</td>\n",
       "      <td>25783.096248</td>\n",
       "    </tr>\n",
       "    <tr>\n",
       "      <th>min</th>\n",
       "      <td>0.000000</td>\n",
       "      <td>1000.000000</td>\n",
       "      <td>0.000000</td>\n",
       "      <td>5000.000000</td>\n",
       "      <td>0.000000</td>\n",
       "      <td>0.0</td>\n",
       "      <td>1067.000000</td>\n",
       "    </tr>\n",
       "    <tr>\n",
       "      <th>25%</th>\n",
       "      <td>1050.000000</td>\n",
       "      <td>1999.000000</td>\n",
       "      <td>69.000000</td>\n",
       "      <td>125000.000000</td>\n",
       "      <td>3.000000</td>\n",
       "      <td>0.0</td>\n",
       "      <td>30165.000000</td>\n",
       "    </tr>\n",
       "    <tr>\n",
       "      <th>50%</th>\n",
       "      <td>2700.000000</td>\n",
       "      <td>2003.000000</td>\n",
       "      <td>105.000000</td>\n",
       "      <td>150000.000000</td>\n",
       "      <td>6.000000</td>\n",
       "      <td>0.0</td>\n",
       "      <td>49413.000000</td>\n",
       "    </tr>\n",
       "    <tr>\n",
       "      <th>75%</th>\n",
       "      <td>6400.000000</td>\n",
       "      <td>2008.000000</td>\n",
       "      <td>143.000000</td>\n",
       "      <td>150000.000000</td>\n",
       "      <td>9.000000</td>\n",
       "      <td>0.0</td>\n",
       "      <td>71083.000000</td>\n",
       "    </tr>\n",
       "    <tr>\n",
       "      <th>max</th>\n",
       "      <td>20000.000000</td>\n",
       "      <td>9999.000000</td>\n",
       "      <td>20000.000000</td>\n",
       "      <td>150000.000000</td>\n",
       "      <td>12.000000</td>\n",
       "      <td>0.0</td>\n",
       "      <td>99998.000000</td>\n",
       "    </tr>\n",
       "  </tbody>\n",
       "</table>\n",
       "</div>"
      ],
      "text/plain": [
       "               Price  RegistrationYear          Power      Kilometer  \\\n",
       "count  354369.000000     354369.000000  354369.000000  354369.000000   \n",
       "mean     4416.656776       2004.234448     110.094337  128211.172535   \n",
       "std      4514.158514         90.227958     189.850405   37905.341530   \n",
       "min         0.000000       1000.000000       0.000000    5000.000000   \n",
       "25%      1050.000000       1999.000000      69.000000  125000.000000   \n",
       "50%      2700.000000       2003.000000     105.000000  150000.000000   \n",
       "75%      6400.000000       2008.000000     143.000000  150000.000000   \n",
       "max     20000.000000       9999.000000   20000.000000  150000.000000   \n",
       "\n",
       "       RegistrationMonth  NumberOfPictures     PostalCode  \n",
       "count      354369.000000          354369.0  354369.000000  \n",
       "mean            5.714645               0.0   50508.689087  \n",
       "std             3.726421               0.0   25783.096248  \n",
       "min             0.000000               0.0    1067.000000  \n",
       "25%             3.000000               0.0   30165.000000  \n",
       "50%             6.000000               0.0   49413.000000  \n",
       "75%             9.000000               0.0   71083.000000  \n",
       "max            12.000000               0.0   99998.000000  "
      ]
     },
     "metadata": {},
     "output_type": "display_data"
    }
   ],
   "source": [
    "display(autos.info())\n",
    "display(autos.head())\n",
    "display(autos.describe())"
   ]
  },
  {
   "cell_type": "markdown",
   "metadata": {},
   "source": [
    "### Вывод"
   ]
  },
  {
   "cell_type": "markdown",
   "metadata": {},
   "source": [
    "<div style = \"border:solid #a1b5c9 2px; padding: 20px; background: #f0f0f0\" align=\"justify\">Рассмотрев исходные данные можно сделать следующие выводы:<br>\n",
    "1. В столбцах 'VehicleType', 'Gearbox', 'Model', 'FuelType', 'NotRepaired' имеются пропуски. Необходимо проанализировать и при необходимотси обработать их. <br>\n",
    "2. В таблице есть столбцы с датами 'DateCrawled', 'DateCreated', 'LastSeen'. Значения в этих столбцах не соответствуют форматам данных, записанных в них.<br>\n",
    "3. В столбце 'NumberOfPictures' только нулевые значения. Возможно что-то случилось при выгрузке данных.<br>\n",
    "4. В столбцах 'Price', 'RegistrationYear', 'Power', 'Kilometer', 'RegistrationMonth' есть аномальные значения. Так есть год регистрации 1000, чего быть не может. Необходимо проанализировать такие аномальные значения и обработать их.<br>\n",
    "\n",
    "Как следствие, требуется выполнить предобработку данных для последующего анализа и построения модели."
   ]
  },
  {
   "cell_type": "markdown",
   "metadata": {},
   "source": [
    "# 2. Подготовка данных <a name=\"step2\"></a>"
   ]
  },
  {
   "cell_type": "markdown",
   "metadata": {},
   "source": [
    "## Поиск аномальных значений <a name=\"step2_1\"></a>"
   ]
  },
  {
   "cell_type": "markdown",
   "metadata": {},
   "source": [
    "<div align=\"justify\"> <i> В столбце 'NumberOfPictures' только нулевые значения. Удалим его, т.к. он неинформативен для нас. При этом создадим новую таблицу и будем корректировать ее в дальнейшем."
   ]
  },
  {
   "cell_type": "code",
   "execution_count": 6,
   "metadata": {},
   "outputs": [
    {
     "data": {
      "text/plain": [
       "0"
      ]
     },
     "metadata": {},
     "output_type": "display_data"
    },
    {
     "name": "stdout",
     "output_type": "stream",
     "text": [
      "<class 'pandas.core.frame.DataFrame'>\n",
      "RangeIndex: 354369 entries, 0 to 354368\n",
      "Data columns (total 16 columns):\n",
      " #   Column             Non-Null Count   Dtype \n",
      "---  ------             --------------   ----- \n",
      " 0   DateCrawled        354369 non-null  object\n",
      " 1   Price              354369 non-null  int64 \n",
      " 2   VehicleType        316879 non-null  object\n",
      " 3   RegistrationYear   354369 non-null  int64 \n",
      " 4   Gearbox            334536 non-null  object\n",
      " 5   Power              354369 non-null  int64 \n",
      " 6   Model              334664 non-null  object\n",
      " 7   Kilometer          354369 non-null  int64 \n",
      " 8   RegistrationMonth  354369 non-null  int64 \n",
      " 9   FuelType           321474 non-null  object\n",
      " 10  Brand              354369 non-null  object\n",
      " 11  NotRepaired        283215 non-null  object\n",
      " 12  DateCreated        354369 non-null  object\n",
      " 13  NumberOfPictures   354369 non-null  int64 \n",
      " 14  PostalCode         354369 non-null  int64 \n",
      " 15  LastSeen           354369 non-null  object\n",
      "dtypes: int64(7), object(9)\n",
      "memory usage: 43.3+ MB\n"
     ]
    },
    {
     "data": {
      "text/plain": [
       "None"
      ]
     },
     "metadata": {},
     "output_type": "display_data"
    }
   ],
   "source": [
    "display(autos['NumberOfPictures'].sum())\n",
    "\n",
    "autos_cor = autos.drop(['NumberOfPictures'], axis=1)\n",
    "display(autos.info())"
   ]
  },
  {
   "cell_type": "markdown",
   "metadata": {},
   "source": [
    "<div align=\"justify\"> <i> Столбцы  'DateCrawled', 'DateCreated', 'LastSeen' не соответствуют формату данных, записанных в них. Преобразуем их."
   ]
  },
  {
   "cell_type": "code",
   "execution_count": 7,
   "metadata": {},
   "outputs": [
    {
     "name": "stdout",
     "output_type": "stream",
     "text": [
      "<class 'pandas.core.frame.DataFrame'>\n",
      "RangeIndex: 354369 entries, 0 to 354368\n",
      "Data columns (total 16 columns):\n",
      " #   Column             Non-Null Count   Dtype \n",
      "---  ------             --------------   ----- \n",
      " 0   DateCrawled        354369 non-null  object\n",
      " 1   Price              354369 non-null  int64 \n",
      " 2   VehicleType        316879 non-null  object\n",
      " 3   RegistrationYear   354369 non-null  int64 \n",
      " 4   Gearbox            334536 non-null  object\n",
      " 5   Power              354369 non-null  int64 \n",
      " 6   Model              334664 non-null  object\n",
      " 7   Kilometer          354369 non-null  int64 \n",
      " 8   RegistrationMonth  354369 non-null  int64 \n",
      " 9   FuelType           321474 non-null  object\n",
      " 10  Brand              354369 non-null  object\n",
      " 11  NotRepaired        283215 non-null  object\n",
      " 12  DateCreated        354369 non-null  object\n",
      " 13  NumberOfPictures   354369 non-null  int64 \n",
      " 14  PostalCode         354369 non-null  int64 \n",
      " 15  LastSeen           354369 non-null  object\n",
      "dtypes: int64(7), object(9)\n",
      "memory usage: 43.3+ MB\n"
     ]
    }
   ],
   "source": [
    "for column in ['DateCrawled', 'DateCreated', 'LastSeen']:\n",
    "    autos_cor[column] = pd.to_datetime(autos_cor[column], format='%Y-%m-%d %H:%M:%S')\n",
    "\n",
    "autos.info()"
   ]
  },
  {
   "cell_type": "markdown",
   "metadata": {},
   "source": [
    "<div align=\"justify\"> <i> Рассмотрим распределение в столбце 'RegistrationYear'."
   ]
  },
  {
   "cell_type": "code",
   "execution_count": 8,
   "metadata": {},
   "outputs": [
    {
     "data": {
      "image/png": "[encoded data removed]",
      "text/plain": [
       "<Figure size 432x288 with 1 Axes>"
      ]
     },
     "metadata": {
      "needs_background": "light"
     },
     "output_type": "display_data"
    }
   ],
   "source": [
    "ax = sns.distplot(autos_cor['RegistrationYear'],\n",
    "                  kde_kws={'color':COLOR},\n",
    "                  hist_kws={'color':COLOR});\n",
    "ax.set(xlabel='RegistrationYear')\n",
    "plt.show()"
   ]
  },
  {
   "cell_type": "markdown",
   "metadata": {},
   "source": [
    "<div align=\"justify\"> <i> Есть аномальные значения и 1000 и 10000, чего быть не может.<br>\n",
    "C помощью диаграмм размаха оценим границы значений в столбце 'RegistrationYear'."
   ]
  },
  {
   "cell_type": "code",
   "execution_count": 9,
   "metadata": {},
   "outputs": [
    {
     "data": {
      "image/png": "[encoded data removed]",
      "text/plain": [
       "<Figure size 432x288 with 1 Axes>"
      ]
     },
     "metadata": {
      "needs_background": "light"
     },
     "output_type": "display_data"
    }
   ],
   "source": [
    "ax = sns.boxplot(y=autos_cor['RegistrationYear'], width=0.2, color=COLOR)\n",
    "ax.set(ylim=get_range(autos_cor['RegistrationYear'], 3))\n",
    "plt.show()"
   ]
  },
  {
   "cell_type": "markdown",
   "metadata": {},
   "source": [
    "<div align=\"justify\"> <i> Сейчас 2020 год, соотвественно значения выше являются ошибочными. По диаграмме размаха нижняя граница ~1985.  Скорей всего бизнес-модель рассчитана только на массовые авто. Не будем использовать ретромашины в модели, т.к. не будем ими торговать. Посмотрим сколько таких значений от начального числа всех машин."
   ]
  },
  {
   "cell_type": "code",
   "execution_count": 10,
   "metadata": {},
   "outputs": [
    {
     "data": {
      "text/plain": [
       "1.454416159427038"
      ]
     },
     "execution_count": 10,
     "metadata": {},
     "output_type": "execute_result"
    }
   ],
   "source": [
    "len(autos_cor[(autos_cor['RegistrationYear']<1984)|(autos_cor['RegistrationYear']>2020)])/len(autos)*100"
   ]
  },
  {
   "cell_type": "markdown",
   "metadata": {},
   "source": [
    "<div align=\"justify\"> <i> Меньше 1.5 %. Пока заменим их на np.NaN."
   ]
  },
  {
   "cell_type": "code",
   "execution_count": 11,
   "metadata": {},
   "outputs": [
    {
     "name": "stdout",
     "output_type": "stream",
     "text": [
      "<class 'pandas.core.frame.DataFrame'>\n",
      "RangeIndex: 354369 entries, 0 to 354368\n",
      "Data columns (total 15 columns):\n",
      " #   Column             Non-Null Count   Dtype         \n",
      "---  ------             --------------   -----         \n",
      " 0   DateCrawled        354369 non-null  datetime64[ns]\n",
      " 1   Price              354369 non-null  int64         \n",
      " 2   VehicleType        316879 non-null  object        \n",
      " 3   RegistrationYear   349215 non-null  float64       \n",
      " 4   Gearbox            334536 non-null  object        \n",
      " 5   Power              354369 non-null  int64         \n",
      " 6   Model              334664 non-null  object        \n",
      " 7   Kilometer          354369 non-null  int64         \n",
      " 8   RegistrationMonth  354369 non-null  int64         \n",
      " 9   FuelType           321474 non-null  object        \n",
      " 10  Brand              354369 non-null  object        \n",
      " 11  NotRepaired        283215 non-null  object        \n",
      " 12  DateCreated        354369 non-null  datetime64[ns]\n",
      " 13  PostalCode         354369 non-null  int64         \n",
      " 14  LastSeen           354369 non-null  datetime64[ns]\n",
      "dtypes: datetime64[ns](3), float64(1), int64(5), object(6)\n",
      "memory usage: 40.6+ MB\n"
     ]
    },
    {
     "data": {
      "text/plain": [
       "None"
      ]
     },
     "metadata": {},
     "output_type": "display_data"
    },
    {
     "data": {
      "image/png": "[encoded data removed]",
      "text/plain": [
       "<Figure size 432x288 with 1 Axes>"
      ]
     },
     "metadata": {
      "needs_background": "light"
     },
     "output_type": "display_data"
    }
   ],
   "source": [
    "autos_cor.loc[(autos_cor['RegistrationYear']<1984)|(autos_cor['RegistrationYear']>2020), ['RegistrationYear']] = np.NaN\n",
    "display(autos_cor.info())\n",
    "\n",
    "ax = sns.distplot(autos_cor[autos_cor['RegistrationYear'].notnull()]['RegistrationYear'],\n",
    "                  kde_kws={'color':COLOR},\n",
    "                  hist_kws={'color':COLOR});\n",
    "ax.set(xlabel='RegistrationYear')\n",
    "plt.show()"
   ]
  },
  {
   "cell_type": "markdown",
   "metadata": {},
   "source": [
    "<div align=\"justify\"> <i> В данных явная бимодальность (три горба). Это значит, что выборка наша - состоит как минимум из трёх однородных выборок. Видно, что есть три средних уровня: в районе 1997, 2006-х и в районе 2016."
   ]
  },
  {
   "cell_type": "markdown",
   "metadata": {},
   "source": [
    "<div align=\"justify\"> <i> Рассмотрим распределение в столбце 'Power'."
   ]
  },
  {
   "cell_type": "code",
   "execution_count": 12,
   "metadata": {
    "scrolled": true
   },
   "outputs": [
    {
     "data": {
      "image/png": "[encoded data removed]",
      "text/plain": [
       "<Figure size 432x288 with 1 Axes>"
      ]
     },
     "metadata": {
      "needs_background": "light"
     },
     "output_type": "display_data"
    }
   ],
   "source": [
    "ax = sns.distplot(autos_cor['Power'],\n",
    "                  kde_kws={'color':COLOR},\n",
    "                  hist_kws={'color':COLOR});\n",
    "ax.set(xlabel='Power')\n",
    "plt.show()"
   ]
  },
  {
   "cell_type": "markdown",
   "metadata": {},
   "source": [
    "<div align=\"justify\"> <i> Есть аномальные значения и 0 и 20000, чего быть не может.<br>\n",
    "C помощью диаграмм размаха оценим границы значений в столбце 'Power'."
   ]
  },
  {
   "cell_type": "code",
   "execution_count": 13,
   "metadata": {},
   "outputs": [
    {
     "data": {
      "image/png": "[encoded data removed]",
      "text/plain": [
       "<Figure size 432x288 with 1 Axes>"
      ]
     },
     "metadata": {
      "needs_background": "light"
     },
     "output_type": "display_data"
    }
   ],
   "source": [
    "ax = sns.boxplot(y=autos_cor['Power'], width=0.2, color=COLOR)\n",
    "ax.set(ylim=get_range(autos_cor['Power'], 3))\n",
    "plt.show()"
   ]
  },
  {
   "cell_type": "markdown",
   "metadata": {},
   "source": [
    "<div align=\"justify\"> <i> Есть маломощные машины с 4.2 л.с. (Peel P50). Возьмем нижнюю границу 4. По диаграмме размаха верхняя граница ~250. Самый мощный автомобиль 5000 л.с. (Devel Sixteen). Посмотрим сколько значений от начального числа всех машин с верхними границами 250 и 5000."
   ]
  },
  {
   "cell_type": "code",
   "execution_count": 14,
   "metadata": {},
   "outputs": [
    {
     "data": {
      "text/plain": [
       "13.469293307258818"
      ]
     },
     "metadata": {},
     "output_type": "display_data"
    },
    {
     "data": {
      "text/plain": [
       "11.389258089731326"
      ]
     },
     "metadata": {},
     "output_type": "display_data"
    }
   ],
   "source": [
    "display(len(autos_cor[(autos_cor['Power']<4)|(autos_cor['Power']>250)])/len(autos)*100)\n",
    "display(len(autos_cor[(autos_cor['Power']<4)|(autos_cor['Power']>5000)])/len(autos)*100)"
   ]
  },
  {
   "cell_type": "markdown",
   "metadata": {},
   "source": [
    "<div align=\"justify\"> <i> Разница небольшая, и компания наверно не торгует поддерженными суперкарами, т.к. максимальная цена 20000. Поэтому оставим значения в интервале от 4 до 250, остальные заменим на np.NaN."
   ]
  },
  {
   "cell_type": "code",
   "execution_count": 15,
   "metadata": {},
   "outputs": [
    {
     "name": "stdout",
     "output_type": "stream",
     "text": [
      "<class 'pandas.core.frame.DataFrame'>\n",
      "RangeIndex: 354369 entries, 0 to 354368\n",
      "Data columns (total 15 columns):\n",
      " #   Column             Non-Null Count   Dtype         \n",
      "---  ------             --------------   -----         \n",
      " 0   DateCrawled        354369 non-null  datetime64[ns]\n",
      " 1   Price              354369 non-null  int64         \n",
      " 2   VehicleType        316879 non-null  object        \n",
      " 3   RegistrationYear   349215 non-null  float64       \n",
      " 4   Gearbox            334536 non-null  object        \n",
      " 5   Power              306638 non-null  float64       \n",
      " 6   Model              334664 non-null  object        \n",
      " 7   Kilometer          354369 non-null  int64         \n",
      " 8   RegistrationMonth  354369 non-null  int64         \n",
      " 9   FuelType           321474 non-null  object        \n",
      " 10  Brand              354369 non-null  object        \n",
      " 11  NotRepaired        283215 non-null  object        \n",
      " 12  DateCreated        354369 non-null  datetime64[ns]\n",
      " 13  PostalCode         354369 non-null  int64         \n",
      " 14  LastSeen           354369 non-null  datetime64[ns]\n",
      "dtypes: datetime64[ns](3), float64(2), int64(4), object(6)\n",
      "memory usage: 40.6+ MB\n"
     ]
    },
    {
     "data": {
      "text/plain": [
       "None"
      ]
     },
     "metadata": {},
     "output_type": "display_data"
    },
    {
     "data": {
      "image/png": "[encoded data removed]",
      "text/plain": [
       "<Figure size 432x288 with 1 Axes>"
      ]
     },
     "metadata": {
      "needs_background": "light"
     },
     "output_type": "display_data"
    }
   ],
   "source": [
    "autos_cor.loc[(autos_cor['Power']<4)|(autos_cor['Power']>250), ['Power']] = np.NaN\n",
    "display(autos_cor.info())\n",
    "\n",
    "ax = sns.distplot(autos_cor[autos_cor['Power'].notnull()]['Power'],\n",
    "                  kde_kws={'color':COLOR},\n",
    "                  hist_kws={'color':COLOR});\n",
    "ax.set(xlabel='Power')\n",
    "plt.show()"
   ]
  },
  {
   "cell_type": "markdown",
   "metadata": {},
   "source": [
    "<div align=\"justify\"> <i> Рассмотрим распределение в столбце 'Price'."
   ]
  },
  {
   "cell_type": "code",
   "execution_count": 16,
   "metadata": {},
   "outputs": [
    {
     "data": {
      "image/png": "[encoded data removed]",
      "text/plain": [
       "<Figure size 432x288 with 1 Axes>"
      ]
     },
     "metadata": {
      "needs_background": "light"
     },
     "output_type": "display_data"
    }
   ],
   "source": [
    "ax = sns.distplot(autos_cor['Price'],\n",
    "                  kde_kws={'color':COLOR},\n",
    "                  hist_kws={'color':COLOR});\n",
    "ax.set(xlabel='Price')\n",
    "plt.show()"
   ]
  },
  {
   "cell_type": "markdown",
   "metadata": {},
   "source": [
    "<div align=\"justify\"> <i> Есть аномальные значения равные 0. Посмотрим сколько таких значений."
   ]
  },
  {
   "cell_type": "code",
   "execution_count": 17,
   "metadata": {},
   "outputs": [
    {
     "data": {
      "text/plain": [
       "3.0397692800442475"
      ]
     },
     "execution_count": 17,
     "metadata": {},
     "output_type": "execute_result"
    }
   ],
   "source": [
    "len(autos_cor[(autos_cor['Price'] == 0)])/len(autos)*100"
   ]
  },
  {
   "cell_type": "markdown",
   "metadata": {},
   "source": [
    "<div align=\"justify\"> <i> Около 3%. Поскольку это целевой признак и таких строк мало, удалим эти строки."
   ]
  },
  {
   "cell_type": "code",
   "execution_count": 18,
   "metadata": {},
   "outputs": [
    {
     "name": "stdout",
     "output_type": "stream",
     "text": [
      "<class 'pandas.core.frame.DataFrame'>\n",
      "RangeIndex: 343597 entries, 0 to 343596\n",
      "Data columns (total 15 columns):\n",
      " #   Column             Non-Null Count   Dtype         \n",
      "---  ------             --------------   -----         \n",
      " 0   DateCrawled        343597 non-null  datetime64[ns]\n",
      " 1   Price              343597 non-null  int64         \n",
      " 2   VehicleType        309847 non-null  object        \n",
      " 3   RegistrationYear   338903 non-null  float64       \n",
      " 4   Gearbox            326242 non-null  object        \n",
      " 5   Power              299940 non-null  float64       \n",
      " 6   Model              326076 non-null  object        \n",
      " 7   Kilometer          343597 non-null  int64         \n",
      " 8   RegistrationMonth  343597 non-null  int64         \n",
      " 9   FuelType           314138 non-null  object        \n",
      " 10  Brand              343597 non-null  object        \n",
      " 11  NotRepaired        277731 non-null  object        \n",
      " 12  DateCreated        343597 non-null  datetime64[ns]\n",
      " 13  PostalCode         343597 non-null  int64         \n",
      " 14  LastSeen           343597 non-null  datetime64[ns]\n",
      "dtypes: datetime64[ns](3), float64(2), int64(4), object(6)\n",
      "memory usage: 39.3+ MB\n"
     ]
    }
   ],
   "source": [
    "autos_cor = autos_cor[(autos_cor['Price'] > 0)]\n",
    "autos_cor.reset_index(drop=True, inplace=True)\n",
    "autos_cor.info()"
   ]
  },
  {
   "cell_type": "markdown",
   "metadata": {},
   "source": [
    "<div align=\"justify\"> <i> Рассмотрим распределение в столбце 'Kilometer'."
   ]
  },
  {
   "cell_type": "code",
   "execution_count": 19,
   "metadata": {},
   "outputs": [
    {
     "data": {
      "image/png": "[encoded data removed]",
      "text/plain": [
       "<Figure size 432x288 with 1 Axes>"
      ]
     },
     "metadata": {
      "needs_background": "light"
     },
     "output_type": "display_data"
    }
   ],
   "source": [
    "ax = sns.distplot(autos_cor['Kilometer'],\n",
    "                  kde_kws={'color':COLOR},\n",
    "                  hist_kws={'color':COLOR});\n",
    "ax.set(xlabel='Kilometer')\n",
    "plt.show()"
   ]
  },
  {
   "cell_type": "markdown",
   "metadata": {},
   "source": [
    "<div align=\"justify\"> <i> Есть значительный выброс равный 150 000 км. Посмотрим сколько таких значений."
   ]
  },
  {
   "cell_type": "code",
   "execution_count": 20,
   "metadata": {},
   "outputs": [
    {
     "data": {
      "text/plain": [
       "65.05563409891948"
      ]
     },
     "execution_count": 20,
     "metadata": {},
     "output_type": "execute_result"
    }
   ],
   "source": [
    "len(autos_cor[(autos_cor['Kilometer'] == 150000)])/len(autos)*100"
   ]
  },
  {
   "cell_type": "markdown",
   "metadata": {},
   "source": [
    "<div align=\"justify\"> <i> На сегодняшний день самой распространненной гарантией на мотор является 150 000 км. Поэтому этот пик такой значительный. Оставляем данный столбец без изменений."
   ]
  },
  {
   "cell_type": "markdown",
   "metadata": {},
   "source": [
    "<div align=\"justify\"> <i> Посмотрим уникальные значения в этом столбце."
   ]
  },
  {
   "cell_type": "code",
   "execution_count": 21,
   "metadata": {},
   "outputs": [
    {
     "data": {
      "text/plain": [
       "array([150000, 125000,  90000,  30000,  70000,   5000, 100000,  60000,\n",
       "        20000,  80000,  50000,  40000,  10000])"
      ]
     },
     "metadata": {},
     "output_type": "display_data"
    }
   ],
   "source": [
    "display(autos_cor['Kilometer'].unique())"
   ]
  },
  {
   "cell_type": "markdown",
   "metadata": {},
   "source": [
    "<div align=\"justify\"> <i> Колонка 'Kilometer' является категориальным признаком."
   ]
  },
  {
   "cell_type": "markdown",
   "metadata": {},
   "source": [
    "<div align=\"justify\"> <i> Рассмотрим распределение в столбце 'RegistrationMonth'."
   ]
  },
  {
   "cell_type": "code",
   "execution_count": 22,
   "metadata": {},
   "outputs": [
    {
     "data": {
      "image/png": "[encoded data removed]",
      "text/plain": [
       "<Figure size 432x288 with 1 Axes>"
      ]
     },
     "metadata": {
      "needs_background": "light"
     },
     "output_type": "display_data"
    }
   ],
   "source": [
    "ax = sns.distplot(autos_cor['RegistrationMonth'],\n",
    "                  kde = False,\n",
    "                  kde_kws={'color':COLOR},\n",
    "                  hist_kws={'color':COLOR});\n",
    "ax.set(xlabel='RegistrationMonth')\n",
    "plt.show()"
   ]
  },
  {
   "cell_type": "markdown",
   "metadata": {},
   "source": [
    "<div align=\"justify\"> <i> Есть аномальные значения равные 0. Посмотрим сколько таких значений."
   ]
  },
  {
   "cell_type": "code",
   "execution_count": 23,
   "metadata": {},
   "outputs": [
    {
     "data": {
      "text/plain": [
       "9.278746165719912"
      ]
     },
     "execution_count": 23,
     "metadata": {},
     "output_type": "execute_result"
    }
   ],
   "source": [
    "len(autos_cor[(autos_cor['RegistrationMonth'] == 0)])/len(autos)*100"
   ]
  },
  {
   "cell_type": "markdown",
   "metadata": {},
   "source": [
    "<div align=\"justify\"> <i> Около 10%. Пока занулим эти значения."
   ]
  },
  {
   "cell_type": "code",
   "execution_count": 24,
   "metadata": {
    "scrolled": false
   },
   "outputs": [
    {
     "name": "stdout",
     "output_type": "stream",
     "text": [
      "<class 'pandas.core.frame.DataFrame'>\n",
      "RangeIndex: 343597 entries, 0 to 343596\n",
      "Data columns (total 15 columns):\n",
      " #   Column             Non-Null Count   Dtype         \n",
      "---  ------             --------------   -----         \n",
      " 0   DateCrawled        343597 non-null  datetime64[ns]\n",
      " 1   Price              343597 non-null  int64         \n",
      " 2   VehicleType        309847 non-null  object        \n",
      " 3   RegistrationYear   338903 non-null  float64       \n",
      " 4   Gearbox            326242 non-null  object        \n",
      " 5   Power              299940 non-null  float64       \n",
      " 6   Model              326076 non-null  object        \n",
      " 7   Kilometer          343597 non-null  int64         \n",
      " 8   RegistrationMonth  310716 non-null  float64       \n",
      " 9   FuelType           314138 non-null  object        \n",
      " 10  Brand              343597 non-null  object        \n",
      " 11  NotRepaired        277731 non-null  object        \n",
      " 12  DateCreated        343597 non-null  datetime64[ns]\n",
      " 13  PostalCode         343597 non-null  int64         \n",
      " 14  LastSeen           343597 non-null  datetime64[ns]\n",
      "dtypes: datetime64[ns](3), float64(3), int64(3), object(6)\n",
      "memory usage: 39.3+ MB\n"
     ]
    },
    {
     "data": {
      "text/plain": [
       "None"
      ]
     },
     "metadata": {},
     "output_type": "display_data"
    },
    {
     "data": {
      "image/png": "[encoded data removed]",
      "text/plain": [
       "<Figure size 432x288 with 1 Axes>"
      ]
     },
     "metadata": {
      "needs_background": "light"
     },
     "output_type": "display_data"
    }
   ],
   "source": [
    "autos_cor.loc[autos_cor['RegistrationMonth']==0, ['RegistrationMonth']] = np.NaN\n",
    "display(autos_cor.info())\n",
    "\n",
    "ax = sns.distplot(autos_cor[autos_cor['RegistrationMonth'].notnull()]['RegistrationMonth'],\n",
    "                  kde = False,\n",
    "                  hist_kws={'color':COLOR})\n",
    "ax.set(xlabel='RegistrationMonth')\n",
    "plt.show()"
   ]
  },
  {
   "cell_type": "markdown",
   "metadata": {},
   "source": [
    "<div align=\"justify\"> <i> Рассмотрим столбцы 'DateCrawled', 'DateCreated', 'LastSeen'."
   ]
  },
  {
   "cell_type": "code",
   "execution_count": 25,
   "metadata": {},
   "outputs": [
    {
     "data": {
      "text/html": [
       "<div>\n",
       "<style scoped>\n",
       "    .dataframe tbody tr th:only-of-type {\n",
       "        vertical-align: middle;\n",
       "    }\n",
       "\n",
       "    .dataframe tbody tr th {\n",
       "        vertical-align: top;\n",
       "    }\n",
       "\n",
       "    .dataframe thead th {\n",
       "        text-align: right;\n",
       "    }\n",
       "</style>\n",
       "<table border=\"1\" class=\"dataframe\">\n",
       "  <thead>\n",
       "    <tr style=\"text-align: right;\">\n",
       "      <th></th>\n",
       "      <th>DateCrawled</th>\n",
       "      <th>DateCreated</th>\n",
       "      <th>LastSeen</th>\n",
       "    </tr>\n",
       "  </thead>\n",
       "  <tbody>\n",
       "    <tr>\n",
       "      <th>count</th>\n",
       "      <td>343597</td>\n",
       "      <td>343597</td>\n",
       "      <td>343597</td>\n",
       "    </tr>\n",
       "    <tr>\n",
       "      <th>unique</th>\n",
       "      <td>265135</td>\n",
       "      <td>109</td>\n",
       "      <td>174543</td>\n",
       "    </tr>\n",
       "    <tr>\n",
       "      <th>top</th>\n",
       "      <td>2016-03-24 14:49:47</td>\n",
       "      <td>2016-04-03 00:00:00</td>\n",
       "      <td>2016-04-06 13:45:54</td>\n",
       "    </tr>\n",
       "    <tr>\n",
       "      <th>freq</th>\n",
       "      <td>7</td>\n",
       "      <td>13342</td>\n",
       "      <td>16</td>\n",
       "    </tr>\n",
       "    <tr>\n",
       "      <th>first</th>\n",
       "      <td>2016-03-05 14:06:22</td>\n",
       "      <td>2014-03-10 00:00:00</td>\n",
       "      <td>2016-03-05 14:15:08</td>\n",
       "    </tr>\n",
       "    <tr>\n",
       "      <th>last</th>\n",
       "      <td>2016-04-07 14:36:58</td>\n",
       "      <td>2016-04-07 00:00:00</td>\n",
       "      <td>2016-04-07 14:58:51</td>\n",
       "    </tr>\n",
       "  </tbody>\n",
       "</table>\n",
       "</div>"
      ],
      "text/plain": [
       "                DateCrawled          DateCreated             LastSeen\n",
       "count                343597               343597               343597\n",
       "unique               265135                  109               174543\n",
       "top     2016-03-24 14:49:47  2016-04-03 00:00:00  2016-04-06 13:45:54\n",
       "freq                      7                13342                   16\n",
       "first   2016-03-05 14:06:22  2014-03-10 00:00:00  2016-03-05 14:15:08\n",
       "last    2016-04-07 14:36:58  2016-04-07 00:00:00  2016-04-07 14:58:51"
      ]
     },
     "execution_count": 25,
     "metadata": {},
     "output_type": "execute_result"
    }
   ],
   "source": [
    "autos_cor[['DateCrawled', 'DateCreated', 'LastSeen']].describe()"
   ]
  },
  {
   "cell_type": "markdown",
   "metadata": {},
   "source": [
    "<div align=\"justify\"> <i> База за два года с 2014-03-10 по 2016-04-07. Аномальных значений на первый взгляд нет."
   ]
  },
  {
   "cell_type": "code",
   "execution_count": 26,
   "metadata": {},
   "outputs": [
    {
     "data": {
      "text/plain": [
       "Index(['DateCrawled', 'Price', 'VehicleType', 'RegistrationYear', 'Gearbox',\n",
       "       'Power', 'Model', 'Kilometer', 'RegistrationMonth', 'FuelType', 'Brand',\n",
       "       'NotRepaired', 'DateCreated', 'PostalCode', 'LastSeen'],\n",
       "      dtype='object')"
      ]
     },
     "execution_count": 26,
     "metadata": {},
     "output_type": "execute_result"
    }
   ],
   "source": [
    "autos_cor.columns"
   ]
  },
  {
   "cell_type": "markdown",
   "metadata": {},
   "source": [
    "<div align=\"justify\"> <i> Посмотрим уникальные значения в этом столбцах 'VehicleType', 'Gearbox', 'Model', 'FuelType', 'Brand', 'NotRepaired'."
   ]
  },
  {
   "cell_type": "code",
   "execution_count": 27,
   "metadata": {},
   "outputs": [
    {
     "data": {
      "text/plain": [
       "array([nan, 'coupe', 'suv', 'small', 'sedan', 'convertible', 'bus',\n",
       "       'wagon', 'other'], dtype=object)"
      ]
     },
     "metadata": {},
     "output_type": "display_data"
    },
    {
     "data": {
      "text/plain": [
       "array(['manual', 'auto', nan], dtype=object)"
      ]
     },
     "metadata": {},
     "output_type": "display_data"
    },
    {
     "data": {
      "text/plain": [
       "array(['golf', nan, 'grand', 'fabia', '3er', '2_reihe', 'c_max',\n",
       "       '3_reihe', 'passat', 'navara', 'ka', 'polo', 'twingo', 'a_klasse',\n",
       "       'scirocco', '5er', 'meriva', 'arosa', 'other', 'c4', 'civic',\n",
       "       'transporter', 'punto', 'e_klasse', 'clio', 'kadett', 'kangoo',\n",
       "       'one', 'fortwo', '1er', 'b_klasse', 'signum', 'astra', 'a8',\n",
       "       'jetta', 'fiesta', 'c_klasse', 'micra', 'vito', 'sprinter', '156',\n",
       "       'escort', 'forester', 'xc_reihe', 'scenic', 'a4', 'a1', 'insignia',\n",
       "       'combo', 'focus', 'tt', 'corsa', 'a6', 'jazz', 'omega', 'slk',\n",
       "       '7er', '80', '147', '100', 'z_reihe', 'sportage', 'sorento', 'v40',\n",
       "       'ibiza', 'mustang', 'eos', 'touran', 'getz', 'a3', 'almera',\n",
       "       'megane', 'lupo', 'r19', 'zafira', 'caddy', 'mondeo', 'cordoba',\n",
       "       'colt', 'impreza', 'vectra', 'berlingo', 'tiguan', 'i_reihe',\n",
       "       'espace', 'sharan', '6_reihe', 'panda', 'up', 'seicento', 'ceed',\n",
       "       '5_reihe', 'yeti', 'octavia', 'mii', 'rx_reihe', '6er', 'modus',\n",
       "       'fox', 'matiz', 'beetle', 'c1', 'rio', 'touareg', 'logan',\n",
       "       'spider', 'cuore', 's_max', 'a2', 'galaxy', 'c3', 'viano',\n",
       "       's_klasse', '1_reihe', 'avensis', 'roomster', 'sl', 'kaefer',\n",
       "       'santa', 'cooper', 'leon', '4_reihe', 'a5', '500', 'laguna',\n",
       "       'ptcruiser', 'clk', 'primera', 'x_reihe', 'exeo', '159', 'transit',\n",
       "       'juke', 'qashqai', 'carisma', 'accord', 'corolla', 'lanos',\n",
       "       'phaeton', 'verso', 'swift', 'rav', 'picanto', 'boxster', 'kalos',\n",
       "       'superb', 'stilo', 'alhambra', 'mx_reihe', 'roadster', 'ypsilon',\n",
       "       'cayenne', 'galant', 'justy', '90', 'sirion', 'crossfire', 'agila',\n",
       "       'duster', 'cr_reihe', 'v50', 'c_reihe', 'v_klasse', 'm_klasse',\n",
       "       'yaris', 'c5', 'aygo', 'cc', 'carnival', 'fusion', '911', 'bora',\n",
       "       'forfour', 'cl', 'tigra', '300c', 'spark', 'v70', 'kuga', 'x_type',\n",
       "       'ducato', 's_type', 'x_trail', 'toledo', 'altea', 'voyager',\n",
       "       'calibra', 'bravo', 'antara', 'tucson', 'citigo', 'jimny',\n",
       "       'wrangler', 'lybra', 'q7', 'lancer', 'captiva', 'c2', 'discovery',\n",
       "       'freelander', 'sandero', 'note', '900', 'cherokee', 'clubman',\n",
       "       'samara', 'defender', '601', 'cx_reihe', 'legacy', 'pajero',\n",
       "       'auris', 'niva', 's60', 'm_reihe', 'nubira', 'vivaro', 'g_klasse',\n",
       "       'lodgy', '850', 'range_rover', 'q3', 'serie_2', 'glk', 'charade',\n",
       "       'croma', 'outlander', 'doblo', 'musa', 'move', '9000', 'v60',\n",
       "       '145', 'aveo', '200', 'b_max', 'range_rover_sport', 'terios',\n",
       "       'rangerover', 'q5', 'range_rover_evoque', 'materia', 'delta', 'gl',\n",
       "       'kalina', 'amarok', 'elefantino', 'i3', 'kappa', 'serie_3',\n",
       "       'serie_1'], dtype=object)"
      ]
     },
     "metadata": {},
     "output_type": "display_data"
    },
    {
     "data": {
      "text/plain": [
       "array(['petrol', 'gasoline', nan, 'lpg', 'other', 'hybrid', 'cng',\n",
       "       'electric'], dtype=object)"
      ]
     },
     "metadata": {},
     "output_type": "display_data"
    },
    {
     "data": {
      "text/plain": [
       "array(['volkswagen', 'audi', 'jeep', 'skoda', 'bmw', 'peugeot', 'ford',\n",
       "       'mazda', 'nissan', 'renault', 'mercedes_benz', 'opel', 'seat',\n",
       "       'citroen', 'honda', 'fiat', 'mini', 'smart', 'hyundai',\n",
       "       'sonstige_autos', 'alfa_romeo', 'subaru', 'volvo', 'mitsubishi',\n",
       "       'kia', 'suzuki', 'lancia', 'toyota', 'chevrolet', 'dacia',\n",
       "       'daihatsu', 'trabant', 'chrysler', 'jaguar', 'daewoo', 'porsche',\n",
       "       'rover', 'saab', 'land_rover', 'lada'], dtype=object)"
      ]
     },
     "metadata": {},
     "output_type": "display_data"
    },
    {
     "data": {
      "text/plain": [
       "array([nan, 'yes', 'no'], dtype=object)"
      ]
     },
     "metadata": {},
     "output_type": "display_data"
    }
   ],
   "source": [
    "for column in ['VehicleType', 'Gearbox', 'Model', 'FuelType', 'Brand', 'NotRepaired']:\n",
    "    display(autos_cor[column].unique())"
   ]
  },
  {
   "cell_type": "markdown",
   "metadata": {},
   "source": [
    "<div align=\"justify\"> <i> В столбцах 'VehicleType', 'Gearbox', 'FuelType', 'Brand', 'NotRepaired' все хорошо и понятно. В столбце 'Model' очень много значений. Возможно придется исключить 'Model' из features для модели или упростить этот признак."
   ]
  },
  {
   "cell_type": "markdown",
   "metadata": {},
   "source": [
    "## Заполнение пустых значений <a name=\"step2_2\"></a>"
   ]
  },
  {
   "cell_type": "markdown",
   "metadata": {},
   "source": [
    "<div align=\"justify\"> <i> Посмотрим сколько у нас всего значений строк с пропущенными значениями."
   ]
  },
  {
   "cell_type": "code",
   "execution_count": 28,
   "metadata": {},
   "outputs": [
    {
     "data": {
      "text/plain": [
       "0.35888846526599477"
      ]
     },
     "execution_count": 28,
     "metadata": {},
     "output_type": "execute_result"
    }
   ],
   "source": [
    "(autos_cor.shape[0] - autos_cor.dropna().shape[0])/len(autos_cor)"
   ]
  },
  {
   "cell_type": "markdown",
   "metadata": {},
   "source": [
    "<div align=\"justify\"> <i> В категориальных признаках есть пропуски. Эти пропуски заполнить практически невозможно. Оставаим их, библитеки CatBoost и LightGBM расценивают их как отдельную категорию.<br>\n",
    "Остались пропуски в столбцах 'RegistrationYear', 'Power' и 'RegistrationMonth'. 'RegistrationMonth' заполнять не будем, так как у нас, есть 'RegistrationYear' и цена будет зависеть не от месяца, а от года автомобиля. Заполним 'RegistrationYear' медианными значениями."
   ]
  },
  {
   "cell_type": "code",
   "execution_count": 29,
   "metadata": {},
   "outputs": [
    {
     "name": "stdout",
     "output_type": "stream",
     "text": [
      "<class 'pandas.core.frame.DataFrame'>\n",
      "RangeIndex: 343597 entries, 0 to 343596\n",
      "Data columns (total 15 columns):\n",
      " #   Column             Non-Null Count   Dtype         \n",
      "---  ------             --------------   -----         \n",
      " 0   DateCrawled        343597 non-null  datetime64[ns]\n",
      " 1   Price              343597 non-null  int64         \n",
      " 2   VehicleType        309847 non-null  object        \n",
      " 3   RegistrationYear   343597 non-null  float64       \n",
      " 4   Gearbox            326242 non-null  object        \n",
      " 5   Power              299940 non-null  float64       \n",
      " 6   Model              326076 non-null  object        \n",
      " 7   Kilometer          343597 non-null  int64         \n",
      " 8   RegistrationMonth  310716 non-null  float64       \n",
      " 9   FuelType           314138 non-null  object        \n",
      " 10  Brand              343597 non-null  object        \n",
      " 11  NotRepaired        277731 non-null  object        \n",
      " 12  DateCreated        343597 non-null  datetime64[ns]\n",
      " 13  PostalCode         343597 non-null  int64         \n",
      " 14  LastSeen           343597 non-null  datetime64[ns]\n",
      "dtypes: datetime64[ns](3), float64(3), int64(3), object(6)\n",
      "memory usage: 39.3+ MB\n"
     ]
    },
    {
     "data": {
      "text/plain": [
       "None"
      ]
     },
     "metadata": {},
     "output_type": "display_data"
    },
    {
     "data": {
      "image/png": "[encoded data removed]",
      "text/plain": [
       "<Figure size 432x288 with 1 Axes>"
      ]
     },
     "metadata": {
      "needs_background": "light"
     },
     "output_type": "display_data"
    }
   ],
   "source": [
    "registrationYear_old = autos_cor[autos_cor['RegistrationYear'].notnull()]['RegistrationYear'].values\n",
    "\n",
    "autos_cor.loc[autos_cor['RegistrationYear'].isnull(), ['RegistrationYear']] = autos_cor['RegistrationYear'].median()\n",
    "display(autos_cor.info())\n",
    "\n",
    "ax = sns.distplot(autos_cor['RegistrationYear'],\n",
    "                  kde_kws={'color':COLOR},\n",
    "                  hist=False,\n",
    "                  label='After fill')\n",
    "\n",
    "ax = sns.distplot(registrationYear_old,\n",
    "                  kde_kws={'color':'blue'},\n",
    "                  hist=False,\n",
    "                  label='Before fill') \n",
    "\n",
    "ax.set(xlabel='RegistrationYear')\n",
    "plt.show()"
   ]
  },
  {
   "cell_type": "markdown",
   "metadata": {},
   "source": [
    "<div align=\"justify\"> <i> Остались пропуски в столбце 'Power'. Заполним его медианным значением в зависимости от типа кузова."
   ]
  },
  {
   "cell_type": "code",
   "execution_count": 30,
   "metadata": {},
   "outputs": [
    {
     "data": {
      "text/plain": [
       "{'bus': 116.0,\n",
       " 'convertible': 125.0,\n",
       " 'coupe': 147.0,\n",
       " 'other': 100.5,\n",
       " 'sedan': 120.0,\n",
       " 'small': 68.0,\n",
       " 'suv': 150.0,\n",
       " 'wagon': 136.0}"
      ]
     },
     "execution_count": 30,
     "metadata": {},
     "output_type": "execute_result"
    }
   ],
   "source": [
    "# для этого создаем словарь из сгруппированных по кузову медианных значений мощности автомобиля\n",
    "powers_median = dict(autos_cor[autos_cor['VehicleType'].notnull()].groupby(['VehicleType'])['Power'].median())\n",
    "powers_median"
   ]
  },
  {
   "cell_type": "markdown",
   "metadata": {},
   "source": [
    "<div align=\"justify\"> <i> Добавим в словарь median, для случая когда неизвестен кузов."
   ]
  },
  {
   "cell_type": "code",
   "execution_count": 31,
   "metadata": {},
   "outputs": [
    {
     "data": {
      "text/plain": [
       "{'bus': 116.0,\n",
       " 'convertible': 125.0,\n",
       " 'coupe': 147.0,\n",
       " 'other': 100.5,\n",
       " 'sedan': 120.0,\n",
       " 'small': 68.0,\n",
       " 'suv': 150.0,\n",
       " 'wagon': 136.0,\n",
       " 'median': 110.0}"
      ]
     },
     "execution_count": 31,
     "metadata": {},
     "output_type": "execute_result"
    }
   ],
   "source": [
    "powers_median['median'] = autos_cor['Power'].median()\n",
    "powers_median"
   ]
  },
  {
   "cell_type": "markdown",
   "metadata": {},
   "source": [
    "<div align=\"justify\"> <i> Напишем функцию fill_pass_power для заполнения пропущенных значений по столбцу 'Power'."
   ]
  },
  {
   "cell_type": "code",
   "execution_count": 32,
   "metadata": {},
   "outputs": [],
   "source": [
    "# функция принимает строку таблицы\n",
    "# возвращает мощность автомобиля\n",
    "def fill_pass_power(row):\n",
    "    # проверяем пропущено значение 'Power' или нет\n",
    "    if pd.isna(row['Power']):\n",
    "        # проверяем пропущено значение 'VehicleType' или нет\n",
    "        if pd.isna(row['VehicleType']):\n",
    "            return powers_median['median']\n",
    "        else:\n",
    "            return powers_median[row['VehicleType']]\n",
    "    else:\n",
    "        # иначе оставляем как есть\n",
    "        return row['Power']"
   ]
  },
  {
   "cell_type": "markdown",
   "metadata": {},
   "source": [
    "<div align=\"justify\"> <i> Заполним пропуски по столбцу 'Power' и посмотрим."
   ]
  },
  {
   "cell_type": "code",
   "execution_count": 33,
   "metadata": {
    "scrolled": true
   },
   "outputs": [
    {
     "data": {
      "image/png": "[encoded data removed]",
      "text/plain": [
       "<Figure size 432x288 with 1 Axes>"
      ]
     },
     "metadata": {
      "needs_background": "light"
     },
     "output_type": "display_data"
    }
   ],
   "source": [
    "power_old = autos_cor[autos_cor['Power'].notnull()]['Power'].values\n",
    "\n",
    "autos_cor['Power'] = autos_cor.apply(fill_pass_power, axis=1)\n",
    "autos_cor['Power'].isnull().sum()\n",
    "\n",
    "ax = sns.distplot(autos_cor['Power'],\n",
    "                  kde_kws={'color':COLOR},\n",
    "                  hist=False,\n",
    "                  label='After fill')\n",
    "\n",
    "ax = sns.distplot(power_old,\n",
    "                  kde_kws={'color':'blue'},\n",
    "                  hist=False,\n",
    "                  label='Before fill') \n",
    "\n",
    "ax.set(xlabel='Power')\n",
    "plt.show()"
   ]
  },
  {
   "cell_type": "markdown",
   "metadata": {},
   "source": [
    "## Создание обучающей и тестовой выборки <a name=\"step2_3\"></a>"
   ]
  },
  {
   "cell_type": "markdown",
   "metadata": {},
   "source": [
    "<div align=\"justify\"> <i> Уберем из таблицы данные, которые не влияют на цену автомобиля ('DateCrawled', 'RegistrationMonth', 'DateCreated', 'PostalCode', 'LastSeen')."
   ]
  },
  {
   "cell_type": "code",
   "execution_count": 34,
   "metadata": {},
   "outputs": [
    {
     "name": "stdout",
     "output_type": "stream",
     "text": [
      "<class 'pandas.core.frame.DataFrame'>\n",
      "RangeIndex: 343597 entries, 0 to 343596\n",
      "Data columns (total 10 columns):\n",
      " #   Column            Non-Null Count   Dtype  \n",
      "---  ------            --------------   -----  \n",
      " 0   Price             343597 non-null  int64  \n",
      " 1   VehicleType       309847 non-null  object \n",
      " 2   RegistrationYear  343597 non-null  float64\n",
      " 3   Gearbox           326242 non-null  object \n",
      " 4   Power             343597 non-null  float64\n",
      " 5   Model             326076 non-null  object \n",
      " 6   Kilometer         343597 non-null  int64  \n",
      " 7   FuelType          314138 non-null  object \n",
      " 8   Brand             343597 non-null  object \n",
      " 9   NotRepaired       277731 non-null  object \n",
      "dtypes: float64(2), int64(2), object(6)\n",
      "memory usage: 26.2+ MB\n"
     ]
    }
   ],
   "source": [
    "autos_cor = autos_cor.drop(['DateCrawled', 'RegistrationMonth', 'DateCreated', 'PostalCode', 'LastSeen'], axis=1)\n",
    "autos_cor.info()"
   ]
  },
  {
   "cell_type": "markdown",
   "metadata": {},
   "source": [
    "<div align=\"justify\"> <i> Рассмотрим колонку 'Model'. В столбце очень много категориальных значений. Посмотрим можно ли упростить этот признак."
   ]
  },
  {
   "cell_type": "code",
   "execution_count": 35,
   "metadata": {},
   "outputs": [
    {
     "data": {
      "image/png": "[encoded data removed]",
      "text/plain": [
       "<Figure size 432x288 with 1 Axes>"
      ]
     },
     "metadata": {
      "needs_background": "light"
     },
     "output_type": "display_data"
    }
   ],
   "source": [
    "group_model = autos_cor[['Model', 'Power']].groupby('Model').agg(['count'])\n",
    "group_model.reset_index(level=0, inplace=True)\n",
    "group_model.columns= ['Model', 'Count']\n",
    "group_model\n",
    "\n",
    "ax = sns.barplot(x='Model', y='Count', data=group_model, palette=PALETTE)\n",
    "#ax.set_xticklabels(['Mon', 'Tue', 'Wed', 'Thu', 'Fri', 'Sat', 'Sun'])\n",
    "plt.show()"
   ]
  },
  {
   "cell_type": "code",
   "execution_count": 36,
   "metadata": {},
   "outputs": [
    {
     "data": {
      "image/png": "[encoded data removed]",
      "text/plain": [
       "<Figure size 432x288 with 1 Axes>"
      ]
     },
     "metadata": {
      "needs_background": "light"
     },
     "output_type": "display_data"
    }
   ],
   "source": [
    "ax = sns.distplot(group_model['Count'],\n",
    "                  kde_kws={'color':COLOR},\n",
    "                  hist_kws={'color':COLOR});\n",
    "ax.set(xlabel='Count')\n",
    "plt.show()"
   ]
  },
  {
   "cell_type": "code",
   "execution_count": 37,
   "metadata": {},
   "outputs": [
    {
     "data": {
      "image/png": "[encoded data removed]",
      "text/plain": [
       "<Figure size 432x288 with 1 Axes>"
      ]
     },
     "metadata": {
      "needs_background": "light"
     },
     "output_type": "display_data"
    }
   ],
   "source": [
    "ax = sns.boxplot(y=group_model['Count'], width=0.2, color=COLOR)\n",
    "ax.set(ylim=get_range(group_model['Count'], 3))\n",
    "plt.show()"
   ]
  },
  {
   "cell_type": "markdown",
   "metadata": {},
   "source": [
    "<div align=\"justify\"> <i> Исходя из диаграммы размаха все модели, количество автомобилей которых меньше 2000 переведем в категорию other."
   ]
  },
  {
   "cell_type": "code",
   "execution_count": 38,
   "metadata": {},
   "outputs": [
    {
     "data": {
      "text/plain": [
       "array(['100', '145', '147', '156', '159', '1_reihe', '200', '300c',\n",
       "       '4_reihe', '500', '5_reihe', '601', '6_reihe', '6er', '7er', '80',\n",
       "       '850', '90', '900', '9000', '911', 'a1', 'a2', 'a5', 'a8',\n",
       "       'accord', 'agila', 'alhambra', 'almera', 'altea', 'amarok',\n",
       "       'antara', 'arosa', 'auris', 'avensis', 'aveo', 'aygo', 'b_klasse',\n",
       "       'b_max', 'beetle', 'berlingo', 'bora', 'boxster', 'bravo', 'c1',\n",
       "       'c2', 'c3', 'c4', 'c5', 'c_max', 'c_reihe', 'caddy', 'calibra',\n",
       "       'captiva', 'carisma', 'carnival', 'cayenne', 'cc', 'ceed',\n",
       "       'charade', 'cherokee', 'citigo', 'civic', 'cl', 'clk', 'clubman',\n",
       "       'colt', 'combo', 'cooper', 'cordoba', 'corolla', 'cr_reihe',\n",
       "       'croma', 'crossfire', 'cuore', 'cx_reihe', 'defender', 'delta',\n",
       "       'discovery', 'doblo', 'ducato', 'duster', 'elefantino', 'eos',\n",
       "       'escort', 'espace', 'exeo', 'forester', 'forfour', 'fox',\n",
       "       'freelander', 'fusion', 'g_klasse', 'galant', 'galaxy', 'getz',\n",
       "       'gl', 'glk', 'grand', 'i3', 'i_reihe', 'impreza', 'insignia',\n",
       "       'jazz', 'jetta', 'jimny', 'juke', 'justy', 'kadett', 'kaefer',\n",
       "       'kalina', 'kalos', 'kangoo', 'kappa', 'kuga', 'laguna', 'lancer',\n",
       "       'lanos', 'legacy', 'leon', 'lodgy', 'logan', 'lybra', 'm_klasse',\n",
       "       'm_reihe', 'materia', 'matiz', 'meriva', 'micra', 'mii', 'modus',\n",
       "       'move', 'musa', 'mustang', 'mx_reihe', 'navara', 'niva', 'note',\n",
       "       'nubira', 'omega', 'one', 'outlander', 'pajero', 'panda',\n",
       "       'phaeton', 'picanto', 'primera', 'ptcruiser', 'q3', 'q5', 'q7',\n",
       "       'qashqai', 'r19', 'range_rover', 'range_rover_evoque',\n",
       "       'range_rover_sport', 'rangerover', 'rav', 'rio', 'roadster',\n",
       "       'roomster', 'rx_reihe', 's60', 's_klasse', 's_max', 's_type',\n",
       "       'samara', 'sandero', 'santa', 'scenic', 'scirocco', 'seicento',\n",
       "       'serie_1', 'serie_2', 'serie_3', 'sharan', 'signum', 'sirion',\n",
       "       'sl', 'slk', 'sorento', 'spark', 'spider', 'sportage', 'sprinter',\n",
       "       'stilo', 'superb', 'swift', 'terios', 'tigra', 'tiguan', 'toledo',\n",
       "       'touareg', 'transit', 'tt', 'tucson', 'up', 'v40', 'v50', 'v60',\n",
       "       'v70', 'v_klasse', 'verso', 'viano', 'vito', 'vivaro', 'voyager',\n",
       "       'wrangler', 'x_reihe', 'x_trail', 'x_type', 'xc_reihe', 'yaris',\n",
       "       'yeti', 'ypsilon', 'z_reihe'], dtype=object)"
      ]
     },
     "execution_count": 38,
     "metadata": {},
     "output_type": "execute_result"
    }
   ],
   "source": [
    "group_model_names = group_model[group_model['Count']<2000]['Model'].unique()\n",
    "group_model_names"
   ]
  },
  {
   "cell_type": "code",
   "execution_count": 39,
   "metadata": {},
   "outputs": [
    {
     "data": {
      "text/plain": [
       "array(['golf', nan, 'other', 'fabia', '3er', '2_reihe', '3_reihe',\n",
       "       'passat', 'ka', 'polo', 'twingo', 'a_klasse', '5er', 'transporter',\n",
       "       'punto', 'e_klasse', 'clio', 'fortwo', '1er', 'astra', 'fiesta',\n",
       "       'c_klasse', 'a4', 'focus', 'corsa', 'a6', 'ibiza', 'touran', 'a3',\n",
       "       'megane', 'lupo', 'zafira', 'mondeo', 'vectra', 'octavia'],\n",
       "      dtype=object)"
      ]
     },
     "execution_count": 39,
     "metadata": {},
     "output_type": "execute_result"
    }
   ],
   "source": [
    "autos_cor.loc[autos_cor['Model'].isin(group_model_names), 'Model'] = 'other'\n",
    "autos_cor['Model'].unique()"
   ]
  },
  {
   "cell_type": "markdown",
   "metadata": {},
   "source": [
    "<div align=\"justify\"> <i> Разделим наши данные на обучающую и тестовую выборки согласно общепринятому соотношению 3 к 1."
   ]
  },
  {
   "cell_type": "code",
   "execution_count": 40,
   "metadata": {},
   "outputs": [],
   "source": [
    "features_train, features_test, target_train, target_test = train_test_split(autos_cor.drop(['Price'], axis=1), autos_cor['Price'], test_size=0.25, random_state=RANDOM_STATE)"
   ]
  },
  {
   "cell_type": "markdown",
   "metadata": {},
   "source": [
    "<div align=\"justify\"> <i> Рассмотрим распределения признаков на обучающей и тестовой выборках."
   ]
  },
  {
   "cell_type": "code",
   "execution_count": 41,
   "metadata": {},
   "outputs": [
    {
     "data": {
      "image/png": "[encoded data removed]",
      "text/plain": [
       "<Figure size 432x288 with 1 Axes>"
      ]
     },
     "metadata": {
      "needs_background": "light"
     },
     "output_type": "display_data"
    },
    {
     "data": {
      "image/png": "[encoded data removed]",
      "text/plain": [
       "<Figure size 432x288 with 1 Axes>"
      ]
     },
     "metadata": {
      "needs_background": "light"
     },
     "output_type": "display_data"
    },
    {
     "data": {
      "image/png": "[encoded data removed]",
      "text/plain": [
       "<Figure size 432x288 with 1 Axes>"
      ]
     },
     "metadata": {
      "needs_background": "light"
     },
     "output_type": "display_data"
    }
   ],
   "source": [
    "for feature in ['RegistrationYear', 'Power', 'Kilometer']:\n",
    "    ax = sns.distplot(features_train[feature],\n",
    "                          hist = False,\n",
    "                          bins=np.histogram_bin_edges(features_train[feature], bins='sturges'),\n",
    "                          label='Train')\n",
    "    \n",
    "    sns.distplot(features_test[feature],\n",
    "                          hist = False,\n",
    "                          bins=np.histogram_bin_edges(features_test[feature], bins='sturges'),\n",
    "                          label='Test')\n",
    "    \n",
    "    ax.set(xlabel=f'{feature}')\n",
    "    plt.show()"
   ]
  },
  {
   "cell_type": "markdown",
   "metadata": {},
   "source": [
    "<div align=\"justify\"> <i> Рассмотрим распределения целевого признака на обучающей и тестовой выборках."
   ]
  },
  {
   "cell_type": "code",
   "execution_count": 42,
   "metadata": {},
   "outputs": [
    {
     "data": {
      "image/png": "[encoded data removed]",
      "text/plain": [
       "<Figure size 432x288 with 1 Axes>"
      ]
     },
     "metadata": {
      "needs_background": "light"
     },
     "output_type": "display_data"
    }
   ],
   "source": [
    "ax = sns.distplot(target_train,\n",
    "                  hist = False,\n",
    "                  bins=np.histogram_bin_edges(target_train, bins='sturges'),\n",
    "                  label='Train')\n",
    "    \n",
    "sns.distplot(target_test,\n",
    "                          hist = False,\n",
    "                          bins=np.histogram_bin_edges(target_test, bins='sturges'),\n",
    "                          label='Test')\n",
    "    \n",
    "ax.set(xlabel='Price')\n",
    "plt.show()"
   ]
  },
  {
   "cell_type": "markdown",
   "metadata": {},
   "source": [
    "<div align='justify'> <i> Подготовим признаки для модели градиентного бустинга из библиотеки CatBoost.<br>\n",
    "Поскольку CatBoost умеет работать из коробки с категориальными признаками перекодировка не требуется. Однако необходимо заполнить пропуски. Заполним их в тетсовой и тренировочной выборке значениями 'None'."
   ]
  },
  {
   "cell_type": "code",
   "execution_count": 43,
   "metadata": {},
   "outputs": [
    {
     "data": {
      "text/html": [
       "<div>\n",
       "<style scoped>\n",
       "    .dataframe tbody tr th:only-of-type {\n",
       "        vertical-align: middle;\n",
       "    }\n",
       "\n",
       "    .dataframe tbody tr th {\n",
       "        vertical-align: top;\n",
       "    }\n",
       "\n",
       "    .dataframe thead th {\n",
       "        text-align: right;\n",
       "    }\n",
       "</style>\n",
       "<table border=\"1\" class=\"dataframe\">\n",
       "  <thead>\n",
       "    <tr style=\"text-align: right;\">\n",
       "      <th></th>\n",
       "      <th>VehicleType</th>\n",
       "      <th>RegistrationYear</th>\n",
       "      <th>Gearbox</th>\n",
       "      <th>Power</th>\n",
       "      <th>Model</th>\n",
       "      <th>Kilometer</th>\n",
       "      <th>FuelType</th>\n",
       "      <th>Brand</th>\n",
       "      <th>NotRepaired</th>\n",
       "    </tr>\n",
       "  </thead>\n",
       "  <tbody>\n",
       "    <tr>\n",
       "      <th>52558</th>\n",
       "      <td>sedan</td>\n",
       "      <td>2009.0</td>\n",
       "      <td>manual</td>\n",
       "      <td>235.0</td>\n",
       "      <td>5er</td>\n",
       "      <td>150000</td>\n",
       "      <td>none</td>\n",
       "      <td>bmw</td>\n",
       "      <td>none</td>\n",
       "    </tr>\n",
       "    <tr>\n",
       "      <th>168073</th>\n",
       "      <td>sedan</td>\n",
       "      <td>2005.0</td>\n",
       "      <td>auto</td>\n",
       "      <td>177.0</td>\n",
       "      <td>5er</td>\n",
       "      <td>150000</td>\n",
       "      <td>gasoline</td>\n",
       "      <td>bmw</td>\n",
       "      <td>no</td>\n",
       "    </tr>\n",
       "    <tr>\n",
       "      <th>168807</th>\n",
       "      <td>small</td>\n",
       "      <td>2009.0</td>\n",
       "      <td>manual</td>\n",
       "      <td>60.0</td>\n",
       "      <td>other</td>\n",
       "      <td>90000</td>\n",
       "      <td>petrol</td>\n",
       "      <td>fiat</td>\n",
       "      <td>no</td>\n",
       "    </tr>\n",
       "    <tr>\n",
       "      <th>178226</th>\n",
       "      <td>coupe</td>\n",
       "      <td>2011.0</td>\n",
       "      <td>manual</td>\n",
       "      <td>147.0</td>\n",
       "      <td>1er</td>\n",
       "      <td>125000</td>\n",
       "      <td>gasoline</td>\n",
       "      <td>bmw</td>\n",
       "      <td>none</td>\n",
       "    </tr>\n",
       "    <tr>\n",
       "      <th>21874</th>\n",
       "      <td>sedan</td>\n",
       "      <td>1997.0</td>\n",
       "      <td>manual</td>\n",
       "      <td>60.0</td>\n",
       "      <td>ibiza</td>\n",
       "      <td>150000</td>\n",
       "      <td>petrol</td>\n",
       "      <td>seat</td>\n",
       "      <td>no</td>\n",
       "    </tr>\n",
       "  </tbody>\n",
       "</table>\n",
       "</div>"
      ],
      "text/plain": [
       "       VehicleType  RegistrationYear Gearbox  Power  Model  Kilometer  \\\n",
       "52558        sedan            2009.0  manual  235.0    5er     150000   \n",
       "168073       sedan            2005.0    auto  177.0    5er     150000   \n",
       "168807       small            2009.0  manual   60.0  other      90000   \n",
       "178226       coupe            2011.0  manual  147.0    1er     125000   \n",
       "21874        sedan            1997.0  manual   60.0  ibiza     150000   \n",
       "\n",
       "        FuelType Brand NotRepaired  \n",
       "52558       none   bmw        none  \n",
       "168073  gasoline   bmw          no  \n",
       "168807    petrol  fiat          no  \n",
       "178226  gasoline   bmw        none  \n",
       "21874     petrol  seat          no  "
      ]
     },
     "metadata": {},
     "output_type": "display_data"
    },
    {
     "data": {
      "text/html": [
       "<div>\n",
       "<style scoped>\n",
       "    .dataframe tbody tr th:only-of-type {\n",
       "        vertical-align: middle;\n",
       "    }\n",
       "\n",
       "    .dataframe tbody tr th {\n",
       "        vertical-align: top;\n",
       "    }\n",
       "\n",
       "    .dataframe thead th {\n",
       "        text-align: right;\n",
       "    }\n",
       "</style>\n",
       "<table border=\"1\" class=\"dataframe\">\n",
       "  <thead>\n",
       "    <tr style=\"text-align: right;\">\n",
       "      <th></th>\n",
       "      <th>VehicleType</th>\n",
       "      <th>RegistrationYear</th>\n",
       "      <th>Gearbox</th>\n",
       "      <th>Power</th>\n",
       "      <th>Model</th>\n",
       "      <th>Kilometer</th>\n",
       "      <th>FuelType</th>\n",
       "      <th>Brand</th>\n",
       "      <th>NotRepaired</th>\n",
       "    </tr>\n",
       "  </thead>\n",
       "  <tbody>\n",
       "    <tr>\n",
       "      <th>259347</th>\n",
       "      <td>wagon</td>\n",
       "      <td>2005.0</td>\n",
       "      <td>manual</td>\n",
       "      <td>150.0</td>\n",
       "      <td>other</td>\n",
       "      <td>100000</td>\n",
       "      <td>gasoline</td>\n",
       "      <td>alfa_romeo</td>\n",
       "      <td>no</td>\n",
       "    </tr>\n",
       "    <tr>\n",
       "      <th>95943</th>\n",
       "      <td>bus</td>\n",
       "      <td>2003.0</td>\n",
       "      <td>manual</td>\n",
       "      <td>105.0</td>\n",
       "      <td>transporter</td>\n",
       "      <td>150000</td>\n",
       "      <td>gasoline</td>\n",
       "      <td>volkswagen</td>\n",
       "      <td>no</td>\n",
       "    </tr>\n",
       "    <tr>\n",
       "      <th>166746</th>\n",
       "      <td>wagon</td>\n",
       "      <td>2004.0</td>\n",
       "      <td>manual</td>\n",
       "      <td>177.0</td>\n",
       "      <td>5er</td>\n",
       "      <td>150000</td>\n",
       "      <td>gasoline</td>\n",
       "      <td>bmw</td>\n",
       "      <td>no</td>\n",
       "    </tr>\n",
       "    <tr>\n",
       "      <th>250219</th>\n",
       "      <td>small</td>\n",
       "      <td>1999.0</td>\n",
       "      <td>manual</td>\n",
       "      <td>116.0</td>\n",
       "      <td>focus</td>\n",
       "      <td>150000</td>\n",
       "      <td>petrol</td>\n",
       "      <td>ford</td>\n",
       "      <td>none</td>\n",
       "    </tr>\n",
       "    <tr>\n",
       "      <th>134695</th>\n",
       "      <td>wagon</td>\n",
       "      <td>2000.0</td>\n",
       "      <td>manual</td>\n",
       "      <td>170.0</td>\n",
       "      <td>3er</td>\n",
       "      <td>150000</td>\n",
       "      <td>petrol</td>\n",
       "      <td>bmw</td>\n",
       "      <td>no</td>\n",
       "    </tr>\n",
       "  </tbody>\n",
       "</table>\n",
       "</div>"
      ],
      "text/plain": [
       "       VehicleType  RegistrationYear Gearbox  Power        Model  Kilometer  \\\n",
       "259347       wagon            2005.0  manual  150.0        other     100000   \n",
       "95943          bus            2003.0  manual  105.0  transporter     150000   \n",
       "166746       wagon            2004.0  manual  177.0          5er     150000   \n",
       "250219       small            1999.0  manual  116.0        focus     150000   \n",
       "134695       wagon            2000.0  manual  170.0          3er     150000   \n",
       "\n",
       "        FuelType       Brand NotRepaired  \n",
       "259347  gasoline  alfa_romeo          no  \n",
       "95943   gasoline  volkswagen          no  \n",
       "166746  gasoline         bmw          no  \n",
       "250219    petrol        ford        none  \n",
       "134695    petrol         bmw          no  "
      ]
     },
     "metadata": {},
     "output_type": "display_data"
    }
   ],
   "source": [
    "features_test_cat = features_test.fillna('none')\n",
    "features_train_cat = features_train.fillna('none')\n",
    "display(features_train_cat.head())\n",
    "display(features_test_cat.head())"
   ]
  },
  {
   "cell_type": "code",
   "execution_count": 44,
   "metadata": {},
   "outputs": [
    {
     "data": {
      "text/plain": [
       "Index(['VehicleType', 'RegistrationYear', 'Gearbox', 'Power', 'Model',\n",
       "       'Kilometer', 'FuelType', 'Brand', 'NotRepaired'],\n",
       "      dtype='object')"
      ]
     },
     "execution_count": 44,
     "metadata": {},
     "output_type": "execute_result"
    }
   ],
   "source": [
    "features_test_cat.columns"
   ]
  },
  {
   "cell_type": "markdown",
   "metadata": {},
   "source": [
    "<div align='justify'> <i> Подготовим признаки для модели градиентного бустинга из библиотеки LightGBM.<br>\n",
    "Поскольку LightGBM не умеет работать из коробки с категориальными признаками вы полним последовательную перекодировку категориальных признаков."
   ]
  },
  {
   "cell_type": "code",
   "execution_count": 45,
   "metadata": {},
   "outputs": [
    {
     "data": {
      "text/html": [
       "<div>\n",
       "<style scoped>\n",
       "    .dataframe tbody tr th:only-of-type {\n",
       "        vertical-align: middle;\n",
       "    }\n",
       "\n",
       "    .dataframe tbody tr th {\n",
       "        vertical-align: top;\n",
       "    }\n",
       "\n",
       "    .dataframe thead th {\n",
       "        text-align: right;\n",
       "    }\n",
       "</style>\n",
       "<table border=\"1\" class=\"dataframe\">\n",
       "  <thead>\n",
       "    <tr style=\"text-align: right;\">\n",
       "      <th></th>\n",
       "      <th>VehicleType</th>\n",
       "      <th>RegistrationYear</th>\n",
       "      <th>Gearbox</th>\n",
       "      <th>Power</th>\n",
       "      <th>Model</th>\n",
       "      <th>Kilometer</th>\n",
       "      <th>FuelType</th>\n",
       "      <th>Brand</th>\n",
       "      <th>NotRepaired</th>\n",
       "    </tr>\n",
       "  </thead>\n",
       "  <tbody>\n",
       "    <tr>\n",
       "      <th>52558</th>\n",
       "      <td>5</td>\n",
       "      <td>2009.0</td>\n",
       "      <td>1</td>\n",
       "      <td>235.0</td>\n",
       "      <td>4</td>\n",
       "      <td>150000</td>\n",
       "      <td>5</td>\n",
       "      <td>2</td>\n",
       "      <td>1</td>\n",
       "    </tr>\n",
       "    <tr>\n",
       "      <th>168073</th>\n",
       "      <td>5</td>\n",
       "      <td>2005.0</td>\n",
       "      <td>0</td>\n",
       "      <td>177.0</td>\n",
       "      <td>4</td>\n",
       "      <td>150000</td>\n",
       "      <td>2</td>\n",
       "      <td>2</td>\n",
       "      <td>0</td>\n",
       "    </tr>\n",
       "    <tr>\n",
       "      <th>168807</th>\n",
       "      <td>6</td>\n",
       "      <td>2009.0</td>\n",
       "      <td>1</td>\n",
       "      <td>60.0</td>\n",
       "      <td>26</td>\n",
       "      <td>90000</td>\n",
       "      <td>7</td>\n",
       "      <td>9</td>\n",
       "      <td>0</td>\n",
       "    </tr>\n",
       "    <tr>\n",
       "      <th>178226</th>\n",
       "      <td>2</td>\n",
       "      <td>2011.0</td>\n",
       "      <td>1</td>\n",
       "      <td>147.0</td>\n",
       "      <td>0</td>\n",
       "      <td>125000</td>\n",
       "      <td>2</td>\n",
       "      <td>2</td>\n",
       "      <td>1</td>\n",
       "    </tr>\n",
       "    <tr>\n",
       "      <th>21874</th>\n",
       "      <td>5</td>\n",
       "      <td>1997.0</td>\n",
       "      <td>1</td>\n",
       "      <td>60.0</td>\n",
       "      <td>19</td>\n",
       "      <td>150000</td>\n",
       "      <td>7</td>\n",
       "      <td>30</td>\n",
       "      <td>0</td>\n",
       "    </tr>\n",
       "  </tbody>\n",
       "</table>\n",
       "</div>"
      ],
      "text/plain": [
       "        VehicleType  RegistrationYear  Gearbox  Power  Model  Kilometer  \\\n",
       "52558             5            2009.0        1  235.0      4     150000   \n",
       "168073            5            2005.0        0  177.0      4     150000   \n",
       "168807            6            2009.0        1   60.0     26      90000   \n",
       "178226            2            2011.0        1  147.0      0     125000   \n",
       "21874             5            1997.0        1   60.0     19     150000   \n",
       "\n",
       "        FuelType  Brand  NotRepaired  \n",
       "52558          5      2            1  \n",
       "168073         2      2            0  \n",
       "168807         7      9            0  \n",
       "178226         2      2            1  \n",
       "21874          7     30            0  "
      ]
     },
     "metadata": {},
     "output_type": "display_data"
    },
    {
     "data": {
      "text/html": [
       "<div>\n",
       "<style scoped>\n",
       "    .dataframe tbody tr th:only-of-type {\n",
       "        vertical-align: middle;\n",
       "    }\n",
       "\n",
       "    .dataframe tbody tr th {\n",
       "        vertical-align: top;\n",
       "    }\n",
       "\n",
       "    .dataframe thead th {\n",
       "        text-align: right;\n",
       "    }\n",
       "</style>\n",
       "<table border=\"1\" class=\"dataframe\">\n",
       "  <thead>\n",
       "    <tr style=\"text-align: right;\">\n",
       "      <th></th>\n",
       "      <th>VehicleType</th>\n",
       "      <th>RegistrationYear</th>\n",
       "      <th>Gearbox</th>\n",
       "      <th>Power</th>\n",
       "      <th>Model</th>\n",
       "      <th>Kilometer</th>\n",
       "      <th>FuelType</th>\n",
       "      <th>Brand</th>\n",
       "      <th>NotRepaired</th>\n",
       "    </tr>\n",
       "  </thead>\n",
       "  <tbody>\n",
       "    <tr>\n",
       "      <th>259347</th>\n",
       "      <td>8</td>\n",
       "      <td>2005.0</td>\n",
       "      <td>1</td>\n",
       "      <td>150.0</td>\n",
       "      <td>26</td>\n",
       "      <td>100000</td>\n",
       "      <td>2</td>\n",
       "      <td>0</td>\n",
       "      <td>0</td>\n",
       "    </tr>\n",
       "    <tr>\n",
       "      <th>95943</th>\n",
       "      <td>0</td>\n",
       "      <td>2003.0</td>\n",
       "      <td>1</td>\n",
       "      <td>105.0</td>\n",
       "      <td>31</td>\n",
       "      <td>150000</td>\n",
       "      <td>2</td>\n",
       "      <td>38</td>\n",
       "      <td>0</td>\n",
       "    </tr>\n",
       "    <tr>\n",
       "      <th>166746</th>\n",
       "      <td>8</td>\n",
       "      <td>2004.0</td>\n",
       "      <td>1</td>\n",
       "      <td>177.0</td>\n",
       "      <td>4</td>\n",
       "      <td>150000</td>\n",
       "      <td>2</td>\n",
       "      <td>2</td>\n",
       "      <td>0</td>\n",
       "    </tr>\n",
       "    <tr>\n",
       "      <th>250219</th>\n",
       "      <td>6</td>\n",
       "      <td>1999.0</td>\n",
       "      <td>1</td>\n",
       "      <td>116.0</td>\n",
       "      <td>16</td>\n",
       "      <td>150000</td>\n",
       "      <td>7</td>\n",
       "      <td>10</td>\n",
       "      <td>1</td>\n",
       "    </tr>\n",
       "    <tr>\n",
       "      <th>134695</th>\n",
       "      <td>8</td>\n",
       "      <td>2000.0</td>\n",
       "      <td>1</td>\n",
       "      <td>170.0</td>\n",
       "      <td>3</td>\n",
       "      <td>150000</td>\n",
       "      <td>7</td>\n",
       "      <td>2</td>\n",
       "      <td>0</td>\n",
       "    </tr>\n",
       "  </tbody>\n",
       "</table>\n",
       "</div>"
      ],
      "text/plain": [
       "        VehicleType  RegistrationYear  Gearbox  Power  Model  Kilometer  \\\n",
       "259347            8            2005.0        1  150.0     26     100000   \n",
       "95943             0            2003.0        1  105.0     31     150000   \n",
       "166746            8            2004.0        1  177.0      4     150000   \n",
       "250219            6            1999.0        1  116.0     16     150000   \n",
       "134695            8            2000.0        1  170.0      3     150000   \n",
       "\n",
       "        FuelType  Brand  NotRepaired  \n",
       "259347         2      0            0  \n",
       "95943          2     38            0  \n",
       "166746         2      2            0  \n",
       "250219         7     10            1  \n",
       "134695         7      2            0  "
      ]
     },
     "metadata": {},
     "output_type": "display_data"
    }
   ],
   "source": [
    "features_train_light = features_train_cat\n",
    "features_test_light = features_test_cat\n",
    "\n",
    "label_encoder = LabelEncoder()\n",
    "\n",
    "for feature in ['VehicleType', 'Gearbox', 'Model', 'FuelType', 'Brand', 'NotRepaired']:\n",
    "    features_train_light[feature] = label_encoder.fit_transform(features_train_light[feature])\n",
    "    features_test_light[feature] = label_encoder.fit_transform(features_test_light[feature])\n",
    "\n",
    "display(features_train_light.head())\n",
    "display(features_test_light.head())"
   ]
  },
  {
   "cell_type": "markdown",
   "metadata": {},
   "source": [
    "### Вывод"
   ]
  },
  {
   "cell_type": "markdown",
   "metadata": {},
   "source": [
    "<div style = \"border:solid #a1b5c9 2px; padding: 20px; background: #f0f0f0\" align=\"justify\">\n",
    "1. Найдены и убраны аномальные значения <br>\n",
    "2. Заполнены пропуски в числовых признаках. <br>\n",
    "3. Подготовлены обучающая и тестовая выборки для моделей. <br>  "
   ]
  },
  {
   "cell_type": "markdown",
   "metadata": {},
   "source": [
    "# 3. Обучение моделей <a name=\"step3\"></a>"
   ]
  },
  {
   "cell_type": "markdown",
   "metadata": {},
   "source": [
    "<div align='justify'> <i> Исследуем модель градиентного бустинга из библиотеки CatBoost и попытаемся подобрать гиперпарметры этой модели для достижения лучших показателей.<br>\n",
    "Предварительно укажем какие признаки являются категориальными."
   ]
  },
  {
   "cell_type": "code",
   "execution_count": 46,
   "metadata": {},
   "outputs": [
    {
     "data": {
      "text/plain": [
       "Index(['VehicleType', 'Gearbox', 'Model', 'FuelType', 'Brand', 'NotRepaired'], dtype='object')"
      ]
     },
     "execution_count": 46,
     "metadata": {},
     "output_type": "execute_result"
    }
   ],
   "source": [
    "cat_features = features_train.columns[features_train.dtypes == 'object']\n",
    "cat_features"
   ]
  },
  {
   "cell_type": "markdown",
   "metadata": {},
   "source": [
    "<div align='justify'> <i> Рассмотрим сначала модель с гиперпараметрами по умолчанию."
   ]
  },
  {
   "cell_type": "code",
   "execution_count": 47,
   "metadata": {},
   "outputs": [
    {
     "name": "stdout",
     "output_type": "stream",
     "text": [
      "0:\tlearn: 4429.4721910\ttotal: 1.05s\tremaining: 17m 27s\n",
      "1:\tlearn: 4348.5934938\ttotal: 2.05s\tremaining: 17m 5s\n",
      "2:\tlearn: 4271.6010835\ttotal: 2.94s\tremaining: 16m 18s\n",
      "3:\tlearn: 4196.8372275\ttotal: 3.75s\tremaining: 15m 32s\n",
      "4:\tlearn: 4125.4927120\ttotal: 4.74s\tremaining: 15m 43s\n",
      "5:\tlearn: 4056.4291645\ttotal: 5.55s\tremaining: 15m 19s\n",
      "6:\tlearn: 3990.1292158\ttotal: 6.54s\tremaining: 15m 27s\n",
      "7:\tlearn: 3925.7800400\ttotal: 7.34s\tremaining: 15m 10s\n",
      "8:\tlearn: 3863.4263653\ttotal: 8.24s\tremaining: 15m 7s\n",
      "9:\tlearn: 3804.4471283\ttotal: 9.14s\tremaining: 15m 5s\n",
      "10:\tlearn: 3748.4739493\ttotal: 9.95s\tremaining: 14m 54s\n",
      "11:\tlearn: 3694.0396946\ttotal: 10.8s\tremaining: 14m 52s\n",
      "12:\tlearn: 3642.3194319\ttotal: 11.7s\tremaining: 14m 51s\n",
      "13:\tlearn: 3593.2670152\ttotal: 12.6s\tremaining: 14m 50s\n",
      "14:\tlearn: 3544.8364954\ttotal: 13.6s\tremaining: 14m 55s\n",
      "15:\tlearn: 3499.0825516\ttotal: 14.4s\tremaining: 14m 48s\n",
      "16:\tlearn: 3454.7471115\ttotal: 15.4s\tremaining: 14m 52s\n",
      "17:\tlearn: 3412.6018663\ttotal: 16.3s\tremaining: 14m 51s\n",
      "18:\tlearn: 3368.7087553\ttotal: 17.2s\tremaining: 14m 49s\n",
      "19:\tlearn: 3326.9000474\ttotal: 18s\tremaining: 14m 43s\n",
      "20:\tlearn: 3288.9845193\ttotal: 18.9s\tremaining: 14m 42s\n",
      "21:\tlearn: 3249.8010557\ttotal: 19.8s\tremaining: 14m 41s\n",
      "22:\tlearn: 3213.9022836\ttotal: 20.6s\tremaining: 14m 36s\n",
      "23:\tlearn: 3176.7796890\ttotal: 21.6s\tremaining: 14m 39s\n",
      "24:\tlearn: 3139.6647425\ttotal: 22.5s\tremaining: 14m 38s\n",
      "25:\tlearn: 3102.5295079\ttotal: 23.3s\tremaining: 14m 33s\n",
      "26:\tlearn: 3066.5222598\ttotal: 24.1s\tremaining: 14m 29s\n",
      "27:\tlearn: 3034.1053334\ttotal: 24.8s\tremaining: 14m 21s\n",
      "28:\tlearn: 3003.2070456\ttotal: 25.5s\tremaining: 14m 14s\n",
      "29:\tlearn: 2973.2578265\ttotal: 26.4s\tremaining: 14m 14s\n",
      "30:\tlearn: 2943.2736120\ttotal: 27.1s\tremaining: 14m 7s\n",
      "31:\tlearn: 2915.9378726\ttotal: 28s\tremaining: 14m 7s\n",
      "32:\tlearn: 2888.9272379\ttotal: 28.7s\tremaining: 14m 1s\n",
      "33:\tlearn: 2862.1432592\ttotal: 29.5s\tremaining: 13m 58s\n",
      "34:\tlearn: 2836.4324841\ttotal: 30.3s\tremaining: 13m 55s\n",
      "35:\tlearn: 2811.5614754\ttotal: 31s\tremaining: 13m 50s\n",
      "36:\tlearn: 2788.5723817\ttotal: 32s\tremaining: 13m 52s\n",
      "37:\tlearn: 2766.7084795\ttotal: 32.9s\tremaining: 13m 52s\n",
      "38:\tlearn: 2745.9845365\ttotal: 33.6s\tremaining: 13m 48s\n",
      "39:\tlearn: 2724.6941307\ttotal: 34.4s\tremaining: 13m 45s\n",
      "40:\tlearn: 2705.2825382\ttotal: 35.3s\tremaining: 13m 45s\n",
      "41:\tlearn: 2686.8784996\ttotal: 36.1s\tremaining: 13m 43s\n",
      "42:\tlearn: 2670.7579318\ttotal: 36.9s\tremaining: 13m 41s\n",
      "43:\tlearn: 2652.8225501\ttotal: 37.7s\tremaining: 13m 39s\n",
      "44:\tlearn: 2636.0932080\ttotal: 38.7s\tremaining: 13m 41s\n",
      "45:\tlearn: 2618.9862200\ttotal: 39.5s\tremaining: 13m 39s\n",
      "46:\tlearn: 2603.8203900\ttotal: 40.3s\tremaining: 13m 37s\n",
      "47:\tlearn: 2588.7016758\ttotal: 41.2s\tremaining: 13m 37s\n",
      "48:\tlearn: 2574.5547859\ttotal: 42.1s\tremaining: 13m 37s\n",
      "49:\tlearn: 2560.2108586\ttotal: 43s\tremaining: 13m 36s\n",
      "50:\tlearn: 2546.2120795\ttotal: 43.9s\tremaining: 13m 36s\n",
      "51:\tlearn: 2533.9480998\ttotal: 44.7s\tremaining: 13m 34s\n",
      "52:\tlearn: 2521.5710358\ttotal: 45.5s\tremaining: 13m 33s\n",
      "53:\tlearn: 2508.9350278\ttotal: 46.4s\tremaining: 13m 32s\n",
      "54:\tlearn: 2497.3255377\ttotal: 47.3s\tremaining: 13m 32s\n",
      "55:\tlearn: 2485.4130520\ttotal: 48.1s\tremaining: 13m 30s\n",
      "56:\tlearn: 2474.6184176\ttotal: 48.8s\tremaining: 13m 27s\n",
      "57:\tlearn: 2464.0019493\ttotal: 49.6s\tremaining: 13m 25s\n",
      "58:\tlearn: 2454.1922935\ttotal: 50.5s\tremaining: 13m 25s\n",
      "59:\tlearn: 2443.6154620\ttotal: 51.4s\tremaining: 13m 25s\n",
      "60:\tlearn: 2433.7611502\ttotal: 52.3s\tremaining: 13m 24s\n",
      "61:\tlearn: 2425.1473654\ttotal: 53.1s\tremaining: 13m 23s\n",
      "62:\tlearn: 2415.6893119\ttotal: 53.9s\tremaining: 13m 21s\n",
      "63:\tlearn: 2406.6085906\ttotal: 54.9s\tremaining: 13m 22s\n",
      "64:\tlearn: 2397.6104002\ttotal: 55.5s\tremaining: 13m 18s\n",
      "65:\tlearn: 2388.3538624\ttotal: 56.4s\tremaining: 13m 17s\n",
      "66:\tlearn: 2378.6466803\ttotal: 57.2s\tremaining: 13m 16s\n",
      "67:\tlearn: 2370.5148579\ttotal: 57.9s\tremaining: 13m 13s\n",
      "68:\tlearn: 2361.6063104\ttotal: 58.7s\tremaining: 13m 11s\n",
      "69:\tlearn: 2354.2697795\ttotal: 59.4s\tremaining: 13m 8s\n",
      "70:\tlearn: 2347.3353144\ttotal: 1m\tremaining: 13m 7s\n",
      "71:\tlearn: 2339.3093629\ttotal: 1m\tremaining: 13m 5s\n",
      "72:\tlearn: 2332.4376079\ttotal: 1m 1s\tremaining: 13m 4s\n",
      "73:\tlearn: 2324.9919401\ttotal: 1m 2s\tremaining: 13m 4s\n",
      "74:\tlearn: 2318.1373319\ttotal: 1m 3s\tremaining: 13m 2s\n",
      "75:\tlearn: 2310.9335936\ttotal: 1m 4s\tremaining: 13m 2s\n",
      "76:\tlearn: 2303.5854357\ttotal: 1m 5s\tremaining: 13m 1s\n",
      "77:\tlearn: 2296.9653586\ttotal: 1m 5s\tremaining: 12m 58s\n",
      "78:\tlearn: 2291.1624074\ttotal: 1m 6s\tremaining: 12m 58s\n",
      "79:\tlearn: 2285.6186684\ttotal: 1m 7s\tremaining: 12m 58s\n",
      "80:\tlearn: 2280.1539025\ttotal: 1m 8s\tremaining: 12m 56s\n",
      "81:\tlearn: 2273.9873504\ttotal: 1m 9s\tremaining: 12m 55s\n",
      "82:\tlearn: 2269.2367061\ttotal: 1m 10s\tremaining: 12m 55s\n",
      "83:\tlearn: 2264.4971669\ttotal: 1m 11s\tremaining: 12m 55s\n",
      "84:\tlearn: 2258.4635041\ttotal: 1m 12s\tremaining: 12m 55s\n",
      "85:\tlearn: 2254.2901347\ttotal: 1m 12s\tremaining: 12m 55s\n",
      "86:\tlearn: 2249.0336465\ttotal: 1m 13s\tremaining: 12m 52s\n",
      "87:\tlearn: 2244.2503312\ttotal: 1m 14s\tremaining: 12m 50s\n",
      "88:\tlearn: 2240.1319554\ttotal: 1m 15s\tremaining: 12m 49s\n",
      "89:\tlearn: 2236.1915057\ttotal: 1m 15s\tremaining: 12m 46s\n",
      "90:\tlearn: 2231.9257541\ttotal: 1m 16s\tremaining: 12m 46s\n",
      "91:\tlearn: 2227.3273272\ttotal: 1m 17s\tremaining: 12m 44s\n",
      "92:\tlearn: 2223.4299984\ttotal: 1m 18s\tremaining: 12m 43s\n",
      "93:\tlearn: 2219.5972971\ttotal: 1m 19s\tremaining: 12m 42s\n",
      "94:\tlearn: 2216.1165111\ttotal: 1m 20s\tremaining: 12m 42s\n",
      "95:\tlearn: 2212.7505971\ttotal: 1m 20s\tremaining: 12m 41s\n",
      "96:\tlearn: 2208.7307893\ttotal: 1m 21s\tremaining: 12m 39s\n",
      "97:\tlearn: 2205.5504096\ttotal: 1m 22s\tremaining: 12m 37s\n",
      "98:\tlearn: 2202.1984154\ttotal: 1m 23s\tremaining: 12m 35s\n",
      "99:\tlearn: 2198.2675928\ttotal: 1m 23s\tremaining: 12m 33s\n",
      "100:\tlearn: 2195.2166652\ttotal: 1m 24s\tremaining: 12m 34s\n",
      "101:\tlearn: 2192.2372230\ttotal: 1m 25s\tremaining: 12m 34s\n",
      "102:\tlearn: 2189.0311218\ttotal: 1m 26s\tremaining: 12m 32s\n",
      "103:\tlearn: 2185.7322133\ttotal: 1m 27s\tremaining: 12m 31s\n",
      "104:\tlearn: 2182.9038245\ttotal: 1m 28s\tremaining: 12m 30s\n",
      "105:\tlearn: 2180.3235342\ttotal: 1m 28s\tremaining: 12m 29s\n",
      "106:\tlearn: 2177.0508393\ttotal: 1m 29s\tremaining: 12m 28s\n",
      "107:\tlearn: 2174.3989778\ttotal: 1m 30s\tremaining: 12m 27s\n",
      "108:\tlearn: 2171.6021725\ttotal: 1m 31s\tremaining: 12m 27s\n",
      "109:\tlearn: 2168.8554102\ttotal: 1m 32s\tremaining: 12m 26s\n",
      "110:\tlearn: 2166.7652827\ttotal: 1m 32s\tremaining: 12m 24s\n",
      "111:\tlearn: 2163.9878635\ttotal: 1m 33s\tremaining: 12m 23s\n",
      "112:\tlearn: 2161.1444300\ttotal: 1m 34s\tremaining: 12m 22s\n",
      "113:\tlearn: 2158.7456739\ttotal: 1m 35s\tremaining: 12m 20s\n",
      "114:\tlearn: 2156.5868653\ttotal: 1m 35s\tremaining: 12m 18s\n",
      "115:\tlearn: 2154.2202956\ttotal: 1m 36s\tremaining: 12m 17s\n",
      "116:\tlearn: 2152.2406271\ttotal: 1m 37s\tremaining: 12m 16s\n",
      "117:\tlearn: 2150.2219734\ttotal: 1m 38s\tremaining: 12m 15s\n",
      "118:\tlearn: 2148.2334860\ttotal: 1m 39s\tremaining: 12m 13s\n",
      "119:\tlearn: 2146.6023516\ttotal: 1m 39s\tremaining: 12m 12s\n",
      "120:\tlearn: 2144.7050896\ttotal: 1m 40s\tremaining: 12m 11s\n",
      "121:\tlearn: 2141.6338536\ttotal: 1m 41s\tremaining: 12m 12s\n",
      "122:\tlearn: 2140.1779984\ttotal: 1m 42s\tremaining: 12m 10s\n",
      "123:\tlearn: 2138.5844081\ttotal: 1m 43s\tremaining: 12m 8s\n",
      "124:\tlearn: 2136.6653602\ttotal: 1m 43s\tremaining: 12m 7s\n",
      "125:\tlearn: 2134.6793674\ttotal: 1m 44s\tremaining: 12m 7s\n",
      "126:\tlearn: 2132.8422558\ttotal: 1m 45s\tremaining: 12m 6s\n",
      "127:\tlearn: 2130.3855828\ttotal: 1m 46s\tremaining: 12m 5s\n",
      "128:\tlearn: 2128.6441835\ttotal: 1m 47s\tremaining: 12m 5s\n",
      "129:\tlearn: 2126.9707851\ttotal: 1m 48s\tremaining: 12m 4s\n",
      "130:\tlearn: 2124.8970181\ttotal: 1m 48s\tremaining: 12m 2s\n",
      "131:\tlearn: 2123.0118473\ttotal: 1m 49s\tremaining: 12m 1s\n",
      "132:\tlearn: 2121.3727111\ttotal: 1m 50s\tremaining: 12m 1s\n",
      "133:\tlearn: 2119.5666712\ttotal: 1m 51s\tremaining: 12m 1s\n",
      "134:\tlearn: 2118.1895684\ttotal: 1m 52s\tremaining: 12m\n",
      "135:\tlearn: 2116.6598005\ttotal: 1m 53s\tremaining: 11m 59s\n",
      "136:\tlearn: 2114.1349860\ttotal: 1m 54s\tremaining: 11m 58s\n",
      "137:\tlearn: 2112.3928486\ttotal: 1m 55s\tremaining: 11m 58s\n",
      "138:\tlearn: 2110.8623593\ttotal: 1m 55s\tremaining: 11m 57s\n",
      "139:\tlearn: 2109.2895145\ttotal: 1m 56s\tremaining: 11m 56s\n",
      "140:\tlearn: 2107.7980628\ttotal: 1m 57s\tremaining: 11m 55s\n",
      "141:\tlearn: 2106.6137416\ttotal: 1m 58s\tremaining: 11m 55s\n",
      "142:\tlearn: 2104.8644627\ttotal: 1m 59s\tremaining: 11m 54s\n",
      "143:\tlearn: 2102.7413958\ttotal: 2m\tremaining: 11m 53s\n",
      "144:\tlearn: 2101.2455223\ttotal: 2m\tremaining: 11m 52s\n",
      "145:\tlearn: 2099.7377350\ttotal: 2m 1s\tremaining: 11m 51s\n",
      "146:\tlearn: 2097.9543880\ttotal: 2m 2s\tremaining: 11m 50s\n",
      "147:\tlearn: 2096.2747693\ttotal: 2m 3s\tremaining: 11m 49s\n",
      "148:\tlearn: 2095.1261496\ttotal: 2m 4s\tremaining: 11m 48s\n",
      "149:\tlearn: 2094.0614084\ttotal: 2m 4s\tremaining: 11m 47s\n",
      "150:\tlearn: 2092.7351226\ttotal: 2m 5s\tremaining: 11m 46s\n",
      "151:\tlearn: 2091.5650290\ttotal: 2m 6s\tremaining: 11m 45s\n",
      "152:\tlearn: 2090.3181964\ttotal: 2m 7s\tremaining: 11m 44s\n",
      "153:\tlearn: 2088.9040405\ttotal: 2m 8s\tremaining: 11m 43s\n",
      "154:\tlearn: 2087.6153973\ttotal: 2m 8s\tremaining: 11m 42s\n",
      "155:\tlearn: 2086.2569775\ttotal: 2m 9s\tremaining: 11m 42s\n",
      "156:\tlearn: 2084.9886224\ttotal: 2m 10s\tremaining: 11m 41s\n",
      "157:\tlearn: 2083.4246750\ttotal: 2m 11s\tremaining: 11m 40s\n",
      "158:\tlearn: 2082.3952970\ttotal: 2m 12s\tremaining: 11m 39s\n",
      "159:\tlearn: 2080.7832915\ttotal: 2m 13s\tremaining: 11m 38s\n",
      "160:\tlearn: 2078.9538532\ttotal: 2m 13s\tremaining: 11m 37s\n",
      "161:\tlearn: 2077.8832825\ttotal: 2m 14s\tremaining: 11m 37s\n",
      "162:\tlearn: 2076.7060256\ttotal: 2m 15s\tremaining: 11m 35s\n",
      "163:\tlearn: 2075.6461692\ttotal: 2m 16s\tremaining: 11m 35s\n",
      "164:\tlearn: 2074.5521414\ttotal: 2m 17s\tremaining: 11m 34s\n",
      "165:\tlearn: 2073.0548387\ttotal: 2m 18s\tremaining: 11m 33s\n",
      "166:\tlearn: 2071.7093066\ttotal: 2m 18s\tremaining: 11m 32s\n",
      "167:\tlearn: 2070.2641151\ttotal: 2m 19s\tremaining: 11m 32s\n",
      "168:\tlearn: 2069.0578886\ttotal: 2m 20s\tremaining: 11m 31s\n",
      "169:\tlearn: 2067.7625920\ttotal: 2m 21s\tremaining: 11m 30s\n",
      "170:\tlearn: 2066.5082958\ttotal: 2m 22s\tremaining: 11m 30s\n",
      "171:\tlearn: 2065.3078387\ttotal: 2m 23s\tremaining: 11m 29s\n",
      "172:\tlearn: 2064.4790385\ttotal: 2m 23s\tremaining: 11m 27s\n",
      "173:\tlearn: 2063.6997504\ttotal: 2m 24s\tremaining: 11m 27s\n",
      "174:\tlearn: 2062.8455338\ttotal: 2m 25s\tremaining: 11m 26s\n",
      "175:\tlearn: 2061.8052607\ttotal: 2m 26s\tremaining: 11m 25s\n",
      "176:\tlearn: 2061.0913304\ttotal: 2m 27s\tremaining: 11m 25s\n",
      "177:\tlearn: 2059.8016047\ttotal: 2m 28s\tremaining: 11m 24s\n",
      "178:\tlearn: 2058.5570657\ttotal: 2m 29s\tremaining: 11m 23s\n",
      "179:\tlearn: 2057.4440468\ttotal: 2m 29s\tremaining: 11m 23s\n",
      "180:\tlearn: 2056.4002590\ttotal: 2m 30s\tremaining: 11m 22s\n",
      "181:\tlearn: 2055.2603410\ttotal: 2m 31s\tremaining: 11m 22s\n",
      "182:\tlearn: 2054.2884332\ttotal: 2m 32s\tremaining: 11m 21s\n",
      "183:\tlearn: 2053.4030721\ttotal: 2m 33s\tremaining: 11m 21s\n",
      "184:\tlearn: 2052.1085889\ttotal: 2m 34s\tremaining: 11m 20s\n",
      "185:\tlearn: 2051.0647007\ttotal: 2m 35s\tremaining: 11m 19s\n",
      "186:\tlearn: 2050.0605995\ttotal: 2m 35s\tremaining: 11m 17s\n",
      "187:\tlearn: 2048.8330055\ttotal: 2m 36s\tremaining: 11m 17s\n",
      "188:\tlearn: 2047.5179274\ttotal: 2m 37s\tremaining: 11m 16s\n",
      "189:\tlearn: 2046.7091208\ttotal: 2m 38s\tremaining: 11m 16s\n",
      "190:\tlearn: 2045.8811929\ttotal: 2m 39s\tremaining: 11m 15s\n",
      "191:\tlearn: 2045.0079382\ttotal: 2m 40s\tremaining: 11m 14s\n",
      "192:\tlearn: 2044.4204883\ttotal: 2m 40s\tremaining: 11m 13s\n",
      "193:\tlearn: 2043.5832674\ttotal: 2m 41s\tremaining: 11m 12s\n",
      "194:\tlearn: 2042.5223498\ttotal: 2m 42s\tremaining: 11m 11s\n",
      "195:\tlearn: 2041.6652690\ttotal: 2m 43s\tremaining: 11m 10s\n",
      "196:\tlearn: 2040.5304009\ttotal: 2m 44s\tremaining: 11m 10s\n",
      "197:\tlearn: 2039.7538311\ttotal: 2m 45s\tremaining: 11m 9s\n",
      "198:\tlearn: 2038.7940602\ttotal: 2m 45s\tremaining: 11m 8s\n",
      "199:\tlearn: 2037.8852597\ttotal: 2m 46s\tremaining: 11m 7s\n",
      "200:\tlearn: 2036.8918111\ttotal: 2m 47s\tremaining: 11m 6s\n",
      "201:\tlearn: 2035.6664408\ttotal: 2m 48s\tremaining: 11m 5s\n",
      "202:\tlearn: 2034.8228829\ttotal: 2m 49s\tremaining: 11m 4s\n",
      "203:\tlearn: 2033.7455552\ttotal: 2m 50s\tremaining: 11m 3s\n",
      "204:\tlearn: 2032.9485899\ttotal: 2m 50s\tremaining: 11m 3s\n",
      "205:\tlearn: 2032.1579871\ttotal: 2m 51s\tremaining: 11m 2s\n",
      "206:\tlearn: 2031.1106236\ttotal: 2m 52s\tremaining: 11m\n",
      "207:\tlearn: 2030.1627983\ttotal: 2m 53s\tremaining: 10m 59s\n",
      "208:\tlearn: 2029.2060878\ttotal: 2m 53s\tremaining: 10m 58s\n",
      "209:\tlearn: 2028.5158990\ttotal: 2m 54s\tremaining: 10m 57s\n",
      "210:\tlearn: 2027.4972009\ttotal: 2m 55s\tremaining: 10m 56s\n",
      "211:\tlearn: 2026.9189820\ttotal: 2m 56s\tremaining: 10m 55s\n",
      "212:\tlearn: 2025.9254674\ttotal: 2m 57s\tremaining: 10m 54s\n",
      "213:\tlearn: 2025.2948089\ttotal: 2m 58s\tremaining: 10m 54s\n",
      "214:\tlearn: 2024.4745486\ttotal: 2m 59s\tremaining: 10m 53s\n",
      "215:\tlearn: 2023.6649026\ttotal: 2m 59s\tremaining: 10m 53s\n",
      "216:\tlearn: 2023.1009678\ttotal: 3m\tremaining: 10m 51s\n",
      "217:\tlearn: 2022.1389048\ttotal: 3m 1s\tremaining: 10m 51s\n",
      "218:\tlearn: 2021.5311575\ttotal: 3m 2s\tremaining: 10m 50s\n",
      "219:\tlearn: 2020.6432582\ttotal: 3m 3s\tremaining: 10m 49s\n",
      "220:\tlearn: 2020.0380729\ttotal: 3m 4s\tremaining: 10m 49s\n",
      "221:\tlearn: 2019.2170646\ttotal: 3m 5s\tremaining: 10m 48s\n",
      "222:\tlearn: 2018.6038442\ttotal: 3m 5s\tremaining: 10m 47s\n",
      "223:\tlearn: 2017.8669979\ttotal: 3m 6s\tremaining: 10m 47s\n",
      "224:\tlearn: 2017.0712534\ttotal: 3m 7s\tremaining: 10m 46s\n",
      "225:\tlearn: 2016.3194095\ttotal: 3m 8s\tremaining: 10m 46s\n",
      "226:\tlearn: 2015.8043727\ttotal: 3m 9s\tremaining: 10m 45s\n",
      "227:\tlearn: 2015.2656744\ttotal: 3m 10s\tremaining: 10m 43s\n",
      "228:\tlearn: 2014.5340310\ttotal: 3m 10s\tremaining: 10m 42s\n",
      "229:\tlearn: 2013.9722836\ttotal: 3m 11s\tremaining: 10m 42s\n",
      "230:\tlearn: 2012.8494653\ttotal: 3m 12s\tremaining: 10m 41s\n",
      "231:\tlearn: 2012.0569826\ttotal: 3m 13s\tremaining: 10m 41s\n",
      "232:\tlearn: 2011.2907772\ttotal: 3m 14s\tremaining: 10m 39s\n",
      "233:\tlearn: 2010.9540502\ttotal: 3m 15s\tremaining: 10m 38s\n",
      "234:\tlearn: 2009.9246544\ttotal: 3m 15s\tremaining: 10m 37s\n",
      "235:\tlearn: 2008.8921851\ttotal: 3m 16s\tremaining: 10m 36s\n",
      "236:\tlearn: 2008.1448272\ttotal: 3m 17s\tremaining: 10m 36s\n",
      "237:\tlearn: 2007.3186235\ttotal: 3m 18s\tremaining: 10m 35s\n",
      "238:\tlearn: 2006.5526619\ttotal: 3m 19s\tremaining: 10m 34s\n",
      "239:\tlearn: 2005.8598337\ttotal: 3m 19s\tremaining: 10m 33s\n",
      "240:\tlearn: 2005.4086962\ttotal: 3m 20s\tremaining: 10m 32s\n",
      "241:\tlearn: 2004.5760580\ttotal: 3m 21s\tremaining: 10m 31s\n",
      "242:\tlearn: 2003.7845548\ttotal: 3m 22s\tremaining: 10m 30s\n",
      "243:\tlearn: 2003.0706981\ttotal: 3m 23s\tremaining: 10m 30s\n",
      "244:\tlearn: 2002.4476484\ttotal: 3m 24s\tremaining: 10m 29s\n",
      "245:\tlearn: 2001.7114429\ttotal: 3m 25s\tremaining: 10m 28s\n",
      "246:\tlearn: 2001.1084607\ttotal: 3m 25s\tremaining: 10m 27s\n",
      "247:\tlearn: 2000.4801930\ttotal: 3m 26s\tremaining: 10m 27s\n",
      "248:\tlearn: 1999.5070339\ttotal: 3m 27s\tremaining: 10m 26s\n",
      "249:\tlearn: 1998.6159139\ttotal: 3m 28s\tremaining: 10m 25s\n",
      "250:\tlearn: 1997.7725448\ttotal: 3m 29s\tremaining: 10m 24s\n",
      "251:\tlearn: 1997.0406659\ttotal: 3m 30s\tremaining: 10m 24s\n",
      "252:\tlearn: 1996.4086592\ttotal: 3m 31s\tremaining: 10m 23s\n",
      "253:\tlearn: 1995.7800156\ttotal: 3m 32s\tremaining: 10m 22s\n",
      "254:\tlearn: 1995.0536024\ttotal: 3m 32s\tremaining: 10m 21s\n",
      "255:\tlearn: 1994.5120428\ttotal: 3m 33s\tremaining: 10m 20s\n",
      "256:\tlearn: 1993.5744430\ttotal: 3m 34s\tremaining: 10m 19s\n",
      "257:\tlearn: 1992.8330655\ttotal: 3m 35s\tremaining: 10m 18s\n",
      "258:\tlearn: 1992.3143592\ttotal: 3m 35s\tremaining: 10m 17s\n",
      "259:\tlearn: 1991.7784843\ttotal: 3m 36s\tremaining: 10m 16s\n",
      "260:\tlearn: 1991.1676174\ttotal: 3m 37s\tremaining: 10m 15s\n",
      "261:\tlearn: 1990.6507833\ttotal: 3m 38s\tremaining: 10m 14s\n",
      "262:\tlearn: 1989.9631956\ttotal: 3m 39s\tremaining: 10m 13s\n",
      "263:\tlearn: 1989.1965743\ttotal: 3m 40s\tremaining: 10m 13s\n",
      "264:\tlearn: 1988.7345437\ttotal: 3m 40s\tremaining: 10m 12s\n",
      "265:\tlearn: 1988.3429547\ttotal: 3m 41s\tremaining: 10m 12s\n",
      "266:\tlearn: 1987.5662555\ttotal: 3m 42s\tremaining: 10m 11s\n",
      "267:\tlearn: 1986.6660772\ttotal: 3m 43s\tremaining: 10m 10s\n",
      "268:\tlearn: 1985.9049698\ttotal: 3m 44s\tremaining: 10m 9s\n",
      "269:\tlearn: 1985.0909760\ttotal: 3m 44s\tremaining: 10m 8s\n",
      "270:\tlearn: 1984.4087547\ttotal: 3m 45s\tremaining: 10m 7s\n",
      "271:\tlearn: 1984.0066879\ttotal: 3m 46s\tremaining: 10m 6s\n",
      "272:\tlearn: 1983.5029460\ttotal: 3m 47s\tremaining: 10m 5s\n",
      "273:\tlearn: 1982.9848733\ttotal: 3m 48s\tremaining: 10m 4s\n",
      "274:\tlearn: 1982.6170262\ttotal: 3m 49s\tremaining: 10m 3s\n",
      "275:\tlearn: 1982.1694239\ttotal: 3m 49s\tremaining: 10m 3s\n",
      "276:\tlearn: 1981.6843113\ttotal: 3m 50s\tremaining: 10m 2s\n",
      "277:\tlearn: 1980.9666770\ttotal: 3m 51s\tremaining: 10m 1s\n",
      "278:\tlearn: 1980.4718747\ttotal: 3m 52s\tremaining: 10m 1s\n",
      "279:\tlearn: 1980.1053584\ttotal: 3m 53s\tremaining: 10m\n",
      "280:\tlearn: 1979.6399960\ttotal: 3m 54s\tremaining: 9m 59s\n",
      "281:\tlearn: 1979.1029501\ttotal: 3m 55s\tremaining: 9m 58s\n",
      "282:\tlearn: 1978.6077195\ttotal: 3m 55s\tremaining: 9m 57s\n",
      "283:\tlearn: 1977.9645902\ttotal: 3m 56s\tremaining: 9m 56s\n",
      "284:\tlearn: 1977.4706836\ttotal: 3m 57s\tremaining: 9m 55s\n",
      "285:\tlearn: 1977.0829572\ttotal: 3m 58s\tremaining: 9m 55s\n",
      "286:\tlearn: 1976.6114046\ttotal: 3m 59s\tremaining: 9m 54s\n",
      "287:\tlearn: 1976.2045457\ttotal: 3m 59s\tremaining: 9m 53s\n",
      "288:\tlearn: 1975.8682776\ttotal: 4m\tremaining: 9m 52s\n",
      "289:\tlearn: 1975.4338010\ttotal: 4m 1s\tremaining: 9m 51s\n",
      "290:\tlearn: 1974.8581421\ttotal: 4m 2s\tremaining: 9m 50s\n",
      "291:\tlearn: 1974.4897739\ttotal: 4m 3s\tremaining: 9m 49s\n",
      "292:\tlearn: 1973.8417299\ttotal: 4m 3s\tremaining: 9m 48s\n",
      "293:\tlearn: 1973.1209587\ttotal: 4m 4s\tremaining: 9m 47s\n",
      "294:\tlearn: 1972.8392767\ttotal: 4m 5s\tremaining: 9m 47s\n",
      "295:\tlearn: 1972.4893809\ttotal: 4m 6s\tremaining: 9m 46s\n",
      "296:\tlearn: 1972.1947280\ttotal: 4m 7s\tremaining: 9m 45s\n",
      "297:\tlearn: 1971.8586622\ttotal: 4m 8s\tremaining: 9m 44s\n",
      "298:\tlearn: 1971.2316948\ttotal: 4m 9s\tremaining: 9m 44s\n",
      "299:\tlearn: 1970.8341897\ttotal: 4m 10s\tremaining: 9m 43s\n",
      "300:\tlearn: 1970.3860527\ttotal: 4m 10s\tremaining: 9m 42s\n",
      "301:\tlearn: 1969.7902575\ttotal: 4m 11s\tremaining: 9m 41s\n",
      "302:\tlearn: 1969.1864810\ttotal: 4m 12s\tremaining: 9m 40s\n",
      "303:\tlearn: 1968.9880868\ttotal: 4m 13s\tremaining: 9m 39s\n",
      "304:\tlearn: 1968.2689283\ttotal: 4m 13s\tremaining: 9m 38s\n",
      "305:\tlearn: 1967.6058146\ttotal: 4m 14s\tremaining: 9m 38s\n",
      "306:\tlearn: 1967.0267212\ttotal: 4m 15s\tremaining: 9m 37s\n",
      "307:\tlearn: 1966.6450284\ttotal: 4m 16s\tremaining: 9m 36s\n",
      "308:\tlearn: 1966.1978301\ttotal: 4m 17s\tremaining: 9m 35s\n",
      "309:\tlearn: 1965.6509158\ttotal: 4m 18s\tremaining: 9m 34s\n",
      "310:\tlearn: 1965.2132959\ttotal: 4m 19s\tremaining: 9m 33s\n",
      "311:\tlearn: 1964.8441670\ttotal: 4m 19s\tremaining: 9m 32s\n",
      "312:\tlearn: 1964.3032062\ttotal: 4m 20s\tremaining: 9m 32s\n",
      "313:\tlearn: 1963.8995298\ttotal: 4m 21s\tremaining: 9m 31s\n",
      "314:\tlearn: 1963.3591854\ttotal: 4m 22s\tremaining: 9m 30s\n",
      "315:\tlearn: 1962.8723207\ttotal: 4m 23s\tremaining: 9m 29s\n",
      "316:\tlearn: 1962.4132015\ttotal: 4m 23s\tremaining: 9m 28s\n",
      "317:\tlearn: 1962.0515043\ttotal: 4m 24s\tremaining: 9m 27s\n",
      "318:\tlearn: 1961.6622842\ttotal: 4m 25s\tremaining: 9m 26s\n",
      "319:\tlearn: 1961.2857295\ttotal: 4m 26s\tremaining: 9m 25s\n",
      "320:\tlearn: 1960.7977909\ttotal: 4m 27s\tremaining: 9m 24s\n",
      "321:\tlearn: 1960.5038305\ttotal: 4m 28s\tremaining: 9m 24s\n",
      "322:\tlearn: 1959.8428099\ttotal: 4m 28s\tremaining: 9m 23s\n",
      "323:\tlearn: 1959.3086823\ttotal: 4m 29s\tremaining: 9m 22s\n",
      "324:\tlearn: 1958.9395823\ttotal: 4m 30s\tremaining: 9m 22s\n",
      "325:\tlearn: 1958.2776654\ttotal: 4m 31s\tremaining: 9m 21s\n",
      "326:\tlearn: 1957.8731426\ttotal: 4m 32s\tremaining: 9m 20s\n",
      "327:\tlearn: 1957.2441034\ttotal: 4m 33s\tremaining: 9m 19s\n",
      "328:\tlearn: 1956.8916699\ttotal: 4m 33s\tremaining: 9m 18s\n",
      "329:\tlearn: 1956.5269777\ttotal: 4m 34s\tremaining: 9m 17s\n",
      "330:\tlearn: 1955.9857151\ttotal: 4m 35s\tremaining: 9m 16s\n",
      "331:\tlearn: 1955.4571187\ttotal: 4m 36s\tremaining: 9m 15s\n",
      "332:\tlearn: 1955.0257423\ttotal: 4m 37s\tremaining: 9m 14s\n",
      "333:\tlearn: 1954.6640661\ttotal: 4m 38s\tremaining: 9m 14s\n",
      "334:\tlearn: 1954.1638197\ttotal: 4m 38s\tremaining: 9m 13s\n",
      "335:\tlearn: 1953.5451694\ttotal: 4m 39s\tremaining: 9m 13s\n",
      "336:\tlearn: 1952.9860349\ttotal: 4m 40s\tremaining: 9m 12s\n",
      "337:\tlearn: 1952.6535046\ttotal: 4m 41s\tremaining: 9m 11s\n",
      "338:\tlearn: 1951.9052246\ttotal: 4m 42s\tremaining: 9m 11s\n",
      "339:\tlearn: 1951.4686807\ttotal: 4m 43s\tremaining: 9m 10s\n",
      "340:\tlearn: 1951.1273183\ttotal: 4m 44s\tremaining: 9m 9s\n",
      "341:\tlearn: 1950.7055371\ttotal: 4m 45s\tremaining: 9m 8s\n",
      "342:\tlearn: 1950.2959754\ttotal: 4m 45s\tremaining: 9m 7s\n",
      "343:\tlearn: 1949.5999651\ttotal: 4m 46s\tremaining: 9m 7s\n",
      "344:\tlearn: 1949.2997431\ttotal: 4m 47s\tremaining: 9m 6s\n",
      "345:\tlearn: 1948.7952613\ttotal: 4m 48s\tremaining: 9m 5s\n",
      "346:\tlearn: 1948.3387530\ttotal: 4m 49s\tremaining: 9m 4s\n",
      "347:\tlearn: 1947.8289615\ttotal: 4m 50s\tremaining: 9m 4s\n",
      "348:\tlearn: 1947.3215063\ttotal: 4m 51s\tremaining: 9m 3s\n",
      "349:\tlearn: 1946.8720201\ttotal: 4m 52s\tremaining: 9m 2s\n",
      "350:\tlearn: 1946.4912317\ttotal: 4m 53s\tremaining: 9m 1s\n",
      "351:\tlearn: 1946.0461631\ttotal: 4m 53s\tremaining: 9m 1s\n",
      "352:\tlearn: 1945.7318079\ttotal: 4m 54s\tremaining: 8m 59s\n",
      "353:\tlearn: 1945.4299683\ttotal: 4m 55s\tremaining: 8m 59s\n",
      "354:\tlearn: 1945.0027184\ttotal: 4m 56s\tremaining: 8m 58s\n",
      "355:\tlearn: 1944.7855679\ttotal: 4m 56s\tremaining: 8m 57s\n",
      "356:\tlearn: 1944.2956393\ttotal: 4m 57s\tremaining: 8m 56s\n",
      "357:\tlearn: 1944.0916930\ttotal: 4m 58s\tremaining: 8m 55s\n",
      "358:\tlearn: 1943.8615556\ttotal: 4m 59s\tremaining: 8m 54s\n",
      "359:\tlearn: 1943.4230440\ttotal: 5m\tremaining: 8m 53s\n",
      "360:\tlearn: 1942.8655986\ttotal: 5m 1s\tremaining: 8m 52s\n",
      "361:\tlearn: 1942.2881284\ttotal: 5m 1s\tremaining: 8m 52s\n",
      "362:\tlearn: 1941.8199071\ttotal: 5m 2s\tremaining: 8m 51s\n",
      "363:\tlearn: 1941.5519051\ttotal: 5m 3s\tremaining: 8m 50s\n",
      "364:\tlearn: 1941.0523506\ttotal: 5m 4s\tremaining: 8m 49s\n",
      "365:\tlearn: 1940.5392318\ttotal: 5m 5s\tremaining: 8m 48s\n",
      "366:\tlearn: 1939.9947802\ttotal: 5m 6s\tremaining: 8m 47s\n",
      "367:\tlearn: 1939.5177733\ttotal: 5m 6s\tremaining: 8m 47s\n",
      "368:\tlearn: 1939.2591437\ttotal: 5m 7s\tremaining: 8m 46s\n",
      "369:\tlearn: 1938.9264900\ttotal: 5m 8s\tremaining: 8m 45s\n",
      "370:\tlearn: 1938.4263239\ttotal: 5m 9s\tremaining: 8m 45s\n",
      "371:\tlearn: 1938.0087139\ttotal: 5m 10s\tremaining: 8m 44s\n",
      "372:\tlearn: 1937.6519164\ttotal: 5m 11s\tremaining: 8m 43s\n",
      "373:\tlearn: 1937.2426654\ttotal: 5m 12s\tremaining: 8m 42s\n",
      "374:\tlearn: 1936.9875705\ttotal: 5m 13s\tremaining: 8m 41s\n",
      "375:\tlearn: 1936.5849216\ttotal: 5m 13s\tremaining: 8m 40s\n",
      "376:\tlearn: 1936.1696139\ttotal: 5m 14s\tremaining: 8m 40s\n",
      "377:\tlearn: 1935.7158995\ttotal: 5m 15s\tremaining: 8m 39s\n",
      "378:\tlearn: 1935.2265134\ttotal: 5m 16s\tremaining: 8m 39s\n",
      "379:\tlearn: 1934.9585304\ttotal: 5m 17s\tremaining: 8m 38s\n",
      "380:\tlearn: 1934.6451001\ttotal: 5m 18s\tremaining: 8m 37s\n",
      "381:\tlearn: 1934.2418311\ttotal: 5m 19s\tremaining: 8m 36s\n",
      "382:\tlearn: 1934.0685301\ttotal: 5m 20s\tremaining: 8m 35s\n",
      "383:\tlearn: 1933.7056987\ttotal: 5m 20s\tremaining: 8m 34s\n",
      "384:\tlearn: 1933.4121491\ttotal: 5m 21s\tremaining: 8m 34s\n",
      "385:\tlearn: 1933.0841644\ttotal: 5m 22s\tremaining: 8m 33s\n",
      "386:\tlearn: 1932.7334680\ttotal: 5m 23s\tremaining: 8m 32s\n",
      "387:\tlearn: 1932.2982747\ttotal: 5m 24s\tremaining: 8m 31s\n",
      "388:\tlearn: 1932.0443667\ttotal: 5m 25s\tremaining: 8m 30s\n",
      "389:\tlearn: 1931.6443288\ttotal: 5m 26s\tremaining: 8m 30s\n",
      "390:\tlearn: 1931.3709148\ttotal: 5m 26s\tremaining: 8m 29s\n",
      "391:\tlearn: 1931.0043770\ttotal: 5m 27s\tremaining: 8m 28s\n",
      "392:\tlearn: 1930.6997954\ttotal: 5m 28s\tremaining: 8m 27s\n",
      "393:\tlearn: 1930.2677488\ttotal: 5m 29s\tremaining: 8m 26s\n",
      "394:\tlearn: 1929.9118728\ttotal: 5m 30s\tremaining: 8m 26s\n",
      "395:\tlearn: 1929.4441184\ttotal: 5m 31s\tremaining: 8m 25s\n",
      "396:\tlearn: 1929.3001469\ttotal: 5m 32s\tremaining: 8m 24s\n",
      "397:\tlearn: 1928.9753834\ttotal: 5m 33s\tremaining: 8m 23s\n",
      "398:\tlearn: 1928.5918518\ttotal: 5m 33s\tremaining: 8m 23s\n",
      "399:\tlearn: 1928.2940059\ttotal: 5m 34s\tremaining: 8m 22s\n",
      "400:\tlearn: 1927.9078375\ttotal: 5m 35s\tremaining: 8m 21s\n",
      "401:\tlearn: 1927.7432047\ttotal: 5m 36s\tremaining: 8m 20s\n",
      "402:\tlearn: 1927.4239613\ttotal: 5m 37s\tremaining: 8m 20s\n",
      "403:\tlearn: 1927.2281632\ttotal: 5m 38s\tremaining: 8m 18s\n",
      "404:\tlearn: 1926.8915608\ttotal: 5m 39s\tremaining: 8m 18s\n",
      "405:\tlearn: 1926.6677237\ttotal: 5m 39s\tremaining: 8m 17s\n",
      "406:\tlearn: 1926.3040212\ttotal: 5m 40s\tremaining: 8m 16s\n",
      "407:\tlearn: 1925.8858252\ttotal: 5m 41s\tremaining: 8m 15s\n",
      "408:\tlearn: 1925.5768050\ttotal: 5m 42s\tremaining: 8m 14s\n",
      "409:\tlearn: 1925.3122501\ttotal: 5m 43s\tremaining: 8m 13s\n",
      "410:\tlearn: 1924.9723032\ttotal: 5m 43s\tremaining: 8m 12s\n",
      "411:\tlearn: 1924.6263013\ttotal: 5m 44s\tremaining: 8m 12s\n",
      "412:\tlearn: 1924.3605588\ttotal: 5m 45s\tremaining: 8m 11s\n",
      "413:\tlearn: 1924.1156435\ttotal: 5m 46s\tremaining: 8m 10s\n",
      "414:\tlearn: 1923.6533839\ttotal: 5m 47s\tremaining: 8m 9s\n",
      "415:\tlearn: 1923.3610753\ttotal: 5m 47s\tremaining: 8m 8s\n",
      "416:\tlearn: 1923.0661131\ttotal: 5m 48s\tremaining: 8m 7s\n",
      "417:\tlearn: 1922.6726264\ttotal: 5m 49s\tremaining: 8m 6s\n",
      "418:\tlearn: 1922.0959654\ttotal: 5m 50s\tremaining: 8m 6s\n",
      "419:\tlearn: 1921.7830477\ttotal: 5m 51s\tremaining: 8m 5s\n",
      "420:\tlearn: 1921.5768745\ttotal: 5m 52s\tremaining: 8m 4s\n",
      "421:\tlearn: 1921.2613181\ttotal: 5m 53s\tremaining: 8m 3s\n",
      "422:\tlearn: 1920.9475518\ttotal: 5m 54s\tremaining: 8m 2s\n",
      "423:\tlearn: 1920.4811663\ttotal: 5m 54s\tremaining: 8m 2s\n",
      "424:\tlearn: 1920.2787458\ttotal: 5m 55s\tremaining: 8m 1s\n",
      "425:\tlearn: 1920.1139997\ttotal: 5m 56s\tremaining: 8m\n",
      "426:\tlearn: 1919.6856706\ttotal: 5m 57s\tremaining: 7m 59s\n",
      "427:\tlearn: 1919.4348301\ttotal: 5m 58s\tremaining: 7m 58s\n",
      "428:\tlearn: 1919.0251145\ttotal: 5m 59s\tremaining: 7m 58s\n",
      "429:\tlearn: 1918.6941618\ttotal: 6m\tremaining: 7m 57s\n",
      "430:\tlearn: 1918.4809517\ttotal: 6m 1s\tremaining: 7m 56s\n",
      "431:\tlearn: 1918.1750857\ttotal: 6m 1s\tremaining: 7m 55s\n",
      "432:\tlearn: 1917.9875073\ttotal: 6m 2s\tremaining: 7m 54s\n",
      "433:\tlearn: 1917.5520514\ttotal: 6m 3s\tremaining: 7m 54s\n",
      "434:\tlearn: 1917.3246814\ttotal: 6m 4s\tremaining: 7m 53s\n",
      "435:\tlearn: 1916.9923344\ttotal: 6m 5s\tremaining: 7m 52s\n",
      "436:\tlearn: 1916.7866486\ttotal: 6m 6s\tremaining: 7m 51s\n",
      "437:\tlearn: 1916.5668040\ttotal: 6m 7s\tremaining: 7m 50s\n",
      "438:\tlearn: 1916.2746898\ttotal: 6m 7s\tremaining: 7m 50s\n",
      "439:\tlearn: 1915.9293704\ttotal: 6m 8s\tremaining: 7m 49s\n",
      "440:\tlearn: 1915.5885311\ttotal: 6m 9s\tremaining: 7m 48s\n",
      "441:\tlearn: 1915.2042306\ttotal: 6m 10s\tremaining: 7m 47s\n",
      "442:\tlearn: 1914.8803698\ttotal: 6m 11s\tremaining: 7m 46s\n",
      "443:\tlearn: 1914.4856101\ttotal: 6m 11s\tremaining: 7m 45s\n",
      "444:\tlearn: 1914.0801532\ttotal: 6m 12s\tremaining: 7m 44s\n",
      "445:\tlearn: 1913.7013834\ttotal: 6m 13s\tremaining: 7m 44s\n",
      "446:\tlearn: 1913.2177426\ttotal: 6m 14s\tremaining: 7m 43s\n",
      "447:\tlearn: 1913.0433643\ttotal: 6m 15s\tremaining: 7m 42s\n",
      "448:\tlearn: 1912.7006785\ttotal: 6m 16s\tremaining: 7m 41s\n",
      "449:\tlearn: 1912.5018071\ttotal: 6m 17s\tremaining: 7m 41s\n",
      "450:\tlearn: 1912.2473993\ttotal: 6m 18s\tremaining: 7m 40s\n",
      "451:\tlearn: 1911.9535677\ttotal: 6m 19s\tremaining: 7m 39s\n",
      "452:\tlearn: 1911.7539033\ttotal: 6m 20s\tremaining: 7m 38s\n",
      "453:\tlearn: 1911.2833955\ttotal: 6m 20s\tremaining: 7m 38s\n",
      "454:\tlearn: 1910.9207683\ttotal: 6m 21s\tremaining: 7m 37s\n",
      "455:\tlearn: 1910.6664969\ttotal: 6m 22s\tremaining: 7m 36s\n",
      "456:\tlearn: 1910.4384907\ttotal: 6m 23s\tremaining: 7m 35s\n",
      "457:\tlearn: 1910.1621216\ttotal: 6m 24s\tremaining: 7m 34s\n",
      "458:\tlearn: 1909.8353645\ttotal: 6m 25s\tremaining: 7m 33s\n",
      "459:\tlearn: 1909.5347337\ttotal: 6m 25s\tremaining: 7m 32s\n",
      "460:\tlearn: 1909.1277880\ttotal: 6m 26s\tremaining: 7m 32s\n",
      "461:\tlearn: 1908.8439088\ttotal: 6m 27s\tremaining: 7m 31s\n",
      "462:\tlearn: 1908.5942137\ttotal: 6m 28s\tremaining: 7m 30s\n",
      "463:\tlearn: 1908.2943024\ttotal: 6m 29s\tremaining: 7m 29s\n",
      "464:\tlearn: 1908.0133928\ttotal: 6m 29s\tremaining: 7m 28s\n",
      "465:\tlearn: 1907.7995530\ttotal: 6m 30s\tremaining: 7m 27s\n",
      "466:\tlearn: 1907.4308004\ttotal: 6m 31s\tremaining: 7m 26s\n",
      "467:\tlearn: 1907.0824415\ttotal: 6m 32s\tremaining: 7m 26s\n",
      "468:\tlearn: 1906.7539378\ttotal: 6m 33s\tremaining: 7m 25s\n",
      "469:\tlearn: 1906.4323158\ttotal: 6m 34s\tremaining: 7m 24s\n",
      "470:\tlearn: 1906.0623608\ttotal: 6m 35s\tremaining: 7m 23s\n",
      "471:\tlearn: 1905.6644983\ttotal: 6m 35s\tremaining: 7m 22s\n",
      "472:\tlearn: 1905.4591578\ttotal: 6m 36s\tremaining: 7m 22s\n",
      "473:\tlearn: 1905.1501710\ttotal: 6m 37s\tremaining: 7m 21s\n",
      "474:\tlearn: 1904.9287104\ttotal: 6m 38s\tremaining: 7m 20s\n",
      "475:\tlearn: 1904.7245861\ttotal: 6m 39s\tremaining: 7m 20s\n",
      "476:\tlearn: 1904.3044867\ttotal: 6m 40s\tremaining: 7m 19s\n",
      "477:\tlearn: 1904.0468272\ttotal: 6m 41s\tremaining: 7m 18s\n",
      "478:\tlearn: 1903.6368492\ttotal: 6m 42s\tremaining: 7m 17s\n",
      "479:\tlearn: 1903.5441199\ttotal: 6m 43s\tremaining: 7m 16s\n",
      "480:\tlearn: 1903.3525183\ttotal: 6m 44s\tremaining: 7m 16s\n",
      "481:\tlearn: 1903.0864720\ttotal: 6m 44s\tremaining: 7m 15s\n",
      "482:\tlearn: 1902.7402954\ttotal: 6m 45s\tremaining: 7m 14s\n",
      "483:\tlearn: 1902.4852921\ttotal: 6m 46s\tremaining: 7m 13s\n",
      "484:\tlearn: 1902.3281083\ttotal: 6m 47s\tremaining: 7m 12s\n",
      "485:\tlearn: 1902.2055850\ttotal: 6m 48s\tremaining: 7m 11s\n",
      "486:\tlearn: 1901.9868895\ttotal: 6m 49s\tremaining: 7m 11s\n",
      "487:\tlearn: 1901.6289754\ttotal: 6m 50s\tremaining: 7m 10s\n",
      "488:\tlearn: 1901.4119765\ttotal: 6m 50s\tremaining: 7m 9s\n",
      "489:\tlearn: 1901.2213216\ttotal: 6m 51s\tremaining: 7m 8s\n",
      "490:\tlearn: 1900.9825208\ttotal: 6m 52s\tremaining: 7m 7s\n",
      "491:\tlearn: 1900.6246930\ttotal: 6m 53s\tremaining: 7m 7s\n",
      "492:\tlearn: 1900.4402163\ttotal: 6m 54s\tremaining: 7m 6s\n",
      "493:\tlearn: 1900.2069289\ttotal: 6m 55s\tremaining: 7m 5s\n",
      "494:\tlearn: 1900.0320611\ttotal: 6m 56s\tremaining: 7m 4s\n",
      "495:\tlearn: 1899.8201740\ttotal: 6m 57s\tremaining: 7m 3s\n",
      "496:\tlearn: 1899.6453996\ttotal: 6m 58s\tremaining: 7m 3s\n",
      "497:\tlearn: 1899.4290027\ttotal: 6m 59s\tremaining: 7m 2s\n",
      "498:\tlearn: 1899.2190295\ttotal: 6m 59s\tremaining: 7m 1s\n",
      "499:\tlearn: 1898.9037744\ttotal: 7m\tremaining: 7m\n",
      "500:\tlearn: 1898.6689181\ttotal: 7m 1s\tremaining: 6m 59s\n",
      "501:\tlearn: 1898.5443820\ttotal: 7m 2s\tremaining: 6m 59s\n",
      "502:\tlearn: 1898.3714554\ttotal: 7m 3s\tremaining: 6m 58s\n",
      "503:\tlearn: 1898.1607941\ttotal: 7m 3s\tremaining: 6m 57s\n",
      "504:\tlearn: 1897.9856240\ttotal: 7m 4s\tremaining: 6m 56s\n",
      "505:\tlearn: 1897.6931863\ttotal: 7m 5s\tremaining: 6m 55s\n",
      "506:\tlearn: 1897.5763140\ttotal: 7m 6s\tremaining: 6m 54s\n",
      "507:\tlearn: 1897.4009592\ttotal: 7m 7s\tremaining: 6m 53s\n",
      "508:\tlearn: 1897.2424618\ttotal: 7m 7s\tremaining: 6m 52s\n",
      "509:\tlearn: 1896.9579725\ttotal: 7m 8s\tremaining: 6m 52s\n",
      "510:\tlearn: 1896.7180338\ttotal: 7m 9s\tremaining: 6m 51s\n",
      "511:\tlearn: 1896.4465212\ttotal: 7m 10s\tremaining: 6m 50s\n",
      "512:\tlearn: 1896.2627746\ttotal: 7m 11s\tremaining: 6m 49s\n",
      "513:\tlearn: 1896.1080075\ttotal: 7m 12s\tremaining: 6m 48s\n",
      "514:\tlearn: 1895.9509412\ttotal: 7m 13s\tremaining: 6m 48s\n",
      "515:\tlearn: 1895.8127742\ttotal: 7m 14s\tremaining: 6m 47s\n",
      "516:\tlearn: 1895.6405091\ttotal: 7m 14s\tremaining: 6m 46s\n",
      "517:\tlearn: 1895.3598520\ttotal: 7m 15s\tremaining: 6m 45s\n",
      "518:\tlearn: 1895.1653967\ttotal: 7m 16s\tremaining: 6m 44s\n",
      "519:\tlearn: 1894.9587942\ttotal: 7m 17s\tremaining: 6m 43s\n",
      "520:\tlearn: 1894.6872709\ttotal: 7m 18s\tremaining: 6m 42s\n",
      "521:\tlearn: 1894.4269545\ttotal: 7m 19s\tremaining: 6m 42s\n",
      "522:\tlearn: 1894.2059763\ttotal: 7m 19s\tremaining: 6m 41s\n",
      "523:\tlearn: 1893.9985775\ttotal: 7m 20s\tremaining: 6m 40s\n",
      "524:\tlearn: 1893.6355098\ttotal: 7m 21s\tremaining: 6m 39s\n",
      "525:\tlearn: 1893.4876501\ttotal: 7m 22s\tremaining: 6m 38s\n",
      "526:\tlearn: 1893.3007217\ttotal: 7m 23s\tremaining: 6m 37s\n",
      "527:\tlearn: 1893.0009592\ttotal: 7m 24s\tremaining: 6m 36s\n",
      "528:\tlearn: 1892.7830492\ttotal: 7m 24s\tremaining: 6m 35s\n",
      "529:\tlearn: 1892.5658209\ttotal: 7m 25s\tremaining: 6m 34s\n",
      "530:\tlearn: 1892.4189932\ttotal: 7m 26s\tremaining: 6m 33s\n",
      "531:\tlearn: 1892.1492488\ttotal: 7m 26s\tremaining: 6m 33s\n",
      "532:\tlearn: 1891.9254021\ttotal: 7m 27s\tremaining: 6m 32s\n",
      "533:\tlearn: 1891.6194096\ttotal: 7m 28s\tremaining: 6m 31s\n",
      "534:\tlearn: 1891.4694515\ttotal: 7m 29s\tremaining: 6m 30s\n",
      "535:\tlearn: 1891.4113814\ttotal: 7m 30s\tremaining: 6m 29s\n",
      "536:\tlearn: 1891.2278911\ttotal: 7m 31s\tremaining: 6m 29s\n",
      "537:\tlearn: 1891.0359654\ttotal: 7m 32s\tremaining: 6m 28s\n",
      "538:\tlearn: 1890.8618185\ttotal: 7m 32s\tremaining: 6m 27s\n",
      "539:\tlearn: 1890.7134877\ttotal: 7m 33s\tremaining: 6m 26s\n",
      "540:\tlearn: 1890.5474989\ttotal: 7m 34s\tremaining: 6m 25s\n",
      "541:\tlearn: 1890.2897565\ttotal: 7m 35s\tremaining: 6m 24s\n",
      "542:\tlearn: 1890.1189497\ttotal: 7m 36s\tremaining: 6m 23s\n",
      "543:\tlearn: 1889.9436295\ttotal: 7m 37s\tremaining: 6m 23s\n",
      "544:\tlearn: 1889.7736192\ttotal: 7m 37s\tremaining: 6m 22s\n",
      "545:\tlearn: 1889.5225371\ttotal: 7m 38s\tremaining: 6m 21s\n",
      "546:\tlearn: 1889.2030691\ttotal: 7m 39s\tremaining: 6m 20s\n",
      "547:\tlearn: 1889.0319694\ttotal: 7m 40s\tremaining: 6m 19s\n",
      "548:\tlearn: 1888.8889137\ttotal: 7m 41s\tremaining: 6m 19s\n",
      "549:\tlearn: 1888.7309057\ttotal: 7m 42s\tremaining: 6m 18s\n",
      "550:\tlearn: 1888.5320499\ttotal: 7m 43s\tremaining: 6m 17s\n",
      "551:\tlearn: 1888.2746512\ttotal: 7m 44s\tremaining: 6m 16s\n",
      "552:\tlearn: 1888.0083375\ttotal: 7m 44s\tremaining: 6m 15s\n",
      "553:\tlearn: 1887.7571511\ttotal: 7m 45s\tremaining: 6m 14s\n",
      "554:\tlearn: 1887.3820468\ttotal: 7m 46s\tremaining: 6m 14s\n",
      "555:\tlearn: 1887.2144665\ttotal: 7m 47s\tremaining: 6m 13s\n",
      "556:\tlearn: 1887.0237099\ttotal: 7m 48s\tremaining: 6m 12s\n",
      "557:\tlearn: 1886.8635447\ttotal: 7m 48s\tremaining: 6m 11s\n",
      "558:\tlearn: 1886.6841474\ttotal: 7m 49s\tremaining: 6m 10s\n",
      "559:\tlearn: 1886.4227413\ttotal: 7m 50s\tremaining: 6m 9s\n",
      "560:\tlearn: 1886.2691408\ttotal: 7m 51s\tremaining: 6m 9s\n",
      "561:\tlearn: 1886.0276404\ttotal: 7m 52s\tremaining: 6m 8s\n",
      "562:\tlearn: 1885.8044871\ttotal: 7m 53s\tremaining: 6m 7s\n",
      "563:\tlearn: 1885.6572355\ttotal: 7m 54s\tremaining: 6m 6s\n",
      "564:\tlearn: 1885.3891875\ttotal: 7m 55s\tremaining: 6m 5s\n",
      "565:\tlearn: 1885.1443586\ttotal: 7m 55s\tremaining: 6m 4s\n",
      "566:\tlearn: 1884.8061548\ttotal: 7m 56s\tremaining: 6m 4s\n",
      "567:\tlearn: 1884.5771873\ttotal: 7m 57s\tremaining: 6m 3s\n",
      "568:\tlearn: 1884.3961265\ttotal: 7m 58s\tremaining: 6m 2s\n",
      "569:\tlearn: 1884.2569763\ttotal: 7m 59s\tremaining: 6m 1s\n",
      "570:\tlearn: 1884.1236320\ttotal: 8m\tremaining: 6m\n",
      "571:\tlearn: 1884.0253714\ttotal: 8m\tremaining: 5m 59s\n",
      "572:\tlearn: 1883.9301381\ttotal: 8m 1s\tremaining: 5m 59s\n",
      "573:\tlearn: 1883.8357193\ttotal: 8m 2s\tremaining: 5m 58s\n",
      "574:\tlearn: 1883.5306459\ttotal: 8m 3s\tremaining: 5m 57s\n",
      "575:\tlearn: 1883.3756401\ttotal: 8m 4s\tremaining: 5m 56s\n",
      "576:\tlearn: 1883.1546866\ttotal: 8m 4s\tremaining: 5m 55s\n",
      "577:\tlearn: 1882.8747431\ttotal: 8m 5s\tremaining: 5m 54s\n",
      "578:\tlearn: 1882.6914399\ttotal: 8m 6s\tremaining: 5m 53s\n",
      "579:\tlearn: 1882.5016582\ttotal: 8m 7s\tremaining: 5m 52s\n",
      "580:\tlearn: 1882.3065918\ttotal: 8m 7s\tremaining: 5m 51s\n",
      "581:\tlearn: 1882.1626809\ttotal: 8m 8s\tremaining: 5m 50s\n",
      "582:\tlearn: 1882.0021903\ttotal: 8m 9s\tremaining: 5m 50s\n",
      "583:\tlearn: 1881.8792427\ttotal: 8m 10s\tremaining: 5m 49s\n",
      "584:\tlearn: 1881.6632391\ttotal: 8m 11s\tremaining: 5m 48s\n",
      "585:\tlearn: 1881.5246661\ttotal: 8m 11s\tremaining: 5m 47s\n",
      "586:\tlearn: 1881.3869317\ttotal: 8m 12s\tremaining: 5m 46s\n",
      "587:\tlearn: 1881.2607486\ttotal: 8m 13s\tremaining: 5m 45s\n",
      "588:\tlearn: 1881.0794524\ttotal: 8m 14s\tremaining: 5m 45s\n",
      "589:\tlearn: 1880.9165494\ttotal: 8m 15s\tremaining: 5m 44s\n",
      "590:\tlearn: 1880.6928298\ttotal: 8m 16s\tremaining: 5m 43s\n",
      "591:\tlearn: 1880.5268435\ttotal: 8m 17s\tremaining: 5m 42s\n",
      "592:\tlearn: 1880.4018927\ttotal: 8m 18s\tremaining: 5m 42s\n",
      "593:\tlearn: 1880.1340969\ttotal: 8m 19s\tremaining: 5m 41s\n",
      "594:\tlearn: 1879.9802161\ttotal: 8m 20s\tremaining: 5m 40s\n",
      "595:\tlearn: 1879.8557786\ttotal: 8m 20s\tremaining: 5m 39s\n",
      "596:\tlearn: 1879.5925224\ttotal: 8m 21s\tremaining: 5m 38s\n",
      "597:\tlearn: 1879.3854947\ttotal: 8m 22s\tremaining: 5m 37s\n",
      "598:\tlearn: 1879.2147759\ttotal: 8m 23s\tremaining: 5m 36s\n",
      "599:\tlearn: 1879.0897114\ttotal: 8m 23s\tremaining: 5m 35s\n",
      "600:\tlearn: 1878.8318182\ttotal: 8m 24s\tremaining: 5m 35s\n",
      "601:\tlearn: 1878.6998491\ttotal: 8m 25s\tremaining: 5m 34s\n",
      "602:\tlearn: 1878.5500674\ttotal: 8m 26s\tremaining: 5m 33s\n",
      "603:\tlearn: 1878.4278949\ttotal: 8m 27s\tremaining: 5m 32s\n",
      "604:\tlearn: 1878.1649581\ttotal: 8m 28s\tremaining: 5m 31s\n",
      "605:\tlearn: 1878.0239435\ttotal: 8m 29s\tremaining: 5m 31s\n",
      "606:\tlearn: 1877.8979278\ttotal: 8m 30s\tremaining: 5m 30s\n",
      "607:\tlearn: 1877.7110807\ttotal: 8m 30s\tremaining: 5m 29s\n",
      "608:\tlearn: 1877.5016981\ttotal: 8m 31s\tremaining: 5m 28s\n",
      "609:\tlearn: 1877.3450494\ttotal: 8m 32s\tremaining: 5m 27s\n",
      "610:\tlearn: 1877.1723407\ttotal: 8m 33s\tremaining: 5m 26s\n",
      "611:\tlearn: 1876.9770412\ttotal: 8m 34s\tremaining: 5m 26s\n",
      "612:\tlearn: 1876.7696524\ttotal: 8m 35s\tremaining: 5m 25s\n",
      "613:\tlearn: 1876.6491980\ttotal: 8m 36s\tremaining: 5m 24s\n",
      "614:\tlearn: 1876.5113394\ttotal: 8m 37s\tremaining: 5m 23s\n",
      "615:\tlearn: 1876.3735461\ttotal: 8m 37s\tremaining: 5m 22s\n",
      "616:\tlearn: 1876.2574214\ttotal: 8m 38s\tremaining: 5m 22s\n",
      "617:\tlearn: 1876.1043445\ttotal: 8m 39s\tremaining: 5m 21s\n",
      "618:\tlearn: 1875.9680056\ttotal: 8m 40s\tremaining: 5m 20s\n",
      "619:\tlearn: 1875.8223723\ttotal: 8m 41s\tremaining: 5m 19s\n",
      "620:\tlearn: 1875.5197422\ttotal: 8m 42s\tremaining: 5m 18s\n",
      "621:\tlearn: 1875.4159186\ttotal: 8m 43s\tremaining: 5m 17s\n",
      "622:\tlearn: 1875.2401247\ttotal: 8m 43s\tremaining: 5m 17s\n",
      "623:\tlearn: 1875.1431124\ttotal: 8m 44s\tremaining: 5m 16s\n",
      "624:\tlearn: 1875.0757255\ttotal: 8m 45s\tremaining: 5m 15s\n",
      "625:\tlearn: 1874.9281826\ttotal: 8m 46s\tremaining: 5m 14s\n",
      "626:\tlearn: 1874.5630564\ttotal: 8m 47s\tremaining: 5m 13s\n",
      "627:\tlearn: 1874.3474047\ttotal: 8m 48s\tremaining: 5m 12s\n",
      "628:\tlearn: 1874.2055297\ttotal: 8m 49s\tremaining: 5m 12s\n",
      "629:\tlearn: 1874.0559467\ttotal: 8m 50s\tremaining: 5m 11s\n",
      "630:\tlearn: 1873.9047256\ttotal: 8m 50s\tremaining: 5m 10s\n",
      "631:\tlearn: 1873.7084524\ttotal: 8m 51s\tremaining: 5m 9s\n",
      "632:\tlearn: 1873.5886446\ttotal: 8m 52s\tremaining: 5m 8s\n",
      "633:\tlearn: 1873.5160604\ttotal: 8m 53s\tremaining: 5m 7s\n",
      "634:\tlearn: 1873.2695067\ttotal: 8m 54s\tremaining: 5m 7s\n",
      "635:\tlearn: 1873.0345384\ttotal: 8m 55s\tremaining: 5m 6s\n",
      "636:\tlearn: 1872.8957106\ttotal: 8m 56s\tremaining: 5m 5s\n",
      "637:\tlearn: 1872.7376072\ttotal: 8m 56s\tremaining: 5m 4s\n",
      "638:\tlearn: 1872.5653408\ttotal: 8m 57s\tremaining: 5m 3s\n",
      "639:\tlearn: 1872.4585405\ttotal: 8m 58s\tremaining: 5m 2s\n",
      "640:\tlearn: 1872.3445399\ttotal: 8m 59s\tremaining: 5m 1s\n",
      "641:\tlearn: 1872.0642061\ttotal: 8m 59s\tremaining: 5m 1s\n",
      "642:\tlearn: 1871.9768680\ttotal: 9m\tremaining: 5m\n",
      "643:\tlearn: 1871.7010075\ttotal: 9m 1s\tremaining: 4m 59s\n",
      "644:\tlearn: 1871.6216213\ttotal: 9m 2s\tremaining: 4m 58s\n",
      "645:\tlearn: 1871.3535630\ttotal: 9m 3s\tremaining: 4m 57s\n",
      "646:\tlearn: 1871.2958805\ttotal: 9m 4s\tremaining: 4m 56s\n",
      "647:\tlearn: 1871.0375776\ttotal: 9m 4s\tremaining: 4m 55s\n",
      "648:\tlearn: 1870.9154081\ttotal: 9m 5s\tremaining: 4m 55s\n",
      "649:\tlearn: 1870.6542506\ttotal: 9m 6s\tremaining: 4m 54s\n",
      "650:\tlearn: 1870.4782515\ttotal: 9m 7s\tremaining: 4m 53s\n",
      "651:\tlearn: 1870.2816306\ttotal: 9m 8s\tremaining: 4m 52s\n",
      "652:\tlearn: 1870.1585685\ttotal: 9m 9s\tremaining: 4m 51s\n",
      "653:\tlearn: 1869.9122471\ttotal: 9m 10s\tremaining: 4m 51s\n",
      "654:\tlearn: 1869.6319907\ttotal: 9m 11s\tremaining: 4m 50s\n",
      "655:\tlearn: 1869.3918892\ttotal: 9m 12s\tremaining: 4m 49s\n",
      "656:\tlearn: 1869.0877708\ttotal: 9m 13s\tremaining: 4m 48s\n",
      "657:\tlearn: 1868.8907891\ttotal: 9m 13s\tremaining: 4m 47s\n",
      "658:\tlearn: 1868.7828193\ttotal: 9m 14s\tremaining: 4m 47s\n",
      "659:\tlearn: 1868.4723252\ttotal: 9m 15s\tremaining: 4m 46s\n",
      "660:\tlearn: 1868.3921333\ttotal: 9m 16s\tremaining: 4m 45s\n",
      "661:\tlearn: 1868.1970853\ttotal: 9m 17s\tremaining: 4m 44s\n",
      "662:\tlearn: 1867.9952194\ttotal: 9m 17s\tremaining: 4m 43s\n",
      "663:\tlearn: 1867.9092557\ttotal: 9m 18s\tremaining: 4m 42s\n",
      "664:\tlearn: 1867.8017644\ttotal: 9m 19s\tremaining: 4m 41s\n",
      "665:\tlearn: 1867.5617147\ttotal: 9m 20s\tremaining: 4m 40s\n",
      "666:\tlearn: 1867.4421247\ttotal: 9m 20s\tremaining: 4m 40s\n",
      "667:\tlearn: 1867.2776765\ttotal: 9m 21s\tremaining: 4m 39s\n",
      "668:\tlearn: 1867.1188736\ttotal: 9m 22s\tremaining: 4m 38s\n",
      "669:\tlearn: 1866.9593674\ttotal: 9m 23s\tremaining: 4m 37s\n",
      "670:\tlearn: 1866.9136759\ttotal: 9m 24s\tremaining: 4m 36s\n",
      "671:\tlearn: 1866.8287912\ttotal: 9m 25s\tremaining: 4m 35s\n",
      "672:\tlearn: 1866.6443931\ttotal: 9m 25s\tremaining: 4m 35s\n",
      "673:\tlearn: 1866.5081051\ttotal: 9m 26s\tremaining: 4m 34s\n",
      "674:\tlearn: 1866.2823522\ttotal: 9m 27s\tremaining: 4m 33s\n",
      "675:\tlearn: 1866.1217651\ttotal: 9m 28s\tremaining: 4m 32s\n",
      "676:\tlearn: 1865.9892390\ttotal: 9m 29s\tremaining: 4m 31s\n",
      "677:\tlearn: 1865.8349709\ttotal: 9m 30s\tremaining: 4m 30s\n",
      "678:\tlearn: 1865.6294122\ttotal: 9m 30s\tremaining: 4m 29s\n",
      "679:\tlearn: 1865.4712718\ttotal: 9m 31s\tremaining: 4m 29s\n",
      "680:\tlearn: 1865.3082620\ttotal: 9m 32s\tremaining: 4m 28s\n",
      "681:\tlearn: 1865.1041238\ttotal: 9m 33s\tremaining: 4m 27s\n",
      "682:\tlearn: 1864.9562683\ttotal: 9m 34s\tremaining: 4m 26s\n",
      "683:\tlearn: 1864.8039653\ttotal: 9m 35s\tremaining: 4m 25s\n",
      "684:\tlearn: 1864.6406331\ttotal: 9m 36s\tremaining: 4m 24s\n",
      "685:\tlearn: 1864.5103927\ttotal: 9m 36s\tremaining: 4m 24s\n",
      "686:\tlearn: 1864.3124327\ttotal: 9m 37s\tremaining: 4m 23s\n",
      "687:\tlearn: 1864.2187477\ttotal: 9m 38s\tremaining: 4m 22s\n",
      "688:\tlearn: 1864.1342049\ttotal: 9m 39s\tremaining: 4m 21s\n",
      "689:\tlearn: 1864.0212020\ttotal: 9m 40s\tremaining: 4m 20s\n",
      "690:\tlearn: 1863.8813968\ttotal: 9m 41s\tremaining: 4m 19s\n",
      "691:\tlearn: 1863.6267557\ttotal: 9m 42s\tremaining: 4m 19s\n",
      "692:\tlearn: 1863.3273783\ttotal: 9m 42s\tremaining: 4m 18s\n",
      "693:\tlearn: 1863.1007815\ttotal: 9m 43s\tremaining: 4m 17s\n",
      "694:\tlearn: 1862.9184449\ttotal: 9m 44s\tremaining: 4m 16s\n",
      "695:\tlearn: 1862.7985726\ttotal: 9m 45s\tremaining: 4m 15s\n",
      "696:\tlearn: 1862.6714435\ttotal: 9m 46s\tremaining: 4m 14s\n",
      "697:\tlearn: 1862.4351651\ttotal: 9m 47s\tremaining: 4m 14s\n",
      "698:\tlearn: 1862.2895309\ttotal: 9m 48s\tremaining: 4m 13s\n",
      "699:\tlearn: 1862.1809824\ttotal: 9m 49s\tremaining: 4m 12s\n",
      "700:\tlearn: 1862.0615085\ttotal: 9m 49s\tremaining: 4m 11s\n",
      "701:\tlearn: 1861.8664655\ttotal: 9m 50s\tremaining: 4m 10s\n",
      "702:\tlearn: 1861.7729248\ttotal: 9m 51s\tremaining: 4m 9s\n",
      "703:\tlearn: 1861.5162929\ttotal: 9m 52s\tremaining: 4m 9s\n",
      "704:\tlearn: 1861.3679122\ttotal: 9m 53s\tremaining: 4m 8s\n",
      "705:\tlearn: 1861.2098263\ttotal: 9m 54s\tremaining: 4m 7s\n",
      "706:\tlearn: 1861.0567546\ttotal: 9m 55s\tremaining: 4m 6s\n",
      "707:\tlearn: 1860.9143863\ttotal: 9m 56s\tremaining: 4m 5s\n",
      "708:\tlearn: 1860.7571074\ttotal: 9m 56s\tremaining: 4m 4s\n",
      "709:\tlearn: 1860.4766421\ttotal: 9m 57s\tremaining: 4m 4s\n",
      "710:\tlearn: 1860.1321780\ttotal: 9m 58s\tremaining: 4m 3s\n",
      "711:\tlearn: 1860.0005373\ttotal: 9m 59s\tremaining: 4m 2s\n",
      "712:\tlearn: 1859.9213690\ttotal: 10m\tremaining: 4m 1s\n",
      "713:\tlearn: 1859.6654765\ttotal: 10m\tremaining: 4m\n",
      "714:\tlearn: 1859.5680877\ttotal: 10m 1s\tremaining: 3m 59s\n",
      "715:\tlearn: 1859.3849876\ttotal: 10m 2s\tremaining: 3m 59s\n",
      "716:\tlearn: 1859.3011707\ttotal: 10m 3s\tremaining: 3m 58s\n",
      "717:\tlearn: 1859.1891084\ttotal: 10m 4s\tremaining: 3m 57s\n",
      "718:\tlearn: 1859.0078717\ttotal: 10m 5s\tremaining: 3m 56s\n",
      "719:\tlearn: 1858.7771135\ttotal: 10m 5s\tremaining: 3m 55s\n",
      "720:\tlearn: 1858.6048763\ttotal: 10m 6s\tremaining: 3m 54s\n",
      "721:\tlearn: 1858.4507754\ttotal: 10m 7s\tremaining: 3m 53s\n",
      "722:\tlearn: 1858.3408080\ttotal: 10m 8s\tremaining: 3m 53s\n",
      "723:\tlearn: 1858.2325034\ttotal: 10m 9s\tremaining: 3m 52s\n",
      "724:\tlearn: 1858.0156726\ttotal: 10m 10s\tremaining: 3m 51s\n",
      "725:\tlearn: 1857.8683747\ttotal: 10m 11s\tremaining: 3m 50s\n",
      "726:\tlearn: 1857.6797079\ttotal: 10m 11s\tremaining: 3m 49s\n",
      "727:\tlearn: 1857.4006165\ttotal: 10m 12s\tremaining: 3m 48s\n",
      "728:\tlearn: 1857.2259175\ttotal: 10m 13s\tremaining: 3m 48s\n",
      "729:\tlearn: 1856.9753758\ttotal: 10m 14s\tremaining: 3m 47s\n",
      "730:\tlearn: 1856.7376633\ttotal: 10m 15s\tremaining: 3m 46s\n",
      "731:\tlearn: 1856.4634887\ttotal: 10m 16s\tremaining: 3m 45s\n",
      "732:\tlearn: 1856.2769210\ttotal: 10m 17s\tremaining: 3m 44s\n",
      "733:\tlearn: 1856.1694459\ttotal: 10m 17s\tremaining: 3m 43s\n",
      "734:\tlearn: 1856.0804464\ttotal: 10m 18s\tremaining: 3m 43s\n",
      "735:\tlearn: 1855.8613188\ttotal: 10m 19s\tremaining: 3m 42s\n",
      "736:\tlearn: 1855.6865313\ttotal: 10m 20s\tremaining: 3m 41s\n",
      "737:\tlearn: 1855.5489223\ttotal: 10m 21s\tremaining: 3m 40s\n",
      "738:\tlearn: 1855.4525299\ttotal: 10m 22s\tremaining: 3m 39s\n",
      "739:\tlearn: 1855.2570592\ttotal: 10m 23s\tremaining: 3m 38s\n",
      "740:\tlearn: 1855.1065095\ttotal: 10m 23s\tremaining: 3m 38s\n",
      "741:\tlearn: 1855.0156723\ttotal: 10m 24s\tremaining: 3m 37s\n",
      "742:\tlearn: 1854.8571515\ttotal: 10m 25s\tremaining: 3m 36s\n",
      "743:\tlearn: 1854.6814877\ttotal: 10m 26s\tremaining: 3m 35s\n",
      "744:\tlearn: 1854.4815493\ttotal: 10m 26s\tremaining: 3m 34s\n",
      "745:\tlearn: 1854.3291552\ttotal: 10m 27s\tremaining: 3m 33s\n",
      "746:\tlearn: 1854.0830243\ttotal: 10m 28s\tremaining: 3m 32s\n",
      "747:\tlearn: 1853.7797607\ttotal: 10m 29s\tremaining: 3m 32s\n",
      "748:\tlearn: 1853.5485999\ttotal: 10m 30s\tremaining: 3m 31s\n",
      "749:\tlearn: 1853.2867568\ttotal: 10m 31s\tremaining: 3m 30s\n",
      "750:\tlearn: 1853.1855034\ttotal: 10m 32s\tremaining: 3m 29s\n",
      "751:\tlearn: 1853.0911380\ttotal: 10m 32s\tremaining: 3m 28s\n",
      "752:\tlearn: 1852.8625976\ttotal: 10m 33s\tremaining: 3m 27s\n",
      "753:\tlearn: 1852.7114685\ttotal: 10m 34s\tremaining: 3m 27s\n",
      "754:\tlearn: 1852.6253491\ttotal: 10m 35s\tremaining: 3m 26s\n",
      "755:\tlearn: 1852.4294617\ttotal: 10m 36s\tremaining: 3m 25s\n",
      "756:\tlearn: 1852.1946513\ttotal: 10m 37s\tremaining: 3m 24s\n",
      "757:\tlearn: 1852.0630996\ttotal: 10m 38s\tremaining: 3m 23s\n",
      "758:\tlearn: 1851.8222734\ttotal: 10m 39s\tremaining: 3m 22s\n",
      "759:\tlearn: 1851.6108250\ttotal: 10m 39s\tremaining: 3m 22s\n",
      "760:\tlearn: 1851.4484313\ttotal: 10m 40s\tremaining: 3m 21s\n",
      "761:\tlearn: 1851.3785204\ttotal: 10m 41s\tremaining: 3m 20s\n",
      "762:\tlearn: 1851.2020362\ttotal: 10m 42s\tremaining: 3m 19s\n",
      "763:\tlearn: 1850.9814318\ttotal: 10m 43s\tremaining: 3m 18s\n",
      "764:\tlearn: 1850.8309791\ttotal: 10m 44s\tremaining: 3m 17s\n",
      "765:\tlearn: 1850.7552196\ttotal: 10m 44s\tremaining: 3m 17s\n",
      "766:\tlearn: 1850.6339909\ttotal: 10m 45s\tremaining: 3m 16s\n",
      "767:\tlearn: 1850.4566272\ttotal: 10m 46s\tremaining: 3m 15s\n",
      "768:\tlearn: 1850.3640976\ttotal: 10m 47s\tremaining: 3m 14s\n",
      "769:\tlearn: 1850.2286973\ttotal: 10m 48s\tremaining: 3m 13s\n",
      "770:\tlearn: 1850.0226230\ttotal: 10m 49s\tremaining: 3m 12s\n",
      "771:\tlearn: 1849.9632291\ttotal: 10m 50s\tremaining: 3m 12s\n",
      "772:\tlearn: 1849.7333229\ttotal: 10m 51s\tremaining: 3m 11s\n",
      "773:\tlearn: 1849.6199972\ttotal: 10m 51s\tremaining: 3m 10s\n",
      "774:\tlearn: 1849.5130875\ttotal: 10m 52s\tremaining: 3m 9s\n",
      "775:\tlearn: 1849.3701961\ttotal: 10m 53s\tremaining: 3m 8s\n",
      "776:\tlearn: 1849.1729893\ttotal: 10m 54s\tremaining: 3m 7s\n",
      "777:\tlearn: 1849.0383993\ttotal: 10m 55s\tremaining: 3m 7s\n",
      "778:\tlearn: 1848.9852845\ttotal: 10m 56s\tremaining: 3m 6s\n",
      "779:\tlearn: 1848.8249819\ttotal: 10m 57s\tremaining: 3m 5s\n",
      "780:\tlearn: 1848.7504285\ttotal: 10m 57s\tremaining: 3m 4s\n",
      "781:\tlearn: 1848.6042793\ttotal: 10m 58s\tremaining: 3m 3s\n",
      "782:\tlearn: 1848.4374901\ttotal: 10m 59s\tremaining: 3m 2s\n",
      "783:\tlearn: 1848.2662312\ttotal: 11m\tremaining: 3m 1s\n",
      "784:\tlearn: 1848.0923093\ttotal: 11m 1s\tremaining: 3m 1s\n",
      "785:\tlearn: 1848.0313751\ttotal: 11m 2s\tremaining: 3m\n",
      "786:\tlearn: 1847.9299450\ttotal: 11m 3s\tremaining: 2m 59s\n",
      "787:\tlearn: 1847.8530916\ttotal: 11m 3s\tremaining: 2m 58s\n",
      "788:\tlearn: 1847.6513024\ttotal: 11m 4s\tremaining: 2m 57s\n",
      "789:\tlearn: 1847.4882274\ttotal: 11m 5s\tremaining: 2m 56s\n",
      "790:\tlearn: 1847.3629526\ttotal: 11m 6s\tremaining: 2m 56s\n",
      "791:\tlearn: 1847.2594274\ttotal: 11m 7s\tremaining: 2m 55s\n",
      "792:\tlearn: 1847.1091181\ttotal: 11m 8s\tremaining: 2m 54s\n",
      "793:\tlearn: 1846.9044417\ttotal: 11m 9s\tremaining: 2m 53s\n",
      "794:\tlearn: 1846.7362927\ttotal: 11m 9s\tremaining: 2m 52s\n",
      "795:\tlearn: 1846.6192312\ttotal: 11m 10s\tremaining: 2m 51s\n",
      "796:\tlearn: 1846.4472077\ttotal: 11m 11s\tremaining: 2m 51s\n",
      "797:\tlearn: 1846.3624111\ttotal: 11m 12s\tremaining: 2m 50s\n",
      "798:\tlearn: 1846.2159645\ttotal: 11m 13s\tremaining: 2m 49s\n",
      "799:\tlearn: 1846.1151241\ttotal: 11m 14s\tremaining: 2m 48s\n",
      "800:\tlearn: 1845.9710313\ttotal: 11m 14s\tremaining: 2m 47s\n",
      "801:\tlearn: 1845.8184347\ttotal: 11m 15s\tremaining: 2m 46s\n",
      "802:\tlearn: 1845.7040273\ttotal: 11m 16s\tremaining: 2m 45s\n",
      "803:\tlearn: 1845.6002732\ttotal: 11m 16s\tremaining: 2m 45s\n",
      "804:\tlearn: 1845.5513041\ttotal: 11m 17s\tremaining: 2m 44s\n",
      "805:\tlearn: 1845.3729000\ttotal: 11m 18s\tremaining: 2m 43s\n",
      "806:\tlearn: 1845.1658951\ttotal: 11m 19s\tremaining: 2m 42s\n",
      "807:\tlearn: 1844.9871117\ttotal: 11m 20s\tremaining: 2m 41s\n",
      "808:\tlearn: 1844.8901967\ttotal: 11m 21s\tremaining: 2m 40s\n",
      "809:\tlearn: 1844.6948981\ttotal: 11m 21s\tremaining: 2m 39s\n",
      "810:\tlearn: 1844.5850832\ttotal: 11m 22s\tremaining: 2m 39s\n",
      "811:\tlearn: 1844.4913696\ttotal: 11m 23s\tremaining: 2m 38s\n",
      "812:\tlearn: 1844.3928804\ttotal: 11m 24s\tremaining: 2m 37s\n",
      "813:\tlearn: 1844.3396643\ttotal: 11m 25s\tremaining: 2m 36s\n",
      "814:\tlearn: 1844.1862463\ttotal: 11m 26s\tremaining: 2m 35s\n",
      "815:\tlearn: 1844.0016543\ttotal: 11m 27s\tremaining: 2m 34s\n",
      "816:\tlearn: 1843.8684142\ttotal: 11m 28s\tremaining: 2m 34s\n",
      "817:\tlearn: 1843.7455094\ttotal: 11m 28s\tremaining: 2m 33s\n",
      "818:\tlearn: 1843.5159653\ttotal: 11m 29s\tremaining: 2m 32s\n",
      "819:\tlearn: 1843.4273002\ttotal: 11m 30s\tremaining: 2m 31s\n",
      "820:\tlearn: 1843.3370428\ttotal: 11m 31s\tremaining: 2m 30s\n",
      "821:\tlearn: 1843.2010446\ttotal: 11m 32s\tremaining: 2m 29s\n",
      "822:\tlearn: 1843.1048898\ttotal: 11m 33s\tremaining: 2m 29s\n",
      "823:\tlearn: 1842.9163233\ttotal: 11m 34s\tremaining: 2m 28s\n",
      "824:\tlearn: 1842.8503115\ttotal: 11m 34s\tremaining: 2m 27s\n",
      "825:\tlearn: 1842.7813130\ttotal: 11m 35s\tremaining: 2m 26s\n",
      "826:\tlearn: 1842.6474712\ttotal: 11m 36s\tremaining: 2m 25s\n",
      "827:\tlearn: 1842.4153432\ttotal: 11m 37s\tremaining: 2m 24s\n",
      "828:\tlearn: 1842.2212788\ttotal: 11m 38s\tremaining: 2m 23s\n",
      "829:\tlearn: 1842.1321881\ttotal: 11m 38s\tremaining: 2m 23s\n",
      "830:\tlearn: 1841.9458291\ttotal: 11m 39s\tremaining: 2m 22s\n",
      "831:\tlearn: 1841.7894601\ttotal: 11m 40s\tremaining: 2m 21s\n",
      "832:\tlearn: 1841.6638287\ttotal: 11m 41s\tremaining: 2m 20s\n",
      "833:\tlearn: 1841.4975238\ttotal: 11m 42s\tremaining: 2m 19s\n",
      "834:\tlearn: 1841.3040427\ttotal: 11m 43s\tremaining: 2m 19s\n",
      "835:\tlearn: 1841.1087467\ttotal: 11m 44s\tremaining: 2m 18s\n",
      "836:\tlearn: 1840.9777857\ttotal: 11m 45s\tremaining: 2m 17s\n",
      "837:\tlearn: 1840.8587644\ttotal: 11m 46s\tremaining: 2m 16s\n",
      "838:\tlearn: 1840.7191913\ttotal: 11m 47s\tremaining: 2m 15s\n",
      "839:\tlearn: 1840.5619788\ttotal: 11m 48s\tremaining: 2m 14s\n",
      "840:\tlearn: 1840.3401064\ttotal: 11m 48s\tremaining: 2m 14s\n",
      "841:\tlearn: 1840.1614584\ttotal: 11m 49s\tremaining: 2m 13s\n",
      "842:\tlearn: 1839.9932815\ttotal: 11m 50s\tremaining: 2m 12s\n",
      "843:\tlearn: 1839.8078905\ttotal: 11m 51s\tremaining: 2m 11s\n",
      "844:\tlearn: 1839.7433835\ttotal: 11m 52s\tremaining: 2m 10s\n",
      "845:\tlearn: 1839.5959960\ttotal: 11m 53s\tremaining: 2m 9s\n",
      "846:\tlearn: 1839.5116072\ttotal: 11m 54s\tremaining: 2m 9s\n",
      "847:\tlearn: 1839.4377373\ttotal: 11m 54s\tremaining: 2m 8s\n",
      "848:\tlearn: 1839.2695347\ttotal: 11m 55s\tremaining: 2m 7s\n",
      "849:\tlearn: 1839.1648611\ttotal: 11m 56s\tremaining: 2m 6s\n",
      "850:\tlearn: 1839.0618299\ttotal: 11m 57s\tremaining: 2m 5s\n",
      "851:\tlearn: 1838.9010884\ttotal: 11m 58s\tremaining: 2m 4s\n",
      "852:\tlearn: 1838.7967402\ttotal: 11m 59s\tremaining: 2m 3s\n",
      "853:\tlearn: 1838.6419782\ttotal: 11m 59s\tremaining: 2m 3s\n",
      "854:\tlearn: 1838.5600043\ttotal: 12m\tremaining: 2m 2s\n",
      "855:\tlearn: 1838.4561491\ttotal: 12m 1s\tremaining: 2m 1s\n",
      "856:\tlearn: 1838.3702613\ttotal: 12m 2s\tremaining: 2m\n",
      "857:\tlearn: 1838.3268879\ttotal: 12m 3s\tremaining: 1m 59s\n",
      "858:\tlearn: 1838.2476418\ttotal: 12m 3s\tremaining: 1m 58s\n",
      "859:\tlearn: 1838.1943433\ttotal: 12m 4s\tremaining: 1m 57s\n",
      "860:\tlearn: 1838.0522070\ttotal: 12m 5s\tremaining: 1m 57s\n",
      "861:\tlearn: 1837.9873901\ttotal: 12m 6s\tremaining: 1m 56s\n",
      "862:\tlearn: 1837.8505890\ttotal: 12m 6s\tremaining: 1m 55s\n",
      "863:\tlearn: 1837.7502565\ttotal: 12m 7s\tremaining: 1m 54s\n",
      "864:\tlearn: 1837.6687540\ttotal: 12m 8s\tremaining: 1m 53s\n",
      "865:\tlearn: 1837.4591562\ttotal: 12m 9s\tremaining: 1m 52s\n",
      "866:\tlearn: 1837.4369940\ttotal: 12m 10s\tremaining: 1m 51s\n",
      "867:\tlearn: 1837.3234735\ttotal: 12m 10s\tremaining: 1m 51s\n",
      "868:\tlearn: 1837.2583630\ttotal: 12m 11s\tremaining: 1m 50s\n",
      "869:\tlearn: 1837.1114554\ttotal: 12m 12s\tremaining: 1m 49s\n",
      "870:\tlearn: 1836.9492011\ttotal: 12m 13s\tremaining: 1m 48s\n",
      "871:\tlearn: 1836.8742018\ttotal: 12m 14s\tremaining: 1m 47s\n",
      "872:\tlearn: 1836.7014620\ttotal: 12m 14s\tremaining: 1m 46s\n",
      "873:\tlearn: 1836.5005591\ttotal: 12m 15s\tremaining: 1m 46s\n",
      "874:\tlearn: 1836.3307572\ttotal: 12m 16s\tremaining: 1m 45s\n",
      "875:\tlearn: 1836.1850297\ttotal: 12m 17s\tremaining: 1m 44s\n",
      "876:\tlearn: 1836.1089991\ttotal: 12m 18s\tremaining: 1m 43s\n",
      "877:\tlearn: 1835.9208166\ttotal: 12m 19s\tremaining: 1m 42s\n",
      "878:\tlearn: 1835.7926503\ttotal: 12m 20s\tremaining: 1m 41s\n",
      "879:\tlearn: 1835.5919178\ttotal: 12m 20s\tremaining: 1m 41s\n",
      "880:\tlearn: 1835.4849987\ttotal: 12m 21s\tremaining: 1m 40s\n",
      "881:\tlearn: 1835.3808255\ttotal: 12m 22s\tremaining: 1m 39s\n",
      "882:\tlearn: 1835.2357777\ttotal: 12m 23s\tremaining: 1m 38s\n",
      "883:\tlearn: 1835.1017365\ttotal: 12m 24s\tremaining: 1m 37s\n",
      "884:\tlearn: 1834.9931552\ttotal: 12m 25s\tremaining: 1m 36s\n",
      "885:\tlearn: 1834.8155963\ttotal: 12m 26s\tremaining: 1m 36s\n",
      "886:\tlearn: 1834.7435500\ttotal: 12m 26s\tremaining: 1m 35s\n",
      "887:\tlearn: 1834.5099523\ttotal: 12m 27s\tremaining: 1m 34s\n",
      "888:\tlearn: 1834.4258595\ttotal: 12m 28s\tremaining: 1m 33s\n",
      "889:\tlearn: 1834.2699358\ttotal: 12m 29s\tremaining: 1m 32s\n",
      "890:\tlearn: 1834.1778526\ttotal: 12m 29s\tremaining: 1m 31s\n",
      "891:\tlearn: 1834.0115157\ttotal: 12m 30s\tremaining: 1m 30s\n",
      "892:\tlearn: 1833.8623791\ttotal: 12m 31s\tremaining: 1m 30s\n",
      "893:\tlearn: 1833.7316811\ttotal: 12m 32s\tremaining: 1m 29s\n",
      "894:\tlearn: 1833.6823793\ttotal: 12m 33s\tremaining: 1m 28s\n",
      "895:\tlearn: 1833.5974524\ttotal: 12m 33s\tremaining: 1m 27s\n",
      "896:\tlearn: 1833.5037617\ttotal: 12m 34s\tremaining: 1m 26s\n",
      "897:\tlearn: 1833.3267616\ttotal: 12m 35s\tremaining: 1m 25s\n",
      "898:\tlearn: 1833.2721531\ttotal: 12m 36s\tremaining: 1m 24s\n",
      "899:\tlearn: 1833.1549202\ttotal: 12m 37s\tremaining: 1m 24s\n",
      "900:\tlearn: 1833.0688620\ttotal: 12m 38s\tremaining: 1m 23s\n",
      "901:\tlearn: 1832.9386340\ttotal: 12m 39s\tremaining: 1m 22s\n",
      "902:\tlearn: 1832.8264607\ttotal: 12m 40s\tremaining: 1m 21s\n",
      "903:\tlearn: 1832.6927543\ttotal: 12m 40s\tremaining: 1m 20s\n",
      "904:\tlearn: 1832.5676430\ttotal: 12m 41s\tremaining: 1m 19s\n",
      "905:\tlearn: 1832.5257361\ttotal: 12m 42s\tremaining: 1m 19s\n",
      "906:\tlearn: 1832.4816083\ttotal: 12m 43s\tremaining: 1m 18s\n",
      "907:\tlearn: 1832.3221962\ttotal: 12m 44s\tremaining: 1m 17s\n",
      "908:\tlearn: 1832.2373857\ttotal: 12m 45s\tremaining: 1m 16s\n",
      "909:\tlearn: 1832.1161721\ttotal: 12m 46s\tremaining: 1m 15s\n",
      "910:\tlearn: 1832.0354212\ttotal: 12m 47s\tremaining: 1m 14s\n",
      "911:\tlearn: 1831.9915687\ttotal: 12m 47s\tremaining: 1m 14s\n",
      "912:\tlearn: 1831.9121719\ttotal: 12m 48s\tremaining: 1m 13s\n",
      "913:\tlearn: 1831.8322669\ttotal: 12m 49s\tremaining: 1m 12s\n",
      "914:\tlearn: 1831.7586653\ttotal: 12m 50s\tremaining: 1m 11s\n",
      "915:\tlearn: 1831.7158782\ttotal: 12m 50s\tremaining: 1m 10s\n",
      "916:\tlearn: 1831.5930023\ttotal: 12m 51s\tremaining: 1m 9s\n",
      "917:\tlearn: 1831.4557086\ttotal: 12m 52s\tremaining: 1m 9s\n",
      "918:\tlearn: 1831.3406453\ttotal: 12m 53s\tremaining: 1m 8s\n",
      "919:\tlearn: 1831.1963807\ttotal: 12m 54s\tremaining: 1m 7s\n",
      "920:\tlearn: 1831.1554746\ttotal: 12m 55s\tremaining: 1m 6s\n",
      "921:\tlearn: 1830.9830986\ttotal: 12m 55s\tremaining: 1m 5s\n",
      "922:\tlearn: 1830.8302849\ttotal: 12m 56s\tremaining: 1m 4s\n",
      "923:\tlearn: 1830.7327166\ttotal: 12m 57s\tremaining: 1m 3s\n",
      "924:\tlearn: 1830.6983620\ttotal: 12m 58s\tremaining: 1m 3s\n",
      "925:\tlearn: 1830.6237503\ttotal: 12m 59s\tremaining: 1m 2s\n",
      "926:\tlearn: 1830.4709146\ttotal: 13m\tremaining: 1m 1s\n",
      "927:\tlearn: 1830.3323116\ttotal: 13m 1s\tremaining: 1m\n",
      "928:\tlearn: 1830.2483045\ttotal: 13m 2s\tremaining: 59.8s\n",
      "929:\tlearn: 1830.1340539\ttotal: 13m 3s\tremaining: 58.9s\n",
      "930:\tlearn: 1830.0001890\ttotal: 13m 3s\tremaining: 58.1s\n",
      "931:\tlearn: 1829.9406860\ttotal: 13m 4s\tremaining: 57.2s\n",
      "932:\tlearn: 1829.7722819\ttotal: 13m 5s\tremaining: 56.4s\n",
      "933:\tlearn: 1829.7012525\ttotal: 13m 6s\tremaining: 55.6s\n",
      "934:\tlearn: 1829.5592763\ttotal: 13m 7s\tremaining: 54.7s\n",
      "935:\tlearn: 1829.3936251\ttotal: 13m 7s\tremaining: 53.9s\n",
      "936:\tlearn: 1829.2498534\ttotal: 13m 8s\tremaining: 53s\n",
      "937:\tlearn: 1829.2042894\ttotal: 13m 9s\tremaining: 52.2s\n",
      "938:\tlearn: 1829.0877621\ttotal: 13m 10s\tremaining: 51.4s\n",
      "939:\tlearn: 1828.9655153\ttotal: 13m 11s\tremaining: 50.5s\n",
      "940:\tlearn: 1828.8878825\ttotal: 13m 12s\tremaining: 49.7s\n",
      "941:\tlearn: 1828.7912022\ttotal: 13m 12s\tremaining: 48.8s\n",
      "942:\tlearn: 1828.6994871\ttotal: 13m 13s\tremaining: 48s\n",
      "943:\tlearn: 1828.4556545\ttotal: 13m 14s\tremaining: 47.1s\n",
      "944:\tlearn: 1828.3660923\ttotal: 13m 15s\tremaining: 46.3s\n",
      "945:\tlearn: 1828.2852264\ttotal: 13m 16s\tremaining: 45.5s\n",
      "946:\tlearn: 1828.1457848\ttotal: 13m 17s\tremaining: 44.6s\n",
      "947:\tlearn: 1828.0475939\ttotal: 13m 18s\tremaining: 43.8s\n",
      "948:\tlearn: 1827.9054480\ttotal: 13m 19s\tremaining: 42.9s\n",
      "949:\tlearn: 1827.7950425\ttotal: 13m 20s\tremaining: 42.1s\n",
      "950:\tlearn: 1827.6950462\ttotal: 13m 20s\tremaining: 41.3s\n",
      "951:\tlearn: 1827.6245326\ttotal: 13m 21s\tremaining: 40.4s\n",
      "952:\tlearn: 1827.5483946\ttotal: 13m 22s\tremaining: 39.6s\n",
      "953:\tlearn: 1827.3705080\ttotal: 13m 23s\tremaining: 38.8s\n",
      "954:\tlearn: 1827.2319768\ttotal: 13m 24s\tremaining: 37.9s\n",
      "955:\tlearn: 1827.1263336\ttotal: 13m 25s\tremaining: 37.1s\n",
      "956:\tlearn: 1827.0622781\ttotal: 13m 26s\tremaining: 36.2s\n",
      "957:\tlearn: 1826.8445344\ttotal: 13m 26s\tremaining: 35.4s\n",
      "958:\tlearn: 1826.7870897\ttotal: 13m 27s\tremaining: 34.5s\n",
      "959:\tlearn: 1826.6830296\ttotal: 13m 28s\tremaining: 33.7s\n",
      "960:\tlearn: 1826.4668351\ttotal: 13m 29s\tremaining: 32.9s\n",
      "961:\tlearn: 1826.4202912\ttotal: 13m 30s\tremaining: 32s\n",
      "962:\tlearn: 1826.3831293\ttotal: 13m 31s\tremaining: 31.2s\n",
      "963:\tlearn: 1826.2310072\ttotal: 13m 31s\tremaining: 30.3s\n",
      "964:\tlearn: 1826.1593155\ttotal: 13m 32s\tremaining: 29.5s\n",
      "965:\tlearn: 1826.0355995\ttotal: 13m 33s\tremaining: 28.6s\n",
      "966:\tlearn: 1825.8905081\ttotal: 13m 34s\tremaining: 27.8s\n",
      "967:\tlearn: 1825.7626033\ttotal: 13m 35s\tremaining: 27s\n",
      "968:\tlearn: 1825.6446622\ttotal: 13m 36s\tremaining: 26.1s\n",
      "969:\tlearn: 1825.4960461\ttotal: 13m 37s\tremaining: 25.3s\n",
      "970:\tlearn: 1825.3758444\ttotal: 13m 37s\tremaining: 24.4s\n",
      "971:\tlearn: 1825.2473561\ttotal: 13m 38s\tremaining: 23.6s\n",
      "972:\tlearn: 1825.0931722\ttotal: 13m 39s\tremaining: 22.7s\n",
      "973:\tlearn: 1824.9645965\ttotal: 13m 40s\tremaining: 21.9s\n",
      "974:\tlearn: 1824.8841751\ttotal: 13m 41s\tremaining: 21.1s\n",
      "975:\tlearn: 1824.7866580\ttotal: 13m 42s\tremaining: 20.2s\n",
      "976:\tlearn: 1824.6398757\ttotal: 13m 43s\tremaining: 19.4s\n",
      "977:\tlearn: 1824.5135949\ttotal: 13m 43s\tremaining: 18.5s\n",
      "978:\tlearn: 1824.3669808\ttotal: 13m 44s\tremaining: 17.7s\n",
      "979:\tlearn: 1824.1973871\ttotal: 13m 45s\tremaining: 16.9s\n",
      "980:\tlearn: 1824.0703826\ttotal: 13m 46s\tremaining: 16s\n",
      "981:\tlearn: 1823.9833117\ttotal: 13m 47s\tremaining: 15.2s\n",
      "982:\tlearn: 1823.8489200\ttotal: 13m 48s\tremaining: 14.3s\n",
      "983:\tlearn: 1823.7122734\ttotal: 13m 48s\tremaining: 13.5s\n",
      "984:\tlearn: 1823.6631951\ttotal: 13m 49s\tremaining: 12.6s\n",
      "985:\tlearn: 1823.5993603\ttotal: 13m 50s\tremaining: 11.8s\n",
      "986:\tlearn: 1823.5086917\ttotal: 13m 51s\tremaining: 11s\n",
      "987:\tlearn: 1823.4045650\ttotal: 13m 52s\tremaining: 10.1s\n",
      "988:\tlearn: 1823.3634301\ttotal: 13m 53s\tremaining: 9.27s\n",
      "989:\tlearn: 1823.1996660\ttotal: 13m 53s\tremaining: 8.42s\n",
      "990:\tlearn: 1823.1618100\ttotal: 13m 54s\tremaining: 7.58s\n",
      "991:\tlearn: 1823.0423817\ttotal: 13m 55s\tremaining: 6.74s\n",
      "992:\tlearn: 1823.0039545\ttotal: 13m 55s\tremaining: 5.89s\n",
      "993:\tlearn: 1822.9081687\ttotal: 13m 56s\tremaining: 5.05s\n",
      "994:\tlearn: 1822.7759817\ttotal: 13m 57s\tremaining: 4.21s\n",
      "995:\tlearn: 1822.7382915\ttotal: 13m 57s\tremaining: 3.37s\n",
      "996:\tlearn: 1822.5838440\ttotal: 13m 58s\tremaining: 2.52s\n",
      "997:\tlearn: 1822.4384696\ttotal: 13m 59s\tremaining: 1.68s\n",
      "998:\tlearn: 1822.3706293\ttotal: 14m\tremaining: 841ms\n",
      "999:\tlearn: 1822.3403829\ttotal: 14m 1s\tremaining: 0us\n",
      "CPU times: user 12min 57s, sys: 59 s, total: 13min 56s\n",
      "Wall time: 14min 8s\n"
     ]
    },
    {
     "data": {
      "text/plain": [
       "<catboost.core.CatBoostRegressor at 0x7f7b52b55ad0>"
      ]
     },
     "execution_count": 47,
     "metadata": {},
     "output_type": "execute_result"
    }
   ],
   "source": [
    "model_cat_default = CatBoostRegressor(random_state=RANDOM_STATE)\n",
    "\n",
    "%time model_cat_default.fit(features_train_cat, target_train, cat_features=cat_features) "
   ]
  },
  {
   "cell_type": "code",
   "execution_count": 48,
   "metadata": {},
   "outputs": [
    {
     "name": "stdout",
     "output_type": "stream",
     "text": [
      "CPU times: user 2.15 s, sys: 24.3 ms, total: 2.18 s\n",
      "Wall time: 2.2 s\n"
     ]
    }
   ],
   "source": [
    "%time model_cat_predictions = model_cat_default.predict(features_train_cat)"
   ]
  },
  {
   "cell_type": "code",
   "execution_count": 49,
   "metadata": {},
   "outputs": [
    {
     "name": "stdout",
     "output_type": "stream",
     "text": [
      "RMSE = 1816.522829907474\n",
      "R2 = 0.8379788266615493\n"
     ]
    }
   ],
   "source": [
    "print(f'RMSE = {mean_squared_error(target_train, model_cat_predictions)**0.5}')\n",
    "print(f'R2 = {r2_score(target_train, model_cat_predictions)}')"
   ]
  },
  {
   "cell_type": "markdown",
   "metadata": {},
   "source": [
    "<div align='justify'> <i> Подберем гиперпараметры для модели градиентного бустинга из библиотеки CatBoost."
   ]
  },
  {
   "cell_type": "code",
   "execution_count": 50,
   "metadata": {},
   "outputs": [],
   "source": [
    "model = CatBoostRegressor(random_state=RANDOM_STATE)\n",
    "\n",
    "model_params = {\"iterations\":[100, 200, 300],\n",
    "                \"depth\":[4, 6, 10],\n",
    "               'learning_rate':[0.03, 0.1]}\n",
    "\n",
    "grid = GridSearchCV(model, model_params , cv=3, n_jobs=-1, verbose=True)"
   ]
  },
  {
   "cell_type": "code",
   "execution_count": 51,
   "metadata": {},
   "outputs": [
    {
     "data": {
      "text/plain": [
       "'\\ngrid.fit(features_train_cat, target_train)\\nprint(grid.best_params_)\\nprint(grid.best_score_)\\n'"
      ]
     },
     "execution_count": 51,
     "metadata": {},
     "output_type": "execute_result"
    }
   ],
   "source": [
    "\"\"\"\n",
    "grid.fit(features_train_cat, target_train)\n",
    "print(grid.best_params_)\n",
    "print(grid.best_score_)\n",
    "\"\"\""
   ]
  },
  {
   "cell_type": "markdown",
   "metadata": {},
   "source": [
    "<div style = \"border:solid #a1b5c9 2px; padding: 20px; background: #f0f0f0\" align=\"justify\"> Лучшие параметры модели: iterations = 300, depth = 10, learning_rate = 0.1.<br>  R2 = 0.8470166971356263."
   ]
  },
  {
   "cell_type": "code",
   "execution_count": 52,
   "metadata": {},
   "outputs": [
    {
     "name": "stdout",
     "output_type": "stream",
     "text": [
      "0:\tlearn: 4207.7086258\ttotal: 1.89s\tremaining: 9m 25s\n",
      "1:\tlearn: 3927.0870395\ttotal: 3.6s\tremaining: 8m 55s\n",
      "2:\tlearn: 3682.0201304\ttotal: 5.2s\tremaining: 8m 34s\n",
      "3:\tlearn: 3467.7838517\ttotal: 6.99s\tremaining: 8m 36s\n",
      "4:\tlearn: 3284.0253909\ttotal: 8.6s\tremaining: 8m 27s\n",
      "5:\tlearn: 3122.2527105\ttotal: 10.4s\tremaining: 8m 29s\n",
      "6:\tlearn: 2982.4255045\ttotal: 12.1s\tremaining: 8m 25s\n",
      "7:\tlearn: 2863.7931241\ttotal: 13.6s\tremaining: 8m 15s\n",
      "8:\tlearn: 2757.0922470\ttotal: 15.3s\tremaining: 8m 14s\n",
      "9:\tlearn: 2662.5229376\ttotal: 16.9s\tremaining: 8m 9s\n",
      "10:\tlearn: 2578.8508299\ttotal: 18.5s\tremaining: 8m 5s\n",
      "11:\tlearn: 2502.2968879\ttotal: 20.2s\tremaining: 8m 4s\n",
      "12:\tlearn: 2439.0626180\ttotal: 21.8s\tremaining: 8m\n",
      "13:\tlearn: 2386.6527863\ttotal: 23.6s\tremaining: 8m 1s\n",
      "14:\tlearn: 2341.1100186\ttotal: 25s\tremaining: 7m 54s\n",
      "15:\tlearn: 2298.0292391\ttotal: 26.6s\tremaining: 7m 51s\n",
      "16:\tlearn: 2262.2714754\ttotal: 28.3s\tremaining: 7m 50s\n",
      "17:\tlearn: 2228.0737864\ttotal: 29.9s\tremaining: 7m 47s\n",
      "18:\tlearn: 2200.1172388\ttotal: 31.7s\tremaining: 7m 48s\n",
      "19:\tlearn: 2175.9060946\ttotal: 33.6s\tremaining: 7m 50s\n",
      "20:\tlearn: 2153.5533358\ttotal: 35.1s\tremaining: 7m 46s\n",
      "21:\tlearn: 2134.7694015\ttotal: 36.8s\tremaining: 7m 44s\n",
      "22:\tlearn: 2114.9405515\ttotal: 38.2s\tremaining: 7m 39s\n",
      "23:\tlearn: 2096.8279042\ttotal: 39.6s\tremaining: 7m 35s\n",
      "24:\tlearn: 2082.4779726\ttotal: 41.1s\tremaining: 7m 31s\n",
      "25:\tlearn: 2069.4389798\ttotal: 42.7s\tremaining: 7m 29s\n",
      "26:\tlearn: 2055.4863782\ttotal: 44.2s\tremaining: 7m 26s\n",
      "27:\tlearn: 2045.4255968\ttotal: 45.9s\tremaining: 7m 25s\n",
      "28:\tlearn: 2034.7105867\ttotal: 47.5s\tremaining: 7m 23s\n",
      "29:\tlearn: 2022.3644089\ttotal: 49.1s\tremaining: 7m 21s\n",
      "30:\tlearn: 2014.1176293\ttotal: 50.9s\tremaining: 7m 21s\n",
      "31:\tlearn: 2004.6643645\ttotal: 52.5s\tremaining: 7m 19s\n",
      "32:\tlearn: 1998.1237167\ttotal: 54.3s\tremaining: 7m 18s\n",
      "33:\tlearn: 1989.7607331\ttotal: 55.9s\tremaining: 7m 16s\n",
      "34:\tlearn: 1982.6531742\ttotal: 57.5s\tremaining: 7m 15s\n",
      "35:\tlearn: 1976.5746571\ttotal: 59.3s\tremaining: 7m 14s\n",
      "36:\tlearn: 1970.7200215\ttotal: 1m\tremaining: 7m 13s\n",
      "37:\tlearn: 1964.1916488\ttotal: 1m 2s\tremaining: 7m 11s\n",
      "38:\tlearn: 1958.6195561\ttotal: 1m 4s\tremaining: 7m 10s\n",
      "39:\tlearn: 1953.8111903\ttotal: 1m 5s\tremaining: 7m 7s\n",
      "40:\tlearn: 1947.8882112\ttotal: 1m 7s\tremaining: 7m 5s\n",
      "41:\tlearn: 1942.7931306\ttotal: 1m 9s\tremaining: 7m 4s\n",
      "42:\tlearn: 1939.2924726\ttotal: 1m 10s\tremaining: 7m 2s\n",
      "43:\tlearn: 1934.6758369\ttotal: 1m 12s\tremaining: 6m 59s\n",
      "44:\tlearn: 1929.9868002\ttotal: 1m 13s\tremaining: 6m 58s\n",
      "45:\tlearn: 1924.9952422\ttotal: 1m 15s\tremaining: 6m 56s\n",
      "46:\tlearn: 1921.6043507\ttotal: 1m 17s\tremaining: 6m 55s\n",
      "47:\tlearn: 1916.4875222\ttotal: 1m 18s\tremaining: 6m 54s\n",
      "48:\tlearn: 1911.1035960\ttotal: 1m 20s\tremaining: 6m 52s\n",
      "49:\tlearn: 1906.1850902\ttotal: 1m 21s\tremaining: 6m 49s\n",
      "50:\tlearn: 1902.9554860\ttotal: 1m 23s\tremaining: 6m 47s\n",
      "51:\tlearn: 1901.1727031\ttotal: 1m 25s\tremaining: 6m 46s\n",
      "52:\tlearn: 1898.0478117\ttotal: 1m 26s\tremaining: 6m 45s\n",
      "53:\tlearn: 1893.3145001\ttotal: 1m 28s\tremaining: 6m 43s\n",
      "54:\tlearn: 1891.5133830\ttotal: 1m 30s\tremaining: 6m 42s\n",
      "55:\tlearn: 1887.2122876\ttotal: 1m 32s\tremaining: 6m 40s\n",
      "56:\tlearn: 1883.3404137\ttotal: 1m 33s\tremaining: 6m 39s\n",
      "57:\tlearn: 1881.0762505\ttotal: 1m 35s\tremaining: 6m 38s\n",
      "58:\tlearn: 1878.4277909\ttotal: 1m 37s\tremaining: 6m 36s\n",
      "59:\tlearn: 1874.2755943\ttotal: 1m 38s\tremaining: 6m 35s\n",
      "60:\tlearn: 1871.0320211\ttotal: 1m 40s\tremaining: 6m 33s\n",
      "61:\tlearn: 1868.7244993\ttotal: 1m 42s\tremaining: 6m 32s\n",
      "62:\tlearn: 1865.6963683\ttotal: 1m 43s\tremaining: 6m 30s\n",
      "63:\tlearn: 1863.1105478\ttotal: 1m 45s\tremaining: 6m 29s\n",
      "64:\tlearn: 1860.5853913\ttotal: 1m 47s\tremaining: 6m 28s\n",
      "65:\tlearn: 1858.3406749\ttotal: 1m 49s\tremaining: 6m 26s\n",
      "66:\tlearn: 1856.4014470\ttotal: 1m 50s\tremaining: 6m 25s\n",
      "67:\tlearn: 1853.7234710\ttotal: 1m 52s\tremaining: 6m 22s\n",
      "68:\tlearn: 1850.1924939\ttotal: 1m 54s\tremaining: 6m 21s\n",
      "69:\tlearn: 1846.2709178\ttotal: 1m 55s\tremaining: 6m 20s\n",
      "70:\tlearn: 1843.7697473\ttotal: 1m 57s\tremaining: 6m 18s\n",
      "71:\tlearn: 1842.2304296\ttotal: 1m 59s\tremaining: 6m 17s\n",
      "72:\tlearn: 1839.6809725\ttotal: 2m 1s\tremaining: 6m 16s\n",
      "73:\tlearn: 1838.6362271\ttotal: 2m 2s\tremaining: 6m 15s\n",
      "74:\tlearn: 1836.8067804\ttotal: 2m 4s\tremaining: 6m 14s\n",
      "75:\tlearn: 1835.4103789\ttotal: 2m 6s\tremaining: 6m 12s\n",
      "76:\tlearn: 1833.4239148\ttotal: 2m 8s\tremaining: 6m 11s\n",
      "77:\tlearn: 1830.9557898\ttotal: 2m 9s\tremaining: 6m 9s\n",
      "78:\tlearn: 1827.9993742\ttotal: 2m 11s\tremaining: 6m 7s\n",
      "79:\tlearn: 1825.2165097\ttotal: 2m 13s\tremaining: 6m 6s\n",
      "80:\tlearn: 1822.1169534\ttotal: 2m 14s\tremaining: 6m 4s\n",
      "81:\tlearn: 1820.2637501\ttotal: 2m 17s\tremaining: 6m 4s\n",
      "82:\tlearn: 1817.7545256\ttotal: 2m 18s\tremaining: 6m 3s\n",
      "83:\tlearn: 1816.3098352\ttotal: 2m 20s\tremaining: 6m 1s\n",
      "84:\tlearn: 1814.9331222\ttotal: 2m 22s\tremaining: 6m\n",
      "85:\tlearn: 1813.2785748\ttotal: 2m 24s\tremaining: 5m 58s\n",
      "86:\tlearn: 1812.0729109\ttotal: 2m 26s\tremaining: 5m 57s\n",
      "87:\tlearn: 1809.5016022\ttotal: 2m 27s\tremaining: 5m 56s\n",
      "88:\tlearn: 1808.1501976\ttotal: 2m 29s\tremaining: 5m 55s\n",
      "89:\tlearn: 1806.4590239\ttotal: 2m 31s\tremaining: 5m 54s\n",
      "90:\tlearn: 1804.5076347\ttotal: 2m 33s\tremaining: 5m 52s\n",
      "91:\tlearn: 1802.4832987\ttotal: 2m 35s\tremaining: 5m 51s\n",
      "92:\tlearn: 1801.7831481\ttotal: 2m 37s\tremaining: 5m 50s\n",
      "93:\tlearn: 1800.2881792\ttotal: 2m 39s\tremaining: 5m 48s\n",
      "94:\tlearn: 1798.2856914\ttotal: 2m 40s\tremaining: 5m 46s\n",
      "95:\tlearn: 1796.7174379\ttotal: 2m 42s\tremaining: 5m 45s\n",
      "96:\tlearn: 1795.6467295\ttotal: 2m 44s\tremaining: 5m 44s\n",
      "97:\tlearn: 1794.2331504\ttotal: 2m 46s\tremaining: 5m 42s\n",
      "98:\tlearn: 1792.7431554\ttotal: 2m 48s\tremaining: 5m 42s\n",
      "99:\tlearn: 1792.1856655\ttotal: 2m 50s\tremaining: 5m 41s\n",
      "100:\tlearn: 1789.6963598\ttotal: 2m 52s\tremaining: 5m 40s\n",
      "101:\tlearn: 1788.0070008\ttotal: 2m 54s\tremaining: 5m 39s\n",
      "102:\tlearn: 1786.7051273\ttotal: 2m 56s\tremaining: 5m 38s\n",
      "103:\tlearn: 1785.8179939\ttotal: 2m 59s\tremaining: 5m 37s\n",
      "104:\tlearn: 1785.2407008\ttotal: 3m 1s\tremaining: 5m 36s\n",
      "105:\tlearn: 1783.3690197\ttotal: 3m 3s\tremaining: 5m 35s\n",
      "106:\tlearn: 1782.4171436\ttotal: 3m 5s\tremaining: 5m 33s\n",
      "107:\tlearn: 1781.6319928\ttotal: 3m 7s\tremaining: 5m 32s\n",
      "108:\tlearn: 1778.7983039\ttotal: 3m 8s\tremaining: 5m 30s\n",
      "109:\tlearn: 1777.4695978\ttotal: 3m 10s\tremaining: 5m 29s\n",
      "110:\tlearn: 1777.4695977\ttotal: 3m 10s\tremaining: 5m 24s\n",
      "111:\tlearn: 1775.8864178\ttotal: 3m 12s\tremaining: 5m 23s\n",
      "112:\tlearn: 1774.0183987\ttotal: 3m 14s\tremaining: 5m 21s\n",
      "113:\tlearn: 1773.1640092\ttotal: 3m 16s\tremaining: 5m 20s\n",
      "114:\tlearn: 1771.6177087\ttotal: 3m 18s\tremaining: 5m 18s\n",
      "115:\tlearn: 1770.8746280\ttotal: 3m 19s\tremaining: 5m 17s\n",
      "116:\tlearn: 1770.0222665\ttotal: 3m 22s\tremaining: 5m 16s\n",
      "117:\tlearn: 1768.6706547\ttotal: 3m 23s\tremaining: 5m 14s\n",
      "118:\tlearn: 1768.1223874\ttotal: 3m 25s\tremaining: 5m 12s\n",
      "119:\tlearn: 1766.9903352\ttotal: 3m 27s\tremaining: 5m 11s\n",
      "120:\tlearn: 1766.0257546\ttotal: 3m 29s\tremaining: 5m 9s\n",
      "121:\tlearn: 1765.3934554\ttotal: 3m 31s\tremaining: 5m 7s\n",
      "122:\tlearn: 1764.1565525\ttotal: 3m 32s\tremaining: 5m 6s\n",
      "123:\tlearn: 1763.3656505\ttotal: 3m 34s\tremaining: 5m 4s\n",
      "124:\tlearn: 1762.2769375\ttotal: 3m 36s\tremaining: 5m 2s\n",
      "125:\tlearn: 1761.6404011\ttotal: 3m 37s\tremaining: 5m\n",
      "126:\tlearn: 1759.9168570\ttotal: 3m 39s\tremaining: 4m 59s\n",
      "127:\tlearn: 1758.7223288\ttotal: 3m 41s\tremaining: 4m 57s\n",
      "128:\tlearn: 1757.5988842\ttotal: 3m 43s\tremaining: 4m 55s\n",
      "129:\tlearn: 1756.8226040\ttotal: 3m 45s\tremaining: 4m 54s\n",
      "130:\tlearn: 1755.8389259\ttotal: 3m 47s\tremaining: 4m 53s\n",
      "131:\tlearn: 1755.2099041\ttotal: 3m 49s\tremaining: 4m 52s\n",
      "132:\tlearn: 1753.3124093\ttotal: 3m 51s\tremaining: 4m 50s\n",
      "133:\tlearn: 1752.0133800\ttotal: 3m 53s\tremaining: 4m 48s\n",
      "134:\tlearn: 1751.0020586\ttotal: 3m 55s\tremaining: 4m 47s\n",
      "135:\tlearn: 1750.0280551\ttotal: 3m 57s\tremaining: 4m 46s\n",
      "136:\tlearn: 1749.4161753\ttotal: 3m 59s\tremaining: 4m 45s\n",
      "137:\tlearn: 1748.7086434\ttotal: 4m 1s\tremaining: 4m 43s\n",
      "138:\tlearn: 1747.8858722\ttotal: 4m 3s\tremaining: 4m 42s\n",
      "139:\tlearn: 1747.0842649\ttotal: 4m 6s\tremaining: 4m 41s\n",
      "140:\tlearn: 1746.1200461\ttotal: 4m 7s\tremaining: 4m 39s\n",
      "141:\tlearn: 1744.4388082\ttotal: 4m 9s\tremaining: 4m 38s\n",
      "142:\tlearn: 1743.5567363\ttotal: 4m 12s\tremaining: 4m 36s\n",
      "143:\tlearn: 1742.7284471\ttotal: 4m 13s\tremaining: 4m 35s\n",
      "144:\tlearn: 1741.9831060\ttotal: 4m 16s\tremaining: 4m 33s\n",
      "145:\tlearn: 1741.2059051\ttotal: 4m 18s\tremaining: 4m 32s\n",
      "146:\tlearn: 1740.3040489\ttotal: 4m 20s\tremaining: 4m 30s\n",
      "147:\tlearn: 1739.6401296\ttotal: 4m 22s\tremaining: 4m 29s\n",
      "148:\tlearn: 1738.6302393\ttotal: 4m 24s\tremaining: 4m 28s\n",
      "149:\tlearn: 1737.5724322\ttotal: 4m 26s\tremaining: 4m 26s\n",
      "150:\tlearn: 1736.5976605\ttotal: 4m 28s\tremaining: 4m 24s\n",
      "151:\tlearn: 1735.3388111\ttotal: 4m 30s\tremaining: 4m 23s\n",
      "152:\tlearn: 1734.5096939\ttotal: 4m 32s\tremaining: 4m 22s\n",
      "153:\tlearn: 1733.1540147\ttotal: 4m 35s\tremaining: 4m 20s\n",
      "154:\tlearn: 1732.2866188\ttotal: 4m 37s\tremaining: 4m 19s\n",
      "155:\tlearn: 1731.2614968\ttotal: 4m 39s\tremaining: 4m 17s\n",
      "156:\tlearn: 1730.7055040\ttotal: 4m 41s\tremaining: 4m 16s\n",
      "157:\tlearn: 1729.9156157\ttotal: 4m 43s\tremaining: 4m 14s\n",
      "158:\tlearn: 1729.4200010\ttotal: 4m 45s\tremaining: 4m 13s\n",
      "159:\tlearn: 1728.3788122\ttotal: 4m 48s\tremaining: 4m 12s\n",
      "160:\tlearn: 1727.5537012\ttotal: 4m 49s\tremaining: 4m 10s\n",
      "161:\tlearn: 1727.3541958\ttotal: 4m 51s\tremaining: 4m 8s\n",
      "162:\tlearn: 1726.7691549\ttotal: 4m 53s\tremaining: 4m 6s\n",
      "163:\tlearn: 1726.3198651\ttotal: 4m 55s\tremaining: 4m 5s\n",
      "164:\tlearn: 1725.5005074\ttotal: 4m 57s\tremaining: 4m 3s\n",
      "165:\tlearn: 1725.3272140\ttotal: 4m 59s\tremaining: 4m 1s\n",
      "166:\tlearn: 1724.0612568\ttotal: 5m 1s\tremaining: 4m\n",
      "167:\tlearn: 1723.2160096\ttotal: 5m 3s\tremaining: 3m 58s\n",
      "168:\tlearn: 1722.8495928\ttotal: 5m 5s\tremaining: 3m 57s\n",
      "169:\tlearn: 1721.9730914\ttotal: 5m 7s\tremaining: 3m 55s\n",
      "170:\tlearn: 1720.8861969\ttotal: 5m 9s\tremaining: 3m 53s\n",
      "171:\tlearn: 1719.9132423\ttotal: 5m 11s\tremaining: 3m 51s\n",
      "172:\tlearn: 1719.3367937\ttotal: 5m 13s\tremaining: 3m 50s\n",
      "173:\tlearn: 1718.8443613\ttotal: 5m 15s\tremaining: 3m 48s\n",
      "174:\tlearn: 1717.8655043\ttotal: 5m 17s\tremaining: 3m 46s\n",
      "175:\tlearn: 1717.4631289\ttotal: 5m 19s\tremaining: 3m 45s\n",
      "176:\tlearn: 1716.2450277\ttotal: 5m 21s\tremaining: 3m 43s\n",
      "177:\tlearn: 1715.5276081\ttotal: 5m 23s\tremaining: 3m 41s\n",
      "178:\tlearn: 1714.5704914\ttotal: 5m 25s\tremaining: 3m 40s\n",
      "179:\tlearn: 1714.1024717\ttotal: 5m 27s\tremaining: 3m 38s\n",
      "180:\tlearn: 1714.0689535\ttotal: 5m 30s\tremaining: 3m 37s\n",
      "181:\tlearn: 1713.9207637\ttotal: 5m 31s\tremaining: 3m 35s\n",
      "182:\tlearn: 1713.5685509\ttotal: 5m 34s\tremaining: 3m 33s\n",
      "183:\tlearn: 1713.3196208\ttotal: 5m 36s\tremaining: 3m 31s\n",
      "184:\tlearn: 1712.2483527\ttotal: 5m 38s\tremaining: 3m 30s\n",
      "185:\tlearn: 1711.4188531\ttotal: 5m 40s\tremaining: 3m 28s\n",
      "186:\tlearn: 1710.8966948\ttotal: 5m 42s\tremaining: 3m 27s\n",
      "187:\tlearn: 1710.3378837\ttotal: 5m 44s\tremaining: 3m 25s\n",
      "188:\tlearn: 1709.4411250\ttotal: 5m 46s\tremaining: 3m 23s\n",
      "189:\tlearn: 1708.9881136\ttotal: 5m 49s\tremaining: 3m 22s\n",
      "190:\tlearn: 1707.8151818\ttotal: 5m 51s\tremaining: 3m 20s\n",
      "191:\tlearn: 1707.0693516\ttotal: 5m 53s\tremaining: 3m 18s\n",
      "192:\tlearn: 1706.1912763\ttotal: 5m 55s\tremaining: 3m 17s\n",
      "193:\tlearn: 1705.2620322\ttotal: 5m 57s\tremaining: 3m 15s\n",
      "194:\tlearn: 1704.8297018\ttotal: 5m 59s\tremaining: 3m 13s\n",
      "195:\tlearn: 1703.7031369\ttotal: 6m 1s\tremaining: 3m 11s\n",
      "196:\tlearn: 1703.0215123\ttotal: 6m 3s\tremaining: 3m 10s\n",
      "197:\tlearn: 1702.6025217\ttotal: 6m 5s\tremaining: 3m 8s\n",
      "198:\tlearn: 1701.6433965\ttotal: 6m 7s\tremaining: 3m 6s\n",
      "199:\tlearn: 1701.0866399\ttotal: 6m 9s\tremaining: 3m 4s\n",
      "200:\tlearn: 1700.2524500\ttotal: 6m 11s\tremaining: 3m 2s\n",
      "201:\tlearn: 1699.3534408\ttotal: 6m 13s\tremaining: 3m 1s\n",
      "202:\tlearn: 1699.0959249\ttotal: 6m 15s\tremaining: 2m 59s\n",
      "203:\tlearn: 1698.0353803\ttotal: 6m 17s\tremaining: 2m 57s\n",
      "204:\tlearn: 1697.0776919\ttotal: 6m 19s\tremaining: 2m 55s\n",
      "205:\tlearn: 1696.5613122\ttotal: 6m 21s\tremaining: 2m 54s\n",
      "206:\tlearn: 1695.8508723\ttotal: 6m 23s\tremaining: 2m 52s\n",
      "207:\tlearn: 1694.7150666\ttotal: 6m 25s\tremaining: 2m 50s\n",
      "208:\tlearn: 1694.3559326\ttotal: 6m 28s\tremaining: 2m 48s\n",
      "209:\tlearn: 1693.9074793\ttotal: 6m 30s\tremaining: 2m 47s\n",
      "210:\tlearn: 1693.5194992\ttotal: 6m 32s\tremaining: 2m 45s\n",
      "211:\tlearn: 1692.6032820\ttotal: 6m 34s\tremaining: 2m 43s\n",
      "212:\tlearn: 1692.3318878\ttotal: 6m 36s\tremaining: 2m 42s\n",
      "213:\tlearn: 1691.4566653\ttotal: 6m 38s\tremaining: 2m 40s\n",
      "214:\tlearn: 1690.6793827\ttotal: 6m 40s\tremaining: 2m 38s\n",
      "215:\tlearn: 1690.1827374\ttotal: 6m 42s\tremaining: 2m 36s\n",
      "216:\tlearn: 1689.9998615\ttotal: 6m 44s\tremaining: 2m 34s\n",
      "217:\tlearn: 1689.5420231\ttotal: 6m 47s\tremaining: 2m 33s\n",
      "218:\tlearn: 1689.1430547\ttotal: 6m 49s\tremaining: 2m 31s\n",
      "219:\tlearn: 1688.3613200\ttotal: 6m 51s\tremaining: 2m 29s\n",
      "220:\tlearn: 1688.1926427\ttotal: 6m 53s\tremaining: 2m 27s\n",
      "221:\tlearn: 1687.8264191\ttotal: 6m 55s\tremaining: 2m 26s\n",
      "222:\tlearn: 1687.2673648\ttotal: 6m 58s\tremaining: 2m 24s\n",
      "223:\tlearn: 1686.4985757\ttotal: 6m 59s\tremaining: 2m 22s\n",
      "224:\tlearn: 1685.7188407\ttotal: 7m 1s\tremaining: 2m 20s\n",
      "225:\tlearn: 1685.5854139\ttotal: 7m 3s\tremaining: 2m 18s\n",
      "226:\tlearn: 1685.2597007\ttotal: 7m 6s\tremaining: 2m 17s\n",
      "227:\tlearn: 1684.6781638\ttotal: 7m 7s\tremaining: 2m 15s\n",
      "228:\tlearn: 1684.2027705\ttotal: 7m 9s\tremaining: 2m 13s\n",
      "229:\tlearn: 1683.8401271\ttotal: 7m 12s\tremaining: 2m 11s\n",
      "230:\tlearn: 1683.7027949\ttotal: 7m 14s\tremaining: 2m 9s\n",
      "231:\tlearn: 1683.1472571\ttotal: 7m 16s\tremaining: 2m 8s\n",
      "232:\tlearn: 1682.6387256\ttotal: 7m 18s\tremaining: 2m 6s\n",
      "233:\tlearn: 1682.3623697\ttotal: 7m 20s\tremaining: 2m 4s\n",
      "234:\tlearn: 1681.9487537\ttotal: 7m 22s\tremaining: 2m 2s\n",
      "235:\tlearn: 1681.5160304\ttotal: 7m 25s\tremaining: 2m\n",
      "236:\tlearn: 1681.0976632\ttotal: 7m 27s\tremaining: 1m 58s\n",
      "237:\tlearn: 1680.8303321\ttotal: 7m 29s\tremaining: 1m 57s\n",
      "238:\tlearn: 1680.2269416\ttotal: 7m 31s\tremaining: 1m 55s\n",
      "239:\tlearn: 1679.8236429\ttotal: 7m 33s\tremaining: 1m 53s\n",
      "240:\tlearn: 1679.4071311\ttotal: 7m 35s\tremaining: 1m 51s\n",
      "241:\tlearn: 1678.8445468\ttotal: 7m 37s\tremaining: 1m 49s\n",
      "242:\tlearn: 1678.5905289\ttotal: 7m 40s\tremaining: 1m 47s\n",
      "243:\tlearn: 1677.8581730\ttotal: 7m 42s\tremaining: 1m 46s\n",
      "244:\tlearn: 1677.4323671\ttotal: 7m 44s\tremaining: 1m 44s\n",
      "245:\tlearn: 1676.8941018\ttotal: 7m 46s\tremaining: 1m 42s\n",
      "246:\tlearn: 1676.5383708\ttotal: 7m 48s\tremaining: 1m 40s\n",
      "247:\tlearn: 1676.0287920\ttotal: 7m 50s\tremaining: 1m 38s\n",
      "248:\tlearn: 1675.4797507\ttotal: 7m 53s\tremaining: 1m 36s\n",
      "249:\tlearn: 1674.8294890\ttotal: 7m 55s\tremaining: 1m 35s\n",
      "250:\tlearn: 1673.6346554\ttotal: 7m 57s\tremaining: 1m 33s\n",
      "251:\tlearn: 1673.2818292\ttotal: 7m 59s\tremaining: 1m 31s\n",
      "252:\tlearn: 1672.6645924\ttotal: 8m 1s\tremaining: 1m 29s\n",
      "253:\tlearn: 1671.6563082\ttotal: 8m 3s\tremaining: 1m 27s\n",
      "254:\tlearn: 1671.2447669\ttotal: 8m 5s\tremaining: 1m 25s\n",
      "255:\tlearn: 1670.2903526\ttotal: 8m 7s\tremaining: 1m 23s\n",
      "256:\tlearn: 1669.5697828\ttotal: 8m 9s\tremaining: 1m 21s\n",
      "257:\tlearn: 1669.3006948\ttotal: 8m 11s\tremaining: 1m 19s\n",
      "258:\tlearn: 1668.9996310\ttotal: 8m 13s\tremaining: 1m 18s\n",
      "259:\tlearn: 1668.6914527\ttotal: 8m 15s\tremaining: 1m 16s\n",
      "260:\tlearn: 1668.5853023\ttotal: 8m 17s\tremaining: 1m 14s\n",
      "261:\tlearn: 1668.3160479\ttotal: 8m 19s\tremaining: 1m 12s\n",
      "262:\tlearn: 1667.0628880\ttotal: 8m 21s\tremaining: 1m 10s\n",
      "263:\tlearn: 1666.8408528\ttotal: 8m 23s\tremaining: 1m 8s\n",
      "264:\tlearn: 1666.5443506\ttotal: 8m 25s\tremaining: 1m 6s\n",
      "265:\tlearn: 1666.4872605\ttotal: 8m 27s\tremaining: 1m 4s\n",
      "266:\tlearn: 1666.4012454\ttotal: 8m 29s\tremaining: 1m 3s\n",
      "267:\tlearn: 1665.8620104\ttotal: 8m 31s\tremaining: 1m 1s\n",
      "268:\tlearn: 1665.8162173\ttotal: 8m 33s\tremaining: 59.2s\n",
      "269:\tlearn: 1665.0261662\ttotal: 8m 35s\tremaining: 57.3s\n",
      "270:\tlearn: 1664.7152622\ttotal: 8m 37s\tremaining: 55.4s\n",
      "271:\tlearn: 1664.5110282\ttotal: 8m 40s\tremaining: 53.6s\n",
      "272:\tlearn: 1663.5239890\ttotal: 8m 42s\tremaining: 51.6s\n",
      "273:\tlearn: 1663.1830798\ttotal: 8m 44s\tremaining: 49.8s\n",
      "274:\tlearn: 1662.8157815\ttotal: 8m 46s\tremaining: 47.8s\n",
      "275:\tlearn: 1662.7030663\ttotal: 8m 48s\tremaining: 46s\n",
      "276:\tlearn: 1662.4626351\ttotal: 8m 50s\tremaining: 44.1s\n",
      "277:\tlearn: 1662.0780413\ttotal: 8m 52s\tremaining: 42.2s\n",
      "278:\tlearn: 1661.5765142\ttotal: 8m 55s\tremaining: 40.3s\n",
      "279:\tlearn: 1661.3705975\ttotal: 8m 57s\tremaining: 38.4s\n",
      "280:\tlearn: 1661.2173612\ttotal: 8m 59s\tremaining: 36.5s\n",
      "281:\tlearn: 1660.8832495\ttotal: 9m 2s\tremaining: 34.6s\n",
      "282:\tlearn: 1660.5878551\ttotal: 9m 4s\tremaining: 32.7s\n",
      "283:\tlearn: 1660.4944523\ttotal: 9m 6s\tremaining: 30.8s\n",
      "284:\tlearn: 1660.0008091\ttotal: 9m 8s\tremaining: 28.9s\n",
      "285:\tlearn: 1659.5360729\ttotal: 9m 10s\tremaining: 27s\n",
      "286:\tlearn: 1659.4316903\ttotal: 9m 12s\tremaining: 25s\n",
      "287:\tlearn: 1658.9987774\ttotal: 9m 15s\tremaining: 23.1s\n",
      "288:\tlearn: 1658.5252409\ttotal: 9m 17s\tremaining: 21.2s\n",
      "289:\tlearn: 1658.2669774\ttotal: 9m 19s\tremaining: 19.3s\n",
      "290:\tlearn: 1658.1683623\ttotal: 9m 21s\tremaining: 17.4s\n",
      "291:\tlearn: 1657.4287630\ttotal: 9m 23s\tremaining: 15.4s\n",
      "292:\tlearn: 1657.3686116\ttotal: 9m 25s\tremaining: 13.5s\n",
      "293:\tlearn: 1656.4399163\ttotal: 9m 27s\tremaining: 11.6s\n",
      "294:\tlearn: 1656.1219106\ttotal: 9m 29s\tremaining: 9.66s\n",
      "295:\tlearn: 1655.3872448\ttotal: 9m 32s\tremaining: 7.73s\n",
      "296:\tlearn: 1654.8133921\ttotal: 9m 33s\tremaining: 5.8s\n",
      "297:\tlearn: 1654.4074672\ttotal: 9m 36s\tremaining: 3.87s\n",
      "298:\tlearn: 1653.4824231\ttotal: 9m 38s\tremaining: 1.93s\n",
      "299:\tlearn: 1653.3666352\ttotal: 9m 40s\tremaining: 0us\n",
      "CPU times: user 8min 21s, sys: 25 s, total: 8min 46s\n",
      "Wall time: 9min 46s\n"
     ]
    },
    {
     "data": {
      "text/plain": [
       "<catboost.core.CatBoostRegressor at 0x7f7b52bc5050>"
      ]
     },
     "execution_count": 52,
     "metadata": {},
     "output_type": "execute_result"
    }
   ],
   "source": [
    "model_cat_optimus = CatBoostRegressor(random_state=RANDOM_STATE, iterations = 300,  depth=10, learning_rate=0.1)\n",
    "\n",
    "%time model_cat_optimus.fit(features_train_cat, target_train, cat_features=cat_features)"
   ]
  },
  {
   "cell_type": "code",
   "execution_count": 53,
   "metadata": {},
   "outputs": [
    {
     "name": "stdout",
     "output_type": "stream",
     "text": [
      "CPU times: user 2.17 s, sys: 65.4 ms, total: 2.24 s\n",
      "Wall time: 3.11 s\n"
     ]
    }
   ],
   "source": [
    "%time model_cat_predictions = model_cat_optimus.predict(features_train_cat)"
   ]
  },
  {
   "cell_type": "code",
   "execution_count": 54,
   "metadata": {},
   "outputs": [
    {
     "name": "stdout",
     "output_type": "stream",
     "text": [
      "RMSE = 1657.88683903434\n",
      "R2 = 0.8650416313166691\n"
     ]
    }
   ],
   "source": [
    "print(f'RMSE = {mean_squared_error(target_train, model_cat_predictions)**0.5}')\n",
    "print(f'R2 = {r2_score(target_train, model_cat_predictions)}')"
   ]
  },
  {
   "cell_type": "markdown",
   "metadata": {},
   "source": [
    "<div align='justify'> <i> Исследуем модель градиентного бустинга из библиотеки LightGBM и попытаемся подобрать гиперпарметры этой модели для достижения лучших показателей."
   ]
  },
  {
   "cell_type": "code",
   "execution_count": 55,
   "metadata": {},
   "outputs": [
    {
     "name": "stdout",
     "output_type": "stream",
     "text": [
      "CPU times: user 4min 46s, sys: 0 ns, total: 4min 46s\n",
      "Wall time: 5min 33s\n"
     ]
    },
    {
     "data": {
      "text/plain": [
       "LGBMRegressor(boosting_type='gbdt', class_weight=None, colsample_bytree=1.0,\n",
       "              importance_type='split', learning_rate=0.1, max_depth=-1,\n",
       "              min_child_samples=20, min_child_weight=0.001, min_split_gain=0.0,\n",
       "              n_estimators=100, n_jobs=-1, num_leaves=31, objective=None,\n",
       "              random_state=12345, reg_alpha=0.0, reg_lambda=0.0, silent=True,\n",
       "              subsample=1.0, subsample_for_bin=200000, subsample_freq=0)"
      ]
     },
     "execution_count": 55,
     "metadata": {},
     "output_type": "execute_result"
    }
   ],
   "source": [
    "model_light_default = LGBMRegressor(random_state=RANDOM_STATE)\n",
    "\n",
    "%time model_light_default.fit(features_train_light, target_train)"
   ]
  },
  {
   "cell_type": "code",
   "execution_count": 56,
   "metadata": {},
   "outputs": [
    {
     "name": "stdout",
     "output_type": "stream",
     "text": [
      "CPU times: user 2.62 s, sys: 0 ns, total: 2.62 s\n",
      "Wall time: 3.38 s\n"
     ]
    }
   ],
   "source": [
    "%time model_light_predictions = model_light_default.predict(features_train_light)"
   ]
  },
  {
   "cell_type": "code",
   "execution_count": 57,
   "metadata": {},
   "outputs": [
    {
     "name": "stdout",
     "output_type": "stream",
     "text": [
      "RMSE = 1852.5669917324062\n",
      "R2 = 0.8314852596500356\n"
     ]
    }
   ],
   "source": [
    "print(f'RMSE = {mean_squared_error(target_train, model_light_predictions)**0.5}')\n",
    "print(f'R2 = {r2_score(target_train, model_light_predictions)}')"
   ]
  },
  {
   "cell_type": "markdown",
   "metadata": {},
   "source": [
    "<div align='justify'> <i> Подберем гиперпараметры для модели градиентного бустинга из библиотеки LightGBM."
   ]
  },
  {
   "cell_type": "code",
   "execution_count": 58,
   "metadata": {},
   "outputs": [],
   "source": [
    "model = LGBMRegressor(random_state=RANDOM_STATE)\n",
    "\n",
    "model_params = {'n_estimators' : range(50, 200, 50),\n",
    "                'num_leaves': range(21, 41, 10), \n",
    "                'min_data_in_leaf': range(25, 75, 25)}\n",
    "\n",
    "grid = GridSearchCV(model, model_params , cv=3, n_jobs=-1, verbose=True)"
   ]
  },
  {
   "cell_type": "code",
   "execution_count": 59,
   "metadata": {},
   "outputs": [
    {
     "data": {
      "text/plain": [
       "'\\ngrid.fit(features_train_light, target_train)\\nprint(grid.best_params_)\\nprint(grid.best_score_)\\n'"
      ]
     },
     "execution_count": 59,
     "metadata": {},
     "output_type": "execute_result"
    }
   ],
   "source": [
    "\"\"\"\n",
    "grid.fit(features_train_light, target_train)\n",
    "print(grid.best_params_)\n",
    "print(grid.best_score_)\n",
    "\"\"\""
   ]
  },
  {
   "cell_type": "markdown",
   "metadata": {},
   "source": [
    "<div style = \"border:solid #a1b5c9 2px; padding: 20px; background: #f0f0f0\" align=\"justify\"> Лучшие параметры модели: n_estimators = 150, num_leaves = 31, min_data_in_leaf = 25.<br>\n",
    "R2 = 0.8349256388569116."
   ]
  },
  {
   "cell_type": "code",
   "execution_count": 60,
   "metadata": {},
   "outputs": [
    {
     "name": "stdout",
     "output_type": "stream",
     "text": [
      "CPU times: user 1min 9s, sys: 0 ns, total: 1min 9s\n",
      "Wall time: 1min 20s\n"
     ]
    },
    {
     "data": {
      "text/plain": [
       "LGBMRegressor(boosting_type='gbdt', class_weight=None, colsample_bytree=1.0,\n",
       "              importance_type='split', learning_rate=0.1, max_depth=-1,\n",
       "              min_child_samples=20, min_child_weight=0.001, min_data_in_leaf=25,\n",
       "              min_split_gain=0.0, n_estimators=150, n_jobs=-1, num_leaves=31,\n",
       "              objective=None, random_state=12345, reg_alpha=0.0, reg_lambda=0.0,\n",
       "              silent=True, subsample=1.0, subsample_for_bin=200000,\n",
       "              subsample_freq=0)"
      ]
     },
     "execution_count": 60,
     "metadata": {},
     "output_type": "execute_result"
    }
   ],
   "source": [
    "model_light_optimus = LGBMRegressor(random_state=RANDOM_STATE, n_estimators=150, num_leaves = 31, min_data_in_leaf = 25)\n",
    "\n",
    "%time model_light_optimus.fit(features_train_light, target_train)"
   ]
  },
  {
   "cell_type": "code",
   "execution_count": 61,
   "metadata": {},
   "outputs": [
    {
     "name": "stdout",
     "output_type": "stream",
     "text": [
      "CPU times: user 2.54 s, sys: 0 ns, total: 2.54 s\n",
      "Wall time: 2.59 s\n"
     ]
    }
   ],
   "source": [
    "%time model_light_predictions = model_light_default.predict(features_train_light)"
   ]
  },
  {
   "cell_type": "code",
   "execution_count": 62,
   "metadata": {},
   "outputs": [
    {
     "name": "stdout",
     "output_type": "stream",
     "text": [
      "RMSE = 1852.5669917324062\n",
      "R2 = 0.8314852596500356\n"
     ]
    }
   ],
   "source": [
    "print(f'RMSE = {mean_squared_error(target_train, model_light_predictions)**0.5}')\n",
    "print(f'R2 = {r2_score(target_train, model_light_predictions)}')"
   ]
  },
  {
   "cell_type": "markdown",
   "metadata": {},
   "source": [
    "<div style = \"border:solid #a1b5c9 2px; padding: 20px; background: #f0f0f0\" align=\"justify\"> Лучшие результаты показала модель градиентного бустинга из библиотеки CatBoost cо следующими гиперпарметрами: iterations = 300,  depth=10, learning_rate=0.1."
   ]
  },
  {
   "cell_type": "markdown",
   "metadata": {},
   "source": [
    "# 4. Анализ моделей <a name=\"step4\"></a>"
   ]
  },
  {
   "cell_type": "markdown",
   "metadata": {},
   "source": [
    "<div align=\"justify\"> <i> Проверим модели на тестовой выборке.<br>\n",
    "Сначала модель градиентного бустинга из библиотеки CatBoost c гиперпарметрами по умолчанию."
   ]
  },
  {
   "cell_type": "code",
   "execution_count": 63,
   "metadata": {},
   "outputs": [
    {
     "name": "stdout",
     "output_type": "stream",
     "text": [
      "CPU times: user 743 ms, sys: 0 ns, total: 743 ms\n",
      "Wall time: 787 ms\n"
     ]
    }
   ],
   "source": [
    "%time model_cat_predictions = model_cat_default.predict(features_test_cat)"
   ]
  },
  {
   "cell_type": "code",
   "execution_count": 64,
   "metadata": {},
   "outputs": [
    {
     "data": {
      "image/png": "[encoded data removed]",
      "text/plain": [
       "<Figure size 432x288 with 1 Axes>"
      ]
     },
     "metadata": {
      "needs_background": "light"
     },
     "output_type": "display_data"
    },
    {
     "name": "stdout",
     "output_type": "stream",
     "text": [
      "RMSE = 1839.4545471785893\n",
      "R2 = 0.8344960291095656\n"
     ]
    }
   ],
   "source": [
    "sns.regplot(x=target_test, y=model_cat_predictions, scatter_kws={'alpha':0.04}, line_kws={\"color\": COLOR_LINE}, color=COLOR)\n",
    "arrange = [target_test.min(), target_test.max()]\n",
    "sns.lineplot(x=arrange, y=arrange, color='black')\n",
    "\n",
    "plt.show()\n",
    "\n",
    "rmse_CatBoost_default = mean_squared_error(target_test, model_cat_predictions)**0.5\n",
    "r2_CatBoost_default = r2_score(target_test, model_cat_predictions)\n",
    "print(f'RMSE = {rmse_CatBoost_default}')\n",
    "print(f'R2 = {r2_CatBoost_default}')"
   ]
  },
  {
   "cell_type": "markdown",
   "metadata": {},
   "source": [
    "<div align=\"justify\"> <i> Протестируем модель градиентного бустинга из библиотеки CatBoost c подобранными гиперпарметрами."
   ]
  },
  {
   "cell_type": "code",
   "execution_count": 65,
   "metadata": {},
   "outputs": [
    {
     "name": "stdout",
     "output_type": "stream",
     "text": [
      "CPU times: user 719 ms, sys: 28.5 ms, total: 748 ms\n",
      "Wall time: 703 ms\n"
     ]
    }
   ],
   "source": [
    "%time model_cat_predictions = model_cat_optimus.predict(features_test_cat)"
   ]
  },
  {
   "cell_type": "code",
   "execution_count": 66,
   "metadata": {},
   "outputs": [
    {
     "data": {
      "image/png": "[encoded data removed]",
      "text/plain": [
       "<Figure size 432x288 with 1 Axes>"
      ]
     },
     "metadata": {
      "needs_background": "light"
     },
     "output_type": "display_data"
    },
    {
     "name": "stdout",
     "output_type": "stream",
     "text": [
      "RMSE = 1737.3403809163492\n",
      "R2 = 0.8523613299211751\n"
     ]
    }
   ],
   "source": [
    "sns.regplot(x=target_test, y=model_cat_predictions, scatter_kws={'alpha':0.04}, line_kws={\"color\": COLOR_LINE}, color=COLOR)\n",
    "arrange = [target_test.min(), target_test.max()]\n",
    "sns.lineplot(x=arrange, y=arrange, color='black')\n",
    "\n",
    "plt.show()\n",
    "\n",
    "rmse_CatBoost_optimus = mean_squared_error(target_test, model_cat_predictions)**0.5\n",
    "r2_CatBoost_optimus = r2_score(target_test, model_cat_predictions)\n",
    "print(f'RMSE = {rmse_CatBoost_optimus}')\n",
    "print(f'R2 = {r2_CatBoost_optimus}')"
   ]
  },
  {
   "cell_type": "markdown",
   "metadata": {},
   "source": [
    "<div align=\"justify\"> <i> Проверим модель градиентного бустинга из библиотеки LightGBM."
   ]
  },
  {
   "cell_type": "code",
   "execution_count": 67,
   "metadata": {},
   "outputs": [
    {
     "name": "stdout",
     "output_type": "stream",
     "text": [
      "CPU times: user 861 ms, sys: 0 ns, total: 861 ms\n",
      "Wall time: 832 ms\n"
     ]
    }
   ],
   "source": [
    "%time model_light_predictions = model_light_default.predict(features_test_light)"
   ]
  },
  {
   "cell_type": "code",
   "execution_count": 68,
   "metadata": {},
   "outputs": [
    {
     "data": {
      "image/png": "[encoded data removed]",
      "text/plain": [
       "<Figure size 432x288 with 1 Axes>"
      ]
     },
     "metadata": {
      "needs_background": "light"
     },
     "output_type": "display_data"
    },
    {
     "name": "stdout",
     "output_type": "stream",
     "text": [
      "RMSE = 1874.7089956651275\n",
      "R2 = 0.8280912339557494\n"
     ]
    }
   ],
   "source": [
    "sns.regplot(x=target_test, y=model_light_predictions, scatter_kws={'alpha':0.04}, line_kws={\"color\": COLOR_LINE}, color=COLOR)\n",
    "arrange = [target_test.min(), target_test.max()]\n",
    "sns.lineplot(x=arrange, y=arrange, color='black')\n",
    "\n",
    "plt.show()\n",
    "\n",
    "rmse_LightGBM_default = mean_squared_error(target_test, model_light_predictions)**0.5\n",
    "r2_LightGBM_default = r2_score(target_test, model_light_predictions)\n",
    "print(f'RMSE = {rmse_LightGBM_default}')\n",
    "print(f'R2 = {r2_LightGBM_default}')"
   ]
  },
  {
   "cell_type": "markdown",
   "metadata": {},
   "source": [
    "<div align=\"justify\"> <i> Протестируем модель градиентного бустинга из библиотеки LightGBM c подобранными гиперпарметрами."
   ]
  },
  {
   "cell_type": "code",
   "execution_count": 69,
   "metadata": {},
   "outputs": [
    {
     "name": "stdout",
     "output_type": "stream",
     "text": [
      "CPU times: user 1.39 s, sys: 0 ns, total: 1.39 s\n",
      "Wall time: 1.39 s\n"
     ]
    }
   ],
   "source": [
    "%time model_light_predictions = model_light_optimus.predict(features_test_light)"
   ]
  },
  {
   "cell_type": "code",
   "execution_count": 70,
   "metadata": {},
   "outputs": [
    {
     "data": {
      "image/png": "[encoded data removed]",
      "text/plain": [
       "<Figure size 432x288 with 1 Axes>"
      ]
     },
     "metadata": {
      "needs_background": "light"
     },
     "output_type": "display_data"
    },
    {
     "name": "stdout",
     "output_type": "stream",
     "text": [
      "RMSE = 1826.906922784801\n",
      "R2 = 0.8367462600216138\n"
     ]
    }
   ],
   "source": [
    "sns.regplot(x=target_test, y=model_light_predictions, scatter_kws={'alpha':0.04}, line_kws={\"color\": COLOR_LINE}, color=COLOR)\n",
    "arrange = [target_test.min(), target_test.max()]\n",
    "sns.lineplot(x=arrange, y=arrange, color='black')\n",
    "\n",
    "plt.show()\n",
    "\n",
    "rmse_LightGBM_optimus = mean_squared_error(target_test, model_light_predictions)**0.5\n",
    "r2_LightGBM_optimus = r2_score(target_test, model_light_predictions)\n",
    "print(f'RMSE = {rmse_LightGBM_optimus}')\n",
    "print(f'R2 = {r2_LightGBM_optimus}')"
   ]
  },
  {
   "cell_type": "markdown",
   "metadata": {},
   "source": [
    "<div align='justify'> <i> Найдем метрики для среднего значения на тестовой выборке.<br>"
   ]
  },
  {
   "cell_type": "code",
   "execution_count": 71,
   "metadata": {},
   "outputs": [
    {
     "name": "stdout",
     "output_type": "stream",
     "text": [
      "RMSE = 4521.524784833311\n",
      "R2 = -2.9446664684407153e-07\n"
     ]
    }
   ],
   "source": [
    "mean_predictions = [target_train.mean()]*len(features_test)\n",
    "\n",
    "rmse_mean = mean_squared_error(target_test, mean_predictions)**0.5\n",
    "r2_mean = r2_score(target_test, mean_predictions)\n",
    "print(f'RMSE = {rmse_mean}')\n",
    "print(f'R2 = {r2_mean}')"
   ]
  },
  {
   "cell_type": "markdown",
   "metadata": {},
   "source": [
    "<div align=\"justify\"> <i> Сопоставим итоговые RSME, полученные по модели градиентного бустинга из библиотек CatBoost и LightGBM, с RSME по среднему значению, и определим на сколько лучше модели предсказывают по сравнению со средним значением."
   ]
  },
  {
   "cell_type": "code",
   "execution_count": 72,
   "metadata": {},
   "outputs": [],
   "source": [
    "percent_list = [100, rmse_mean/rmse_CatBoost_default*100, rmse_mean/rmse_CatBoost_optimus*100, rmse_mean/rmse_LightGBM_default*100, rmse_mean/rmse_LightGBM_optimus*100]\n",
    "model_names = ['Mean', 'CatBoost_default', 'CatBoost_optimus', 'LightGBM_default', 'LightGBM_optimus']"
   ]
  },
  {
   "cell_type": "code",
   "execution_count": 73,
   "metadata": {},
   "outputs": [
    {
     "data": {
      "image/png": "[encoded data removed]",
      "text/plain": [
       "<Figure size 432x288 with 1 Axes>"
      ]
     },
     "metadata": {
      "needs_background": "light"
     },
     "output_type": "display_data"
    }
   ],
   "source": [
    "ax = sns.barplot(x=model_names, y=percent_list, palette=PALETTE)\n",
    "ax.set(ylabel='%')\n",
    "ax.set_xticklabels(ax.get_xticklabels(), rotation=90)\n",
    "\n",
    "for patch in ax.patches:\n",
    "    h = patch.get_height()\n",
    "    ax.text(patch.get_x() + patch.get_width() / 2., h, f\"{h:.{2}f}\", ha='center', va='bottom')\n",
    "\n",
    "plt.show()"
   ]
  },
  {
   "cell_type": "markdown",
   "metadata": {},
   "source": [
    "<div style = \"border:solid #a1b5c9 2px; padding: 20px; background: #f0f0f0\" align=\"justify\"> Модель градиентного бустинга из библиотеки CatBoost с подобранными гиперпарметрами на тестовой выборке также показала наилучший результат.<br>\n",
    "Сервис по продаже автомобилей с пробегом «Не бит, не крашен» должен быть доволен, т.к. итоговая модель предсказывает цену автомобиля точнее модели по среднему по параметру RMSE на ~150%.\n",
    "<br>По времени предсказания итоговая модель также оказалась лучше."
   ]
  },
  {
   "cell_type": "markdown",
   "metadata": {},
   "source": [
    "<div align=\"justify\"> <i> Оценим какие факторы больше всего влияют на цену подержаного автомобиля для выбранной модели."
   ]
  },
  {
   "cell_type": "code",
   "execution_count": 74,
   "metadata": {},
   "outputs": [
    {
     "data": {
      "image/png": "[encoded data removed]",
      "text/plain": [
       "<Figure size 432x288 with 1 Axes>"
      ]
     },
     "metadata": {
      "needs_background": "light"
     },
     "output_type": "display_data"
    }
   ],
   "source": [
    "feature_importances = dict(zip(features_train.columns, model_cat_optimus.feature_importances_))\n",
    "feature_importances = dict(sorted(feature_importances.items(), key=lambda x: x[1], reverse=True))\n",
    "\n",
    "ax = sns.barplot(x=list(feature_importances.keys()), y=list(feature_importances.values()), palette=PALETTE)\n",
    "ax.set(ylabel='%')\n",
    "ax.set_xticklabels(ax.get_xticklabels(), rotation=90)\n",
    "\n",
    "for patch in ax.patches:\n",
    "    h = patch.get_height()\n",
    "    ax.text(patch.get_x() + patch.get_width() / 2., h, f\"{h:.{2}f}\", ha='center', va='bottom')\n",
    "\n",
    "plt.show()"
   ]
  },
  {
   "cell_type": "markdown",
   "metadata": {},
   "source": [
    "<div style = \"border:solid #a1b5c9 2px; padding: 20px; background: #f0f0f0\" align=\"justify\"> Больше всего на цену автомобиля влияет год выпуска автомобиля с весом 29.86%. Как только машина выехала из салона, она уже теряет в цена, не гворя уже о поддержаных автомобилях. Далее три фактора с близкими весами ~15% (мощность, бренд и тип автомобиля) и километраж с ~9%. Все остальные факторы имеют близкие к 5% или менее веса."
   ]
  },
  {
   "cell_type": "markdown",
   "metadata": {},
   "source": [
    "# 5. Общий вывод <a name=\"step5\"></a>"
   ]
  },
  {
   "cell_type": "markdown",
   "metadata": {},
   "source": [
    "<div style = \"border:solid #a1b5c9 2px; padding: 20px; background: #f0f0f0\" align=\"justify\">\n",
    "1. При выгрузке данных были обнаружены пропуски, не соответствия данных форматам, аномальные значения<br>\n",
    "2. Выполнена подготовка данных. <br>\n",
    "2.1. Найдены и убраны аномальные значения <br>\n",
    "2.2. Заполнены пропуски в числовых признаках. <br>\n",
    "2.3. Подготовлены обучающая и тестовая выборки для моделей. <br>  \n",
    "3. Рассмотрены различные модели для предсказания рыночной стоимости поддержаных автомобилей.<br>\n",
    "3.1. При дефолтных настройках модели, чуть выше RMSE у модели из библиотеки CatBoost. Однако она проигрывает по времени модели из библиотеки LightGBM. <br>\n",
    "3.2. Лучшая модель по метрикам модель из библиотеки CatBoost со следующими гиперпарметрами: iterations = 300,  depth=10, learning_rate=0.1.<br>\n",
    "3.3. Выбранная модель также показала лучший результат на тестовой выборке. Итоговая модель модель предсказывает цену автомобиля точнее модели по среднему по параметру RMSE на ~150%. По времени предсказания итоговая модель также оказалась лучше.<br>\n",
    "3.4. Больше всего на цену автомобиля влияет год выпуска автомобиля с весом 29.86%. Как только машина выехала из салона, она уже теряет в цена, не гворя уже о поддержаных автомобилях. Далее три фактора с близкими весами ~15% (мощность, бренд и тип автомобиля) и километраж с ~9%. Все остальные факторы имеют близкие к 5% или менее веса."
   ]
  }
 ],
 "metadata": {
  "kernelspec": {
   "display_name": "Python 3",
   "language": "python",
   "name": "python3"
  },
  "language_info": {
   "codemirror_mode": {
    "name": "ipython",
    "version": 3
   },
   "file_extension": ".py",
   "mimetype": "text/x-python",
   "name": "python",
   "nbconvert_exporter": "python",
   "pygments_lexer": "ipython3",
   "version": "3.7.6"
  }
 },
 "nbformat": 4,
 "nbformat_minor": 2
}
